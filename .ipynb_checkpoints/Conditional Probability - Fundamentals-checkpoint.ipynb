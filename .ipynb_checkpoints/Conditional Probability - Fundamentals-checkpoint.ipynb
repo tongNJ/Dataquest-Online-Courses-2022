{
 "cells": [
  {
   "cell_type": "markdown",
   "metadata": {},
   "source": [
    "In the previous course, we covered the fundamentals of probability and learned about:\n",
    "\n",
    "- Theoretical and empirical probabilities\n",
    "\n",
    "- Probability rules (the addition rule and the multiplication rule)\n",
    "\n",
    "- Counting techniques (the rule of product, permutations, and combinations)\n",
    "\n",
    "\n",
    "In this course, we'll build on what we've learned and develop new techniques that will enable us to better estimate probabilities. Our focus for the entire course will be on learning how to calculate probabilities based on certain conditions — hence the name conditional probability.\n",
    "\n",
    "By the end of this course, we'll be able to:\n",
    "\n",
    "- Assign probabilities to events based on certain conditions by using conditional probability rules.\n",
    "\n",
    "- Assign probabilities to events based on whether they are in a relationship of statistical independence or not with other events.\n",
    "\n",
    "- Assign probabilities to events based on prior knowledge by using Bayes' theorem.\n",
    "\n",
    "- Create a spam filter for SMS messages using the multinomial Naive Bayes algorithm."
   ]
  },
  {
   "cell_type": "markdown",
   "metadata": {},
   "source": [
    "\n",
    "---------------------------------------------------------------------------------------------------------------------\n",
    "\n",
    "Now suppose the die is rolled and we're told some new information: the die showed an odd number (1, 3, or 5) after landing. Is the probability of getting a 5 still P(5)=1/6? \n",
    "\n",
    "Or should we instead update the probability based on the information we have?\n",
    "\n",
    " \n",
    "Ω = {1,2,3,4,5,6}  ==>   Ω = {1,3,5}\n",
    "\n",
    "Therefore, knowing the die showed an add number, the probability of getting 5 is P(5) = 1/3\n",
    "\n",
    "\n",
    "For notation simplicity, P(5 given the die showed an odd number) becomes **P(5|odd)**. The vertical bar character ( | ) should be read as \"given.\" We can read P(5|odd) as \"the probability of getting a 5 given that the die showed an odd number.\"\n",
    "\n",
    "\n",
    "Say we roll a fair six-sided die and want to find the probability of getting an odd number, given the die showed a number greater than 1 after landing. Using probability notation, we want to find P(A|B) where:\n",
    "\n",
    "- A is the event that the number is odd: A = {1, 3, 5}\n",
    "- B is the event that the number is greater than 1: B = {2, 3, 4, 5, 6}\n",
    "\n",
    "\n",
    "To find P(A|B), we need to use the following formula:\n",
    "\n",
    "**P(A|B) = number of successful outcomes / total number of possible outcomes**\n",
    "\n",
    "\n",
    "We know for sure event B happened (the number is greater than 1), so the sample space is reduced from {1, 2, 3, 4, 5, 6} to {2, 3, 4, 5, 6}:\n",
    "\n",
    "\n",
    "The total number of possible outcomes above is given by the number of elements in the reduced sample space Ω={2,3,4,5,6} — there are five elements.\n",
    "\n",
    "The number of elements in a set is called the **cardinal** of the set. Ω is a set, and the **cardinal of Ω={2,3,4,5,6} is**:\n",
    "\n",
    "**cardinal(Ω) = 5**\n",
    "\n",
    "\n",
    "In set notation, cardinal(Ω) is abbreviated as **card(Ω)**, so we have:\n",
    "\n",
    "total number of possible outcomes = **card(Ω) = 5**\n",
    "\n",
    "\n",
    "\n",
    "The only possible odd numbers we can get are only 3 and 5, and the number of possible successful outcomes is also given by the cardinal of the set {3, 5}:\n",
    "\n",
    "number of successful outcomes = 2 = card({3,5})\n",
    "\n",
    "\n",
    "### **P(A|B) = card(A∩B)/card(B) = 2/5**\n"
   ]
  },
  {
   "cell_type": "markdown",
   "metadata": {},
   "source": [
    "\n",
    "--------------------------------------------------\n",
    "Two fair six-sided dice are simultaneously rolled, and the two numbers they show are added together. The diagram below shows all the possible results that we can get from adding the two numbers together.\n",
    "\n",
    "![probability-pic-1](https://raw.githubusercontent.com/tongNJ/Dataquest-Online-Courses-2022/main/Pictures/probability-pic-1.PNG)\n",
    "\n",
    "\n",
    "Find P(A|B), where A is the event where the sum is an even number, and B is the event that the sum is less than eight."
   ]
  },
  {
   "cell_type": "code",
   "execution_count": 1,
   "metadata": {},
   "outputs": [],
   "source": [
    "def two_dice_sum():\n",
    "    total = []\n",
    "    for i in range(1,7):\n",
    "        for j in range(1,7):\n",
    "            _sum = i+j\n",
    "            total.append(_sum)\n",
    "    return total\n"
   ]
  },
  {
   "cell_type": "code",
   "execution_count": 21,
   "metadata": {},
   "outputs": [
    {
     "name": "stdout",
     "output_type": "stream",
     "text": [
      "card(b) = 21\n",
      "card(a_and_b) = 9\n",
      "P(A|B) = card(a and b) / card(b) = 42.86%\n"
     ]
    }
   ],
   "source": [
    "card_b=0 \n",
    "card_a_and_b = 0\n",
    "for i in two_dice_sum():\n",
    "    if i < 8:\n",
    "        card_b += 1\n",
    "        if i%2==0:\n",
    "            card_a_and_b +=1\n",
    "\n",
    "print('card(b) = ' + str(card_b))\n",
    "print('card(a_and_b) = ' + str(card_a_and_b))\n",
    "print(f'P(A|B) = card(a and b) / card(b) = {round(card_a_and_b/card_b*100,2)}%')"
   ]
  },
  {
   "cell_type": "markdown",
   "metadata": {},
   "source": [
    "----------------------------------------------------------------------------------------------------------\n",
    "A team of biologists wants to measure the efficiency of a new HIV test they developed (HIV is a virus that causes AIDS, a disease which affects the immune system). They used the new method to test 53 people, and the results are summarized in the table below:\n",
    "\n",
    "![probability-pic-8](https://raw.githubusercontent.com/tongNJ/Dataquest-Online-Courses-2022/main/Pictures/probability-pic-8.PNG)\n",
    "\n",
    "\n",
    "By reading the table above, we can see that:\n",
    "\n",
    "- 23 people are infected with HIV.\n",
    "- 30 people are not infected with HIV (HIVC means not infected with HIV — recall from the previous course that the superscript \"C\" indicates a set complement).\n",
    "- 45 people tested positive for HIV .\n",
    "- 8 people tested negative for HIV.\n",
    "- Out of the 23 infected people, 21 tested positive (correct diagnosis).\n",
    "- Out of the 30 not-infected people, 24 tested positive (wrong diagnosis).\n",
    "\n",
    "\n",
    "The team now intends to use these results to calculate probabilities for new patients and figure out whether the test is reliable enough to use in hospitals. They want to know:\n",
    "\n",
    "1. What is the probability of testing positive, given that a patient is infected with HIV?\n",
    "\n",
    "\n",
    "2. What is the probability of testing negative, given that a patient is not infected with HIV?"
   ]
  },
  {
   "cell_type": "code",
   "execution_count": 24,
   "metadata": {},
   "outputs": [
    {
     "name": "stdout",
     "output_type": "stream",
     "text": [
      "The probability of testing positive, given that a patient is fected with HIV is 91.3%\n"
     ]
    }
   ],
   "source": [
    "#Q1 What is the probability of testing positive, given that a patient is infected with HIV?\n",
    "# P(T+ | HIV+) = card(T+ ∩ HIV+) / card(HIV+)\n",
    "\n",
    "card_HIV = 23 # there are 23 people infected with HIV\n",
    "card_positive_and_HIV = 21 # out of 23 infected people, 21 people were tested positive\n",
    "\n",
    "P_T_given_HIV = card_positive_and_HIV /card_HIV \n",
    "\n",
    "print(f'The probability of testing positive, given that a patient is infected with HIV is {round(P_T_given_HIV*100,2)}%')"
   ]
  },
  {
   "cell_type": "code",
   "execution_count": 25,
   "metadata": {},
   "outputs": [
    {
     "name": "stdout",
     "output_type": "stream",
     "text": [
      "The probability of testing negative, given that a patient is not infected with HIV is 20.0%\n"
     ]
    }
   ],
   "source": [
    "#Q2 What is the probability of testing negative, given that a patient is not infected with HIV?\n",
    "# P(T- | HIV-) = card(T- ∩ HIV-) / card(HIV-)\n",
    "card_no_HIV = 30\n",
    "card_negative_and_no_HIV = 6\n",
    "\n",
    "P_T_given_no_HIV = card_negative_and_no_HIV / card_no_HIV\n",
    "\n",
    "print(f'The probability of testing negative, given that a patient is not infected with HIV is {round(P_T_given_no_HIV*100,2)}%')"
   ]
  },
  {
   "cell_type": "code",
   "execution_count": 26,
   "metadata": {},
   "outputs": [
    {
     "data": {
      "text/plain": [
       "'\\nThe probability of testing negative given that a patient is not\\ninfected with HIV is 20%. This means that for every 10,000 healthy\\npatients, only about 2000 will get a correct diagnosis, while the\\nother 8000 will not. It looks like the test is almost completely\\ninefficient, and it could be dangerous to have it used in hospitals.\\n'"
      ]
     },
     "execution_count": 26,
     "metadata": {},
     "output_type": "execute_result"
    }
   ],
   "source": [
    "'''\n",
    "The probability of testing negative given that a patient is not\n",
    "infected with HIV is 20%. This means that for every 10,000 healthy\n",
    "patients, only about 2000 will get a correct diagnosis, while the\n",
    "other 8000 will not. It looks like the test is almost completely\n",
    "inefficient, and it could be dangerous to have it used in hospitals.\n",
    "'''"
   ]
  },
  {
   "cell_type": "markdown",
   "metadata": {},
   "source": [
    "\n",
    "--------------------------------------------------------------------------------------------------\n",
    "A company offering a browser-based task manager tool intends to do some targeted advertising based on people's browsers. The data they collected about their users is described in the table below:\n",
    "\n",
    "![probability-pic-9](https://raw.githubusercontent.com/tongNJ/Dataquest-Online-Courses-2022/main/Pictures/probability-pic-9.PNG)\n",
    "\n",
    "Find:\n",
    "\n",
    "1. P(Premium | Chrome) — the probability that a randomly chosen user has a premium subscription, provided their browser is Chrome. Assign your answer to **p_premium_given_chrome**.\n",
    "\n",
    "\n",
    "2. P(Basic | Safari) — the probability that a randomly chosen user has a basic subscription, provided their browser is Safari. Assign your answer to **p_basic_given_safari**.\n",
    "\n",
    "\n",
    "3. P(Free | Firefox)} — the probability that a randomly chosen user has a free subscription, provided their browser is Firefox. Assign your answer to **p_free_given_firefox**.\n",
    "\n",
    "\n",
    "4. Between a Chrome user and a Safari user, who is more likely to have a premium subscription? If you think a Chrome user is the answer, then assign the string 'Chrome' to a variable named more_likely_premium, otherwise assign 'Safari'. To solve this exercise, you'll also need to calculate **P(Premium | Safari)**."
   ]
  },
  {
   "cell_type": "code",
   "execution_count": 29,
   "metadata": {},
   "outputs": [
    {
     "name": "stdout",
     "output_type": "stream",
     "text": [
      "The probability that a randomly chosen user has a premium subscription, \n",
      "provided their browser is Chrome = 5.72%\n"
     ]
    }
   ],
   "source": [
    "# Q1 - the probability that a randomly chosen user has a premium subscription, provided their browser is Chrome\n",
    "# p_premium_given_chrome = P(premium ∩ Chrome) / P (Chrome)\n",
    "p_premium_given_chrome = (158/6385) / (2762/6385)\n",
    "print(f'''The probability that a randomly chosen user has a premium subscription, \n",
    "provided their browser is Chrome = {round(p_premium_given_chrome*100,2)}%''')"
   ]
  },
  {
   "cell_type": "code",
   "execution_count": 32,
   "metadata": {},
   "outputs": [
    {
     "name": "stdout",
     "output_type": "stream",
     "text": [
      "The probability that a randomly chosen user has a basic subscription, \n",
      "provided their browser is Safari = 21.27%\n"
     ]
    }
   ],
   "source": [
    "#Q2 - the probability that a randomly chosen user has a basic subscription, provided their browser is Safari.\n",
    "p_basic_given_safari = 274/1288\n",
    "print(f'''The probability that a randomly chosen user has a basic subscription, \n",
    "provided their browser is Safari = {round(p_basic_given_safari*100,2)}%''')"
   ]
  },
  {
   "cell_type": "code",
   "execution_count": 33,
   "metadata": {},
   "outputs": [
    {
     "name": "stdout",
     "output_type": "stream",
     "text": [
      "The probability that a randomly chosen user has a free subscription, \n",
      "provided their browser is Firefox = 92.04%\n"
     ]
    }
   ],
   "source": [
    "#Q3 - the probability that a randomly chosen user has a free subscription, provided their browser is Firefox\n",
    "p_free_given_firefox = 2103/2285\n",
    "print(f'''The probability that a randomly chosen user has a free subscription, \n",
    "provided their browser is Firefox = {round(p_free_given_firefox*100,2)}%''')"
   ]
  },
  {
   "cell_type": "code",
   "execution_count": 36,
   "metadata": {},
   "outputs": [
    {
     "name": "stdout",
     "output_type": "stream",
     "text": [
      "The probability that a randomly chosen user has a premium subscription, \n",
      "provided their browser is Safari = 9.32%\n",
      "\n",
      "\n",
      "Safari users are more likely to choose Premium subscription\n"
     ]
    }
   ],
   "source": [
    "#Q4 - Between a Chrome user and a Safari user, who is more likely to have a premium subscription?\n",
    "p_premium_given_safari = 120/1288\n",
    "print(f'''The probability that a randomly chosen user has a premium subscription, \n",
    "provided their browser is Safari = {round(p_premium_given_safari*100,2)}%''' )\n",
    "print('\\n')\n",
    "print('Safari users are more likely to choose Premium subscription')"
   ]
  },
  {
   "cell_type": "markdown",
   "metadata": {},
   "source": [
    "### Quick important summary\n",
    "\n",
    "- P(A) means finding the probability of A\n",
    "\n",
    "- P(A|B) means finding the conditional probability of A (given that B occurs)\n",
    "\n",
    "- P(A ∩ B) means finding the probability that both A and B occur\n",
    "\n",
    "- P(A ∪ B) means finding the probability that A occurs or B occurs (this doesn't exclude the situation where both A and B occur)"
   ]
  },
  {
   "cell_type": "markdown",
   "metadata": {},
   "source": [
    "\n",
    "#### Test\n",
    "\n",
    "Suppose we have a bowl with **six green marbles** and **four red marbles**. If we're drawing one marble at a time randomly and **without replacement** (without replacement means we don't put the marbles drawn back in the bowl), then what's the probability of getting a red marble on the first draw, followed by a green marble on the second draw?"
   ]
  },
  {
   "cell_type": "code",
   "execution_count": 1,
   "metadata": {},
   "outputs": [
    {
     "name": "stdout",
     "output_type": "stream",
     "text": [
      "0.26666666666666666\n"
     ]
    }
   ],
   "source": [
    "#P(1st_red) = total marbles in red / total marbles\n",
    "p_1st_red = 4/10\n",
    "\n",
    "#P(2nd_green) = total marbles in green / total marbles after one being drawn\n",
    "p_2nd_green = 6/9\n",
    "\n",
    "#P(1st draw red followed by 2nd draw green) = P(1st_red) * P(2nd_green)\n",
    "p_1st_red_2nd_green = p_1st_red * p_2nd_green\n",
    "\n",
    "print(p_1st_red_2nd_green)"
   ]
  },
  {
   "cell_type": "markdown",
   "metadata": {},
   "source": [
    "In probability notation, we want to find P(A ∩ B), where:\n",
    "\n",
    "- A is the event that we get a red marble on the first draw\n",
    "- B is the event that we get a green marble on the second draw\n",
    "\n",
    "In this case, we don't have a table anymore that we can use to calculate P(A ∩ B). However, we can find a solution by using the conditional probability formula to develop a separate formula for P(A ∩ B). Using a little algebra, we have:\n",
    "\n",
    "![probability-pic-10](https://raw.githubusercontent.com/tongNJ/Dataquest-Online-Courses-2022/main/Pictures/probability-pic-10.PNG)\n",
    "\n",
    "\n",
    "Above, we used P(A|B) to develop our formula, but note that we can also use P(B|A):\n",
    "\n",
    "![probability-pic-11](https://raw.githubusercontent.com/tongNJ/Dataquest-Online-Courses-2022/main/Pictures/probability-pic-11.PNG)\n",
    "\n",
    "\n",
    "Note that A ∩ B = B ∩ A, which means that P(A∩B) = P(B∩A). As a consequence, we have two different formulas we can use to calculate P(A ∩ B):\n",
    "\n",
    "\n",
    "![probability-pic-12](https://raw.githubusercontent.com/tongNJ/Dataquest-Online-Courses-2022/main/Pictures/probability-pic-12.PNG)\n",
    "\n",
    "### Either of the two formulas above is called the multiplication rule of probability — or, in short, the multiplication rule.\n",
    "\n",
    "#### Exercise below\n",
    "\n",
    "- The probability that a customer buys RAM memory from an electronics store is P(RAM) = 0.0822.\n",
    "\n",
    "- The probability that a customer buys a gaming laptop is P(GL) = 0.0184.\n",
    "\n",
    "- The probability that a customer buys RAM memory given that they bought a gaming laptop is P(RAM | GL) = 0.0022.\n",
    "\n",
    "Calculate:\n",
    "\n",
    "1. P(GL ∩ RAM) — assign your answer to p_gl_and_ram.\n",
    "2. P($RAM^C$ | GL) — assign your answer to p_non_ram_given_gl.\n",
    "3. P(GL ∩ $RAM^C$) — assign your answer to p_gl_and_non_ram.\n",
    "4. P(GL ∪ RAM) — assign your answer to p_gl_or_ram."
   ]
  },
  {
   "cell_type": "code",
   "execution_count": 5,
   "metadata": {},
   "outputs": [
    {
     "name": "stdout",
     "output_type": "stream",
     "text": [
      "P(GL ∩ RAM) = 0.004%\n",
      "4.048e-05\n"
     ]
    }
   ],
   "source": [
    "# 1. P(GL ∩ RAM) — assign your answer to p_gl_and_ram.\n",
    "#  P(GL ∩ RAM) = P(RAM∩ GL) = P(GL) * P (RAM | GL)\n",
    "p_ram = 0.0822\n",
    "p_gl = 0.0184\n",
    "p_ram_given_gl = 0.0022\n",
    "\n",
    "p_gl_and_ram = p_gl * p_ram_given_gl\n",
    "print(f'P(GL ∩ RAM) = {round(p_gl_and_ram*100,4)}%')"
   ]
  },
  {
   "cell_type": "code",
   "execution_count": 13,
   "metadata": {},
   "outputs": [
    {
     "name": "stdout",
     "output_type": "stream",
     "text": [
      "P(no_RAM | GL) = 99.78%\n"
     ]
    }
   ],
   "source": [
    "# 2. P(no_RAM | GL) — assign your answer to p_non_ram_given_gl.\n",
    "# P(no_RAM | GL) = P(no_RAM ∩ GL) / P(GL) = 1 - P(RAM ∩ GL)\n",
    "p_non_ram_given_gl = 1 - p_ram_given_gl\n",
    "print(f'P(no_RAM | GL) = {round(p_non_ram_given_gl*100,4)}%')"
   ]
  },
  {
   "cell_type": "code",
   "execution_count": 14,
   "metadata": {},
   "outputs": [
    {
     "name": "stdout",
     "output_type": "stream",
     "text": [
      "P(GL ∩ no_RAM) = 1.836%\n"
     ]
    }
   ],
   "source": [
    "# 3. P(GL ∩ no_RAM) — assign your answer to p_gl_and_non_ram.\n",
    "# P(GL ∩ no_RAM) = P(no_RAM ∩ GL) = P(no_RAM | GL) * P(GL)\n",
    "p_gl_and_non_ram = p_non_ram_given_gl * p_gl\n",
    "print(f'P(GL ∩ no_RAM) = {round(p_gl_and_non_ram*100,4)}%')"
   ]
  },
  {
   "cell_type": "code",
   "execution_count": 15,
   "metadata": {},
   "outputs": [
    {
     "name": "stdout",
     "output_type": "stream",
     "text": [
      "P(GL ∪ RAM) = 10.056%\n"
     ]
    }
   ],
   "source": [
    "# 4. P(GL ∪ RAM) — assign your answer to p_gl_or_ram.\n",
    "# P(GL ∪ RAM) = P(GL) + P(RAM) - P(GL ∩ RAM)\n",
    "p_gl_or_ram = p_gl + p_ram - p_gl_and_ram\n",
    "print(f'P(GL ∪ RAM) = {round(p_gl_or_ram*100,4)}%')"
   ]
  },
  {
   "cell_type": "markdown",
   "metadata": {},
   "source": [
    "### Recall,  you might remember from the previous course that we introduced the multiplication rule in a slightly different way (notice there's no conditional probability involved in the formula below):\n",
    "\n",
    "#### P(A∩B) = P(A) ⋅ P(B)    - formula(2)\n",
    "\n",
    "#### but we just learnt that the formula(1),\n",
    "\n",
    "![probability-pic-12](https://raw.githubusercontent.com/tongNJ/Dataquest-Online-Courses-2022/main/Pictures/probability-pic-12.PNG)\n",
    "\n",
    "\n",
    "#### our question is in what circumstance that formula(1) = formula(2) ??\n",
    "\n",
    "Event A is getting a 5 on the first roll\n",
    "Event B is getting a 6 on the second roll)\n",
    "\n",
    "\n",
    "To clarify the difference, let's consider an example where we roll a fair six-sided die twice and want to find P(A ∩ B), where:\n",
    "\n",
    "- Event A is getting a 5 on the first roll\n",
    "- Event B is getting a 6 on the second roll\n",
    "\n",
    "Using formula(1), we have:\n",
    "**P(A∩B) = P(A) ⋅ P(B|A) = (1/6) ⋅ (1/6) = 1/36**\n",
    "\n",
    "Using formula(2), we have:\n",
    "**P(A∩B) = P(A) ⋅ P(B) = (1/6) ⋅ (1/6) = 1/36**\n",
    "\n",
    "In more general terms, if event A occurs and the probability of B remains unchanged and vice versa (A and B can be any events for any random experiment), then events A and B are said to be **statistically independent**  (although the term \"independent\" is more often used).\n",
    "\n",
    "\n",
    "- To prove two events are **dependent**, it's enough to **prove wrong** only one of these three relationships: \n",
    "  - P(A)=P(A∣B), \n",
    "  - P(B)=P(B∣A), \n",
    "  - and P(A∩B)= P(A)⋅P(B)."
   ]
  },
  {
   "cell_type": "markdown",
   "metadata": {},
   "source": [
    "\n",
    "-----------------------------------------------------------------------------------------------------------\n",
    "### Mutually independent\n",
    "\n",
    "We see events A, B, C are **mutually independent** only if they meet two conditions. \n",
    "- First, the condition of pairwise independence must hold:\n",
    "  - P(A∩B) = P(A) * P(B)\n",
    "  - P(A∩C) = P(A) * P(C)\n",
    "  - P(B∩C) = P(B) * P(C)\n",
    "\n",
    "\n",
    "- Second, events A, B, and C must be independent together:\n",
    "  - P(A∩B∩C) = P(A) * P(B) * P(C)\n",
    "\n",
    "\n",
    "If any of these two conditions are not fulfilled, then A, B, C are not mutually independent, and we cannot use the multiplication rule in the above form.\n",
    "\n",
    "What we really need is to develop a multiplication rule in terms of conditional probability that works correctly for cases where we have **three dependent events**.\n",
    "\n",
    "Let's start by recalling that:\n",
    "\n",
    "  **P(A∩B) = P(A) ⋅ P(B|A)**\n",
    "  \n",
    "  \n",
    "Note that we can think of P(A ∩ B ∩ C) as the probability of two events instead of three:\n",
    "\n",
    "![probability-pic-13](https://raw.githubusercontent.com/tongNJ/Dataquest-Online-Courses-2022/main/Pictures/probability-pic-13.PNG)\n",
    "\n",
    "\n",
    "Now we have a final multiplication rule we can use for cases where we have three mutually dependent events:\n",
    "\n",
    "  **P(A∩B∩C) = P(A) ⋅ P(B|A) ⋅ P(C|A∩B)**"
   ]
  },
  {
   "cell_type": "code",
   "execution_count": null,
   "metadata": {},
   "outputs": [],
   "source": []
  },
  {
   "cell_type": "code",
   "execution_count": 16,
   "metadata": {},
   "outputs": [
    {
     "data": {
      "text/plain": [
       "0.35555555555555557"
      ]
     },
     "execution_count": 16,
     "metadata": {},
     "output_type": "execute_result"
    }
   ],
   "source": [
    "32/90"
   ]
  },
  {
   "cell_type": "code",
   "execution_count": 17,
   "metadata": {},
   "outputs": [
    {
     "data": {
      "text/plain": [
       "0.045"
      ]
     },
     "execution_count": 17,
     "metadata": {},
     "output_type": "execute_result"
    }
   ],
   "source": [
    "90/2000"
   ]
  },
  {
   "cell_type": "code",
   "execution_count": null,
   "metadata": {},
   "outputs": [],
   "source": []
  }
 ],
 "metadata": {
  "kernelspec": {
   "display_name": "Python 3",
   "language": "python",
   "name": "python3"
  },
  "language_info": {
   "codemirror_mode": {
    "name": "ipython",
    "version": 3
   },
   "file_extension": ".py",
   "mimetype": "text/x-python",
   "name": "python",
   "nbconvert_exporter": "python",
   "pygments_lexer": "ipython3",
   "version": "3.7.3"
  }
 },
 "nbformat": 4,
 "nbformat_minor": 2
}
