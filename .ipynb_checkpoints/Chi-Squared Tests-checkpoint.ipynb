{
 "cells": [
  {
   "cell_type": "markdown",
   "id": "189efd35",
   "metadata": {},
   "source": [
    "# Chi-Squared Tests\n",
    "\n",
    "In this lesson, we'll learn about the chi-squared test for categorical data. This test allows us to find the statistical significance of observing a set of categorical values.\n",
    "\n",
    "We'll work with data on U.S. income and demographics throughout this lesson.\n",
    "\n",
    "- We'll work with data on U.S. income and demographics throughout this lesson. Each row represents a single person who was counted in the 1990 US Census and contains information about their income and demographics. \n",
    "\n",
    "\n",
    "- The entire dataset has <font color='red'>32,561</font> rows, and is a sample of the full census. Of the rows, <font color='red'>10,771</font> are Female, and <font color='red'>21,790</font> are Male. These numbers may seem incorrect, because the full census shows that the U.S. is about <font color='red'>50%</font> Male and <font color='red'>50%</font> Female. Therefore, our expected values for number of Males and Females would be <font color='red'>16,280.5</font> each.\n",
    "\n",
    "\n",
    "We know that the numbers may seem incorrect, but we don't quite know how to find the numerical value for the observed and expected values. We also can't determine if there's a statistically significant difference between the two groups, and if we need to examine further.\n",
    "\n",
    "\n",
    "<font color='blue'>This is where a chi-squared test can help. The chi-squared test enables us to **quantify the difference between sets of observed and expected categorical values**. </font>"
   ]
  },
  {
   "cell_type": "code",
   "execution_count": 39,
   "id": "e5ad74e4",
   "metadata": {},
   "outputs": [
    {
     "name": "stdout",
     "output_type": "stream",
     "text": [
      "3.8.12 (default, Oct 12 2021, 06:23:56) \n",
      "[Clang 10.0.0 ]\n"
     ]
    },
    {
     "data": {
      "text/plain": [
       "20"
      ]
     },
     "execution_count": 39,
     "metadata": {},
     "output_type": "execute_result"
    }
   ],
   "source": [
    "import pandas as pd\n",
    "import numpy as np\n",
    "import matplotlib.pyplot as plt\n",
    "%matplotlib inline\n",
    "import sys\n",
    "print(sys.version)\n",
    "pd.options.display.max_columns"
   ]
  },
  {
   "cell_type": "markdown",
   "id": "768f55c0",
   "metadata": {},
   "source": [
    "On the last screen, our observed values were 10771 Females, and 21790 Males. Our expected values were 16280.5 Females and 16280.5 Males.\n",
    "\n",
    "- Compute the proportional difference in number of observed Females vs number of expected Females. Assign the result to female_diff.\n",
    "\n",
    "\n",
    "- Compute the proportional difference in number of observed Males vs number of expected Males. Assign the result to male_diff.\n"
   ]
  },
  {
   "cell_type": "code",
   "execution_count": 4,
   "id": "cb1412ff",
   "metadata": {},
   "outputs": [
    {
     "name": "stdout",
     "output_type": "stream",
     "text": [
      "(32561, 15)\n"
     ]
    },
    {
     "data": {
      "text/html": [
       "<div>\n",
       "<style scoped>\n",
       "    .dataframe tbody tr th:only-of-type {\n",
       "        vertical-align: middle;\n",
       "    }\n",
       "\n",
       "    .dataframe tbody tr th {\n",
       "        vertical-align: top;\n",
       "    }\n",
       "\n",
       "    .dataframe thead th {\n",
       "        text-align: right;\n",
       "    }\n",
       "</style>\n",
       "<table border=\"1\" class=\"dataframe\">\n",
       "  <thead>\n",
       "    <tr style=\"text-align: right;\">\n",
       "      <th></th>\n",
       "      <th>age</th>\n",
       "      <th>workclass</th>\n",
       "      <th>fnlwgt</th>\n",
       "      <th>education</th>\n",
       "      <th>education_num</th>\n",
       "      <th>marital_status</th>\n",
       "      <th>occupation</th>\n",
       "      <th>relationship</th>\n",
       "      <th>race</th>\n",
       "      <th>sex</th>\n",
       "      <th>capital_gain</th>\n",
       "      <th>capital_loss</th>\n",
       "      <th>hours_per_week</th>\n",
       "      <th>native_country</th>\n",
       "      <th>high_income</th>\n",
       "    </tr>\n",
       "  </thead>\n",
       "  <tbody>\n",
       "    <tr>\n",
       "      <th>0</th>\n",
       "      <td>39</td>\n",
       "      <td>State-gov</td>\n",
       "      <td>77516</td>\n",
       "      <td>Bachelors</td>\n",
       "      <td>13</td>\n",
       "      <td>Never-married</td>\n",
       "      <td>Adm-clerical</td>\n",
       "      <td>Not-in-family</td>\n",
       "      <td>White</td>\n",
       "      <td>Male</td>\n",
       "      <td>2174</td>\n",
       "      <td>0</td>\n",
       "      <td>40</td>\n",
       "      <td>United-States</td>\n",
       "      <td>&lt;=50K</td>\n",
       "    </tr>\n",
       "    <tr>\n",
       "      <th>1</th>\n",
       "      <td>50</td>\n",
       "      <td>Self-emp-not-inc</td>\n",
       "      <td>83311</td>\n",
       "      <td>Bachelors</td>\n",
       "      <td>13</td>\n",
       "      <td>Married-civ-spouse</td>\n",
       "      <td>Exec-managerial</td>\n",
       "      <td>Husband</td>\n",
       "      <td>White</td>\n",
       "      <td>Male</td>\n",
       "      <td>0</td>\n",
       "      <td>0</td>\n",
       "      <td>13</td>\n",
       "      <td>United-States</td>\n",
       "      <td>&lt;=50K</td>\n",
       "    </tr>\n",
       "    <tr>\n",
       "      <th>2</th>\n",
       "      <td>38</td>\n",
       "      <td>Private</td>\n",
       "      <td>215646</td>\n",
       "      <td>HS-grad</td>\n",
       "      <td>9</td>\n",
       "      <td>Divorced</td>\n",
       "      <td>Handlers-cleaners</td>\n",
       "      <td>Not-in-family</td>\n",
       "      <td>White</td>\n",
       "      <td>Male</td>\n",
       "      <td>0</td>\n",
       "      <td>0</td>\n",
       "      <td>40</td>\n",
       "      <td>United-States</td>\n",
       "      <td>&lt;=50K</td>\n",
       "    </tr>\n",
       "    <tr>\n",
       "      <th>3</th>\n",
       "      <td>53</td>\n",
       "      <td>Private</td>\n",
       "      <td>234721</td>\n",
       "      <td>11th</td>\n",
       "      <td>7</td>\n",
       "      <td>Married-civ-spouse</td>\n",
       "      <td>Handlers-cleaners</td>\n",
       "      <td>Husband</td>\n",
       "      <td>Black</td>\n",
       "      <td>Male</td>\n",
       "      <td>0</td>\n",
       "      <td>0</td>\n",
       "      <td>40</td>\n",
       "      <td>United-States</td>\n",
       "      <td>&lt;=50K</td>\n",
       "    </tr>\n",
       "    <tr>\n",
       "      <th>4</th>\n",
       "      <td>28</td>\n",
       "      <td>Private</td>\n",
       "      <td>338409</td>\n",
       "      <td>Bachelors</td>\n",
       "      <td>13</td>\n",
       "      <td>Married-civ-spouse</td>\n",
       "      <td>Prof-specialty</td>\n",
       "      <td>Wife</td>\n",
       "      <td>Black</td>\n",
       "      <td>Female</td>\n",
       "      <td>0</td>\n",
       "      <td>0</td>\n",
       "      <td>40</td>\n",
       "      <td>Cuba</td>\n",
       "      <td>&lt;=50K</td>\n",
       "    </tr>\n",
       "  </tbody>\n",
       "</table>\n",
       "</div>"
      ],
      "text/plain": [
       "   age          workclass  fnlwgt   education  education_num  \\\n",
       "0   39          State-gov   77516   Bachelors             13   \n",
       "1   50   Self-emp-not-inc   83311   Bachelors             13   \n",
       "2   38            Private  215646     HS-grad              9   \n",
       "3   53            Private  234721        11th              7   \n",
       "4   28            Private  338409   Bachelors             13   \n",
       "\n",
       "        marital_status          occupation    relationship    race      sex  \\\n",
       "0        Never-married        Adm-clerical   Not-in-family   White     Male   \n",
       "1   Married-civ-spouse     Exec-managerial         Husband   White     Male   \n",
       "2             Divorced   Handlers-cleaners   Not-in-family   White     Male   \n",
       "3   Married-civ-spouse   Handlers-cleaners         Husband   Black     Male   \n",
       "4   Married-civ-spouse      Prof-specialty            Wife   Black   Female   \n",
       "\n",
       "   capital_gain  capital_loss  hours_per_week  native_country high_income  \n",
       "0          2174             0              40   United-States       <=50K  \n",
       "1             0             0              13   United-States       <=50K  \n",
       "2             0             0              40   United-States       <=50K  \n",
       "3             0             0              40   United-States       <=50K  \n",
       "4             0             0              40            Cuba       <=50K  "
      ]
     },
     "execution_count": 4,
     "metadata": {},
     "output_type": "execute_result"
    }
   ],
   "source": [
    "df=pd.read_csv('Datasets/income.csv')\n",
    "print(df.shape)\n",
    "df.head()"
   ]
  },
  {
   "cell_type": "code",
   "execution_count": 15,
   "id": "0b105772",
   "metadata": {},
   "outputs": [
    {
     "name": "stdout",
     "output_type": "stream",
     "text": [
      "Observed females in survey are 10771, \n",
      "expected females are16280.5, \n",
      "proportional difference are -0.33841098246368356\n",
      "\n",
      "\n",
      "Observed males in survey are 21790, \n",
      "expected males are16280.5, \n",
      "proportional difference are 0.33841098246368356\n"
     ]
    }
   ],
   "source": [
    "n_males = df['sex'].value_counts(dropna=False)[0]\n",
    "n_females = df['sex'].value_counts(dropna=False)[1]\n",
    "\n",
    "exp_males = 16280.5\n",
    "exp_females = 16280.5\n",
    "\n",
    "female_diff = (n_females - exp_females)/exp_females\n",
    "male_diff = (n_males - exp_males)/exp_males\n",
    "\n",
    "print(f'''Observed females in survey are {n_females}, \n",
    "expected females are{exp_females}, \n",
    "proportional difference are {female_diff}''' )\n",
    "print('\\n')\n",
    "print(f'''Observed males in survey are {n_males}, \n",
    "expected males are{exp_males}, \n",
    "proportional difference are {male_diff}''' )\n",
    "\n"
   ]
  },
  {
   "cell_type": "markdown",
   "id": "3d702731",
   "metadata": {},
   "source": [
    "On the last screen, we got -0.338 for the Female difference, and 0.338 for the Male difference. These are great for finding individual differences for each category, but since both values add up to 0, they don't give us an accurate measure of how our overall observed counts deviate from the expected counts.\n",
    "\n",
    "No matter what numbers you type in for observed Male or Female counts, the differences between observed and expected will always add to 0, because the total observed count for Male and Female items always comes out to 32561. If the observed count of Females is high, the count of Males has to be low to compensate, and vice versa.\n",
    "\n",
    "\n",
    "What we really want to find is one number that can tell us how much all of our observed counts deviate from all of their expected counterparts. This helps us figure out if our difference in counts is statistically significant. We can get one step closer to this by squaring the top term in our difference formula:\n",
    "\n",
    "Squaring the difference will ensure that all the differences don't equal to zero (you can't have negative squares), giving us a number higher than zero we can use to assess statistical significance.\n",
    "\n",
    "We can calculate **$X^2$**, the chi-squared value, by adding the squared differences between observed and expected values."
   ]
  },
  {
   "cell_type": "code",
   "execution_count": 17,
   "id": "c276c384",
   "metadata": {},
   "outputs": [
    {
     "name": "stdout",
     "output_type": "stream",
     "text": [
      "Observed females in survey are 10771, \n",
      "expected females are16280.5, \n",
      "Chi-Squared value is 1864.4753078836645\n",
      "\n",
      "\n",
      "Observed males in survey are 21790, \n",
      "expected males are16280.5, \n",
      "Chi-Squared value is 1864.4753078836645\n",
      "\n",
      "\n",
      "Add male_diff and female_diff together and assign \n",
      "to the variable gender_chisq = 3728.950615767329\n"
     ]
    }
   ],
   "source": [
    "female_diff = (n_females - exp_females)**2/exp_females\n",
    "male_diff = (n_males - exp_males)**2/exp_males\n",
    "gender_chisq = female_diff + male_diff\n",
    "\n",
    "print(f'''Observed females in survey are {n_females}, \n",
    "expected females are{exp_females}, \n",
    "Chi-Squared value is {female_diff}''' )\n",
    "print('\\n')\n",
    "print(f'''Observed males in survey are {n_males}, \n",
    "expected males are{exp_males}, \n",
    "Chi-Squared value is {male_diff}''' )\n",
    "print('\\n')\n",
    "print(f'''Add male_diff and female_diff together and assign \n",
    "to the variable gender_chisq = {gender_chisq}''')"
   ]
  },
  {
   "cell_type": "code",
   "execution_count": 47,
   "id": "8395f571",
   "metadata": {},
   "outputs": [],
   "source": [
    "def chi_squared(n):\n",
    "    #in here we use np.random.random, assuming distribution is not uniform\n",
    "    rand_list = np.random.random(n)\n",
    "    # if <0.5, assign 0 and count how many\n",
    "    male_count = len([i for i in rand_list if i <0.5])\n",
    "    female_count = len(rand_list) - male_count\n",
    "    \n",
    "    male_diff = (male_count - exp_males)**2/exp_males\n",
    "    female_diff = (female_count - exp_females)**2/exp_females\n",
    "    \n",
    "    chi_squared_values = male_diff + female_diff\n",
    "    \n",
    "    return chi_squared_values"
   ]
  },
  {
   "cell_type": "code",
   "execution_count": 48,
   "id": "2df13956",
   "metadata": {},
   "outputs": [
    {
     "name": "stdout",
     "output_type": "stream",
     "text": [
      "[1.499984644206259, 9.122109271828261, 0.24326648444458093, 0.0024876385860385123, 0.7189275513651301]\n"
     ]
    }
   ],
   "source": [
    "chi_squared_values = []\n",
    "for _ in range(0,1000):\n",
    "    chi_squared_values.append(chi_squared(32561))\n",
    "print(chi_squared_values[:5])   "
   ]
  },
  {
   "cell_type": "code",
   "execution_count": 49,
   "id": "3092ab9b",
   "metadata": {},
   "outputs": [
    {
     "data": {
      "text/plain": [
       "(array([711., 159.,  67.,  28.,  18.,   7.,   4.,   3.,   1.,   2.]),\n",
       " array([3.07115875e-05, 1.10933325e+00, 2.21863579e+00, 3.32793833e+00,\n",
       "        4.43724087e+00, 5.54654341e+00, 6.65584595e+00, 7.76514849e+00,\n",
       "        8.87445103e+00, 9.98375357e+00, 1.10930561e+01]),\n",
       " <BarContainer object of 10 artists>)"
      ]
     },
     "execution_count": 49,
     "metadata": {},
     "output_type": "execute_result"
    },
    {
     "data": {
      "image/png": "[encoded data removed]",
      "text/plain": [
       "<Figure size 864x576 with 1 Axes>"
      ]
     },
     "metadata": {
      "needs_background": "light"
     },
     "output_type": "display_data"
    }
   ],
   "source": [
    "fig,ax = plt.subplots(figsize=(12,8))\n",
    "ax.hist(chi_squared_values)"
   ]
  },
  {
   "cell_type": "markdown",
   "id": "b266462a",
   "metadata": {},
   "source": [
    "On the last screen, our calculated chi-squared value (3728.95 from the survey) is greater than all the values in the distribution, so our <font color='red'>p-value is 0</font>, indicating that our result is <font color='red'>statistically significant</font>. You may recall from the last lesson that .05 is the typical threshold for statistical significance, and anything below it is considered significant.\n",
    "\n",
    "<font color='blue'>A significant value indicates that there's a difference between the observed and expected values, but it doesn't indicate what is different.</font>"
   ]
  },
  {
   "cell_type": "code",
   "execution_count": 54,
   "id": "2bc7f20f",
   "metadata": {},
   "outputs": [
    {
     "name": "stdout",
     "output_type": "stream",
     "text": [
      "max value in our distirbution is 11.093056110070329\n",
      "the Chi-Sqaured value from survey is 3728.950615767329\n",
      "\n",
      "This means that our chi-squared value is higher than 100% of all \n",
      "the values in the sampling distribution, so we get a p-value of 0. \n",
      "This means that there is a 0% chance that we could get such a result \n",
      "randomly.\n",
      "\n"
     ]
    }
   ],
   "source": [
    "print(f'max value in our distirbution is {np.max(chi_squared_values)}')\n",
    "print(f'the Chi-Sqaured value from survey is {gender_chisq}')\n",
    "print('''\n",
    "This means that our chi-squared value is higher than 100% of all \n",
    "the values in the sampling distribution, so we get a p-value of 0. \n",
    "This means that there is a 0% chance that we could get such a result \n",
    "randomly.\n",
    "''')"
   ]
  },
  {
   "cell_type": "code",
   "execution_count": 55,
   "id": "ce992dc9",
   "metadata": {},
   "outputs": [
    {
     "name": "stdout",
     "output_type": "stream",
     "text": [
      "[0.12, 1.92, 1.92, 0.3333333333333333, 0.013333333333333334, 1.92, 0.48, 0.12, 0.0, 0.12]\n"
     ]
    }
   ],
   "source": [
    "exp_females=150\n",
    "exp_males=150\n",
    "chi_squared_values=[]\n",
    "for _ in range(0,1000):\n",
    "    chi_squared_values.append(chi_squared(300))\n",
    "print(chi_squared_values[:10])"
   ]
  },
  {
   "cell_type": "code",
   "execution_count": 56,
   "id": "fffb08dd",
   "metadata": {},
   "outputs": [
    {
     "data": {
      "text/plain": [
       "(array([789., 121.,  57.,  18.,  13.,   0.,   0.,   1.,   0.,   1.]),\n",
       " array([ 0.   ,  1.452,  2.904,  4.356,  5.808,  7.26 ,  8.712, 10.164,\n",
       "        11.616, 13.068, 14.52 ]),\n",
       " <BarContainer object of 10 artists>)"
      ]
     },
     "execution_count": 56,
     "metadata": {},
     "output_type": "execute_result"
    },
    {
     "data": {
      "image/png": "[encoded data removed]",
      "text/plain": [
       "<Figure size 864x576 with 1 Axes>"
      ]
     },
     "metadata": {
      "needs_background": "light"
     },
     "output_type": "display_data"
    }
   ],
   "source": [
    "fig,ax=plt.subplots(figsize=(12,8))\n",
    "ax.hist(chi_squared_values)"
   ]
  },
  {
   "cell_type": "markdown",
   "id": "fd4ef079",
   "metadata": {},
   "source": [
    "When we were computing the chi-squared value earlier, we were working with 2 values that could vary, the number of Males and the number of Females. Only 1 of the values could vary. Since we already know the total number of values, 32561, if we set one of the values, the other has to be the difference between 32561 and the value we set.\n",
    "\n",
    "A **degree of freedom is the number of values that can vary without the other values being \"locked in\"**. In the case of our two categories, there is actually only one degree of freedom. Degrees of freedom are an important statistical concept that will come up repeatedly, both in this lesson and after.\n",
    "\n",
    "\n",
    "So far, we've only calculated chi-squared values for 2 categories and 1 degree of freedom. We can actually work with any number of categories, and any number of degrees of freedom. We can accomplish this using largely the same formula we've been using, but we will need to generate new sampling distributions for each number of degrees of freedom."
   ]
  },
  {
   "cell_type": "code",
   "execution_count": 61,
   "id": "a828ddf0",
   "metadata": {},
   "outputs": [
    {
     "data": {
      "text/plain": [
       " White                 27816\n",
       " Black                  3124\n",
       " Asian-Pac-Islander     1039\n",
       " Amer-Indian-Eskimo      311\n",
       " Other                   271\n",
       "Name: race, dtype: int64"
      ]
     },
     "execution_count": 61,
     "metadata": {},
     "output_type": "execute_result"
    }
   ],
   "source": [
    "race_series = df['race'].value_counts()\n",
    "race_series"
   ]
  },
  {
   "cell_type": "markdown",
   "id": "07e3af61",
   "metadata": {},
   "source": [
    "Here's a table showing expected and actual values for our income dataset:\n",
    "\n",
    "![chi-squared-pic-1](https://raw.githubusercontent.com/tongNJ/Dataquest-Online-Courses-2022/main/Pictures/chi-squared-pic-1.png)\n",
    "\n",
    "It looks like there's an error between the White and Other counts, but let's research further and calculate the chi-squared value."
   ]
  },
  {
   "cell_type": "code",
   "execution_count": 66,
   "id": "4cd70933",
   "metadata": {},
   "outputs": [
    {
     "name": "stdout",
     "output_type": "stream",
     "text": [
      "[106.60051058459067, 168.96185436178587, 9.49707720004237, 9.789827255278311, 785.6366671916837]\n",
      "sum of race_chisq is 1080.485936593381\n"
     ]
    }
   ],
   "source": [
    "race_expected = [26146.5,3939.9,944.3,260.5,1269.8]\n",
    "race_chisq = []\n",
    "\n",
    "i=0\n",
    "for each_race in race_series.items():\n",
    "    each_race_chisq = (each_race[1]-race_expected[i])**2/race_expected[i]\n",
    "    race_chisq.append(each_race_chisq)\n",
    "    i += 1\n",
    "print(race_chisq)\n",
    "print(f'sum of race_chisq is {sum(race_chisq)}')"
   ]
  },
  {
   "cell_type": "code",
   "execution_count": 69,
   "id": "a53214a8",
   "metadata": {},
   "outputs": [
    {
     "name": "stdout",
     "output_type": "stream",
     "text": [
      "Chi_Squared value for race category is 1080.485936593381 with P-Value equals to 1.2848494674873035e-232\n"
     ]
    }
   ],
   "source": [
    "from scipy.stats import chisquare\n",
    "chisquare_value,pvalue = chisquare(race_series,race_expected)\n",
    "print(f'Chi_Squared value for race category is {chisquare_value} with P-Value equals to {pvalue}')"
   ]
  },
  {
   "cell_type": "code",
   "execution_count": null,
   "id": "83beb0b1",
   "metadata": {},
   "outputs": [],
   "source": []
  }
 ],
 "metadata": {
  "kernelspec": {
   "display_name": "py38",
   "language": "python",
   "name": "py38"
  },
  "language_info": {
   "codemirror_mode": {
    "name": "ipython",
    "version": 3
   },
   "file_extension": ".py",
   "mimetype": "text/x-python",
   "name": "python",
   "nbconvert_exporter": "python",
   "pygments_lexer": "ipython3",
   "version": "3.8.12"
  }
 },
 "nbformat": 4,
 "nbformat_minor": 5
}
