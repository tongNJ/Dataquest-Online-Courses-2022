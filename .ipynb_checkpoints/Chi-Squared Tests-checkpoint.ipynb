{
 "cells": [
  {
   "cell_type": "markdown",
   "id": "757ba93a",
   "metadata": {},
   "source": [
    "# Chi-Squared Tests\n",
    "\n",
    "In this lesson, we'll learn about the chi-squared test for categorical data. This test allows us to find the statistical significance of observing a set of categorical values.\n",
    "\n",
    "We'll work with data on U.S. income and demographics throughout this lesson.\n",
    "\n",
    "- We'll work with data on U.S. income and demographics throughout this lesson. Each row represents a single person who was counted in the 1990 US Census and contains information about their income and demographics. \n",
    "\n",
    "\n",
    "- The entire dataset has <font color='red'>32,561</font> rows, and is a sample of the full census. Of the rows, <font color='red'>10,771</font> are Female, and <font color='red'>21,790</font> are Male. These numbers may seem incorrect, because the full census shows that the U.S. is about <font color='red'>50%</font> Male and <font color='red'>50%</font> Female. Therefore, our expected values for number of Males and Females would be <font color='red'>16,280.5</font> each.\n",
    "\n",
    "\n",
    "We know that the numbers may seem incorrect, but we don't quite know how to find the numerical value for the observed and expected values. We also can't determine if there's a statistically significant difference between the two groups, and if we need to examine further.\n",
    "\n",
    "\n",
    "<font color='blue'>This is where a chi-squared test can help. The chi-squared test enables us to **quantify the difference between sets of observed and expected categorical values**. </font>"
   ]
  },
  {
   "cell_type": "code",
   "execution_count": 3,
   "id": "75edfebf",
   "metadata": {},
   "outputs": [
    {
     "name": "stdout",
     "output_type": "stream",
     "text": [
      "3.8.12 (default, Oct 12 2021, 06:23:56) \n",
      "[Clang 10.0.0 ]\n"
     ]
    },
    {
     "data": {
      "text/plain": [
       "20"
      ]
     },
     "execution_count": 3,
     "metadata": {},
     "output_type": "execute_result"
    }
   ],
   "source": [
    "import pandas as pd\n",
    "import numpy as np\n",
    "import sys\n",
    "print(sys.version)\n",
    "pd.options.display.max_columns"
   ]
  },
  {
   "cell_type": "markdown",
   "id": "d87b522c",
   "metadata": {},
   "source": [
    "On the last screen, our observed values were 10771 Females, and 21790 Males. Our expected values were 16280.5 Females and 16280.5 Males.\n",
    "\n",
    "- Compute the proportional difference in number of observed Females vs number of expected Females. Assign the result to female_diff.\n",
    "\n",
    "\n",
    "- Compute the proportional difference in number of observed Males vs number of expected Males. Assign the result to male_diff.\n"
   ]
  },
  {
   "cell_type": "code",
   "execution_count": 4,
   "id": "d2497df3",
   "metadata": {},
   "outputs": [
    {
     "name": "stdout",
     "output_type": "stream",
     "text": [
      "(32561, 15)\n"
     ]
    },
    {
     "data": {
      "text/html": [
       "<div>\n",
       "<style scoped>\n",
       "    .dataframe tbody tr th:only-of-type {\n",
       "        vertical-align: middle;\n",
       "    }\n",
       "\n",
       "    .dataframe tbody tr th {\n",
       "        vertical-align: top;\n",
       "    }\n",
       "\n",
       "    .dataframe thead th {\n",
       "        text-align: right;\n",
       "    }\n",
       "</style>\n",
       "<table border=\"1\" class=\"dataframe\">\n",
       "  <thead>\n",
       "    <tr style=\"text-align: right;\">\n",
       "      <th></th>\n",
       "      <th>age</th>\n",
       "      <th>workclass</th>\n",
       "      <th>fnlwgt</th>\n",
       "      <th>education</th>\n",
       "      <th>education_num</th>\n",
       "      <th>marital_status</th>\n",
       "      <th>occupation</th>\n",
       "      <th>relationship</th>\n",
       "      <th>race</th>\n",
       "      <th>sex</th>\n",
       "      <th>capital_gain</th>\n",
       "      <th>capital_loss</th>\n",
       "      <th>hours_per_week</th>\n",
       "      <th>native_country</th>\n",
       "      <th>high_income</th>\n",
       "    </tr>\n",
       "  </thead>\n",
       "  <tbody>\n",
       "    <tr>\n",
       "      <th>0</th>\n",
       "      <td>39</td>\n",
       "      <td>State-gov</td>\n",
       "      <td>77516</td>\n",
       "      <td>Bachelors</td>\n",
       "      <td>13</td>\n",
       "      <td>Never-married</td>\n",
       "      <td>Adm-clerical</td>\n",
       "      <td>Not-in-family</td>\n",
       "      <td>White</td>\n",
       "      <td>Male</td>\n",
       "      <td>2174</td>\n",
       "      <td>0</td>\n",
       "      <td>40</td>\n",
       "      <td>United-States</td>\n",
       "      <td>&lt;=50K</td>\n",
       "    </tr>\n",
       "    <tr>\n",
       "      <th>1</th>\n",
       "      <td>50</td>\n",
       "      <td>Self-emp-not-inc</td>\n",
       "      <td>83311</td>\n",
       "      <td>Bachelors</td>\n",
       "      <td>13</td>\n",
       "      <td>Married-civ-spouse</td>\n",
       "      <td>Exec-managerial</td>\n",
       "      <td>Husband</td>\n",
       "      <td>White</td>\n",
       "      <td>Male</td>\n",
       "      <td>0</td>\n",
       "      <td>0</td>\n",
       "      <td>13</td>\n",
       "      <td>United-States</td>\n",
       "      <td>&lt;=50K</td>\n",
       "    </tr>\n",
       "    <tr>\n",
       "      <th>2</th>\n",
       "      <td>38</td>\n",
       "      <td>Private</td>\n",
       "      <td>215646</td>\n",
       "      <td>HS-grad</td>\n",
       "      <td>9</td>\n",
       "      <td>Divorced</td>\n",
       "      <td>Handlers-cleaners</td>\n",
       "      <td>Not-in-family</td>\n",
       "      <td>White</td>\n",
       "      <td>Male</td>\n",
       "      <td>0</td>\n",
       "      <td>0</td>\n",
       "      <td>40</td>\n",
       "      <td>United-States</td>\n",
       "      <td>&lt;=50K</td>\n",
       "    </tr>\n",
       "    <tr>\n",
       "      <th>3</th>\n",
       "      <td>53</td>\n",
       "      <td>Private</td>\n",
       "      <td>234721</td>\n",
       "      <td>11th</td>\n",
       "      <td>7</td>\n",
       "      <td>Married-civ-spouse</td>\n",
       "      <td>Handlers-cleaners</td>\n",
       "      <td>Husband</td>\n",
       "      <td>Black</td>\n",
       "      <td>Male</td>\n",
       "      <td>0</td>\n",
       "      <td>0</td>\n",
       "      <td>40</td>\n",
       "      <td>United-States</td>\n",
       "      <td>&lt;=50K</td>\n",
       "    </tr>\n",
       "    <tr>\n",
       "      <th>4</th>\n",
       "      <td>28</td>\n",
       "      <td>Private</td>\n",
       "      <td>338409</td>\n",
       "      <td>Bachelors</td>\n",
       "      <td>13</td>\n",
       "      <td>Married-civ-spouse</td>\n",
       "      <td>Prof-specialty</td>\n",
       "      <td>Wife</td>\n",
       "      <td>Black</td>\n",
       "      <td>Female</td>\n",
       "      <td>0</td>\n",
       "      <td>0</td>\n",
       "      <td>40</td>\n",
       "      <td>Cuba</td>\n",
       "      <td>&lt;=50K</td>\n",
       "    </tr>\n",
       "  </tbody>\n",
       "</table>\n",
       "</div>"
      ],
      "text/plain": [
       "   age          workclass  fnlwgt   education  education_num  \\\n",
       "0   39          State-gov   77516   Bachelors             13   \n",
       "1   50   Self-emp-not-inc   83311   Bachelors             13   \n",
       "2   38            Private  215646     HS-grad              9   \n",
       "3   53            Private  234721        11th              7   \n",
       "4   28            Private  338409   Bachelors             13   \n",
       "\n",
       "        marital_status          occupation    relationship    race      sex  \\\n",
       "0        Never-married        Adm-clerical   Not-in-family   White     Male   \n",
       "1   Married-civ-spouse     Exec-managerial         Husband   White     Male   \n",
       "2             Divorced   Handlers-cleaners   Not-in-family   White     Male   \n",
       "3   Married-civ-spouse   Handlers-cleaners         Husband   Black     Male   \n",
       "4   Married-civ-spouse      Prof-specialty            Wife   Black   Female   \n",
       "\n",
       "   capital_gain  capital_loss  hours_per_week  native_country high_income  \n",
       "0          2174             0              40   United-States       <=50K  \n",
       "1             0             0              13   United-States       <=50K  \n",
       "2             0             0              40   United-States       <=50K  \n",
       "3             0             0              40   United-States       <=50K  \n",
       "4             0             0              40            Cuba       <=50K  "
      ]
     },
     "execution_count": 4,
     "metadata": {},
     "output_type": "execute_result"
    }
   ],
   "source": [
    "df=pd.read_csv('Datasets/income.csv')\n",
    "print(df.shape)\n",
    "df.head()"
   ]
  },
  {
   "cell_type": "code",
   "execution_count": 15,
   "id": "9cec3166",
   "metadata": {},
   "outputs": [
    {
     "name": "stdout",
     "output_type": "stream",
     "text": [
      "Observed females in survey are 10771, \n",
      "expected females are16280.5, \n",
      "proportional difference are -0.33841098246368356\n",
      "\n",
      "\n",
      "Observed males in survey are 21790, \n",
      "expected males are16280.5, \n",
      "proportional difference are 0.33841098246368356\n"
     ]
    }
   ],
   "source": [
    "n_males = df['sex'].value_counts(dropna=False)[0]\n",
    "n_females = df['sex'].value_counts(dropna=False)[1]\n",
    "\n",
    "exp_males = 16280.5\n",
    "exp_females = 16280.5\n",
    "\n",
    "female_diff = (n_females - exp_females)/exp_females\n",
    "male_diff = (n_males - exp_males)/exp_males\n",
    "\n",
    "print(f'''Observed females in survey are {n_females}, \n",
    "expected females are{exp_females}, \n",
    "proportional difference are {female_diff}''' )\n",
    "print('\\n')\n",
    "print(f'''Observed males in survey are {n_males}, \n",
    "expected males are{exp_males}, \n",
    "proportional difference are {male_diff}''' )\n",
    "\n"
   ]
  },
  {
   "cell_type": "markdown",
   "id": "9859dce5",
   "metadata": {},
   "source": [
    "On the last screen, we got -0.338 for the Female difference, and 0.338 for the Male difference. These are great for finding individual differences for each category, but since both values add up to 0, they don't give us an accurate measure of how our overall observed counts deviate from the expected counts.\n",
    "\n",
    "No matter what numbers you type in for observed Male or Female counts, the differences between observed and expected will always add to 0, because the total observed count for Male and Female items always comes out to 32561. If the observed count of Females is high, the count of Males has to be low to compensate, and vice versa.\n",
    "\n",
    "\n",
    "What we really want to find is one number that can tell us how much all of our observed counts deviate from all of their expected counterparts. This helps us figure out if our difference in counts is statistically significant. We can get one step closer to this by squaring the top term in our difference formula:\n",
    "\n",
    "Squaring the difference will ensure that all the differences don't equal to zero (you can't have negative squares), giving us a number higher than zero we can use to assess statistical significance.\n",
    "\n",
    "We can calculate **$X^2$**, the chi-squared value, by adding the squared differences between observed and expected values."
   ]
  },
  {
   "cell_type": "code",
   "execution_count": 17,
   "id": "09d5b546",
   "metadata": {},
   "outputs": [
    {
     "name": "stdout",
     "output_type": "stream",
     "text": [
      "Observed females in survey are 10771, \n",
      "expected females are16280.5, \n",
      "Chi-Squared value is 1864.4753078836645\n",
      "\n",
      "\n",
      "Observed males in survey are 21790, \n",
      "expected males are16280.5, \n",
      "Chi-Squared value is 1864.4753078836645\n",
      "\n",
      "\n",
      "Add male_diff and female_diff together and assign \n",
      "to the variable gender_chisq = 3728.950615767329\n"
     ]
    }
   ],
   "source": [
    "female_diff = (n_females - exp_females)**2/exp_females\n",
    "male_diff = (n_males - exp_males)**2/exp_males\n",
    "gender_chisq = female_diff + male_diff\n",
    "\n",
    "print(f'''Observed females in survey are {n_females}, \n",
    "expected females are{exp_females}, \n",
    "Chi-Squared value is {female_diff}''' )\n",
    "print('\\n')\n",
    "print(f'''Observed males in survey are {n_males}, \n",
    "expected males are{exp_males}, \n",
    "Chi-Squared value is {male_diff}''' )\n",
    "print('\\n')\n",
    "print(f'''Add male_diff and female_diff together and assign \n",
    "to the variable gender_chisq = {gender_chisq}''')"
   ]
  },
  {
   "cell_type": "code",
   "execution_count": 36,
   "id": "db1c7cd6",
   "metadata": {},
   "outputs": [],
   "source": [
    "def chi_squared(n):\n",
    "    rand_list = np.random.rand(n)\n",
    "    # if <0.5, assign 0 and count how many\n",
    "    male_count = len([i for i in rand_list if i <0.5])\n",
    "    female_count = len(rand_list) - male_count\n",
    "    \n",
    "    male_diff = (male_count - exp_males)**2/exp_males\n",
    "    female_diff = (female_count - exp_females)**2/exp_females\n",
    "    \n",
    "    chi_squared_values = male_diff + female_diff\n",
    "    \n",
    "    return chi_squared_values"
   ]
  },
  {
   "cell_type": "code",
   "execution_count": 37,
   "id": "3b755a10",
   "metadata": {},
   "outputs": [],
   "source": [
    "chi_squared_values = []\n",
    "for _ in range(0,1000):\n",
    "    chi_squared_values.append(chi_squared(32561))\n",
    "    "
   ]
  },
  {
   "cell_type": "code",
   "execution_count": null,
   "id": "651ec806",
   "metadata": {},
   "outputs": [],
   "source": []
  },
  {
   "cell_type": "code",
   "execution_count": null,
   "id": "16059247",
   "metadata": {},
   "outputs": [],
   "source": []
  },
  {
   "cell_type": "code",
   "execution_count": null,
   "id": "8c927563",
   "metadata": {},
   "outputs": [],
   "source": []
  },
  {
   "cell_type": "code",
   "execution_count": null,
   "id": "33ff4107",
   "metadata": {},
   "outputs": [],
   "source": []
  }
 ],
 "metadata": {
  "kernelspec": {
   "display_name": "py38",
   "language": "python",
   "name": "py38"
  },
  "language_info": {
   "codemirror_mode": {
    "name": "ipython",
    "version": 3
   },
   "file_extension": ".py",
   "mimetype": "text/x-python",
   "name": "python",
   "nbconvert_exporter": "python",
   "pygments_lexer": "ipython3",
   "version": "3.8.12"
  }
 },
 "nbformat": 4,
 "nbformat_minor": 5
}
