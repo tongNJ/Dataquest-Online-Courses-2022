{
 "cells": [
  {
   "cell_type": "markdown",
   "metadata": {},
   "source": [
    "# Probability Rules\n",
    "\n",
    "In probability theory, the outcomes of a random experiment are usually represented as a set. For example, this is how we can represent the outcomes of a die roll as a set:\n",
    "\n",
    "Outcomes = {1,2,3,4,5,6}\n",
    "\n",
    "A set is a collection of distinct objects, which means each outcome must occur only once in a set:\n",
    "\n",
    "- {Heads, Tails} is an example of a valid set because all the elements are distinct.\n",
    "- {Heads, Heads} is not a proper set because two elements are identical.\n",
    "\n",
    "Notice we also use curly braces to write a set: {Heads, Tails} is a set, while [Heads, Tails] is not a set.\n",
    "\n",
    "In probability theory, the set of all possible outcomes is called a **sample space**. A sample space is often denoted by the capital Greek letter Ω (read \"omega\"). This is how we represent the sample space of a die roll:\n",
    "\n",
    "**Ω={1,2,3,4,5,6}**\n",
    "\n",
    "For the following exercise, we'll consider a random experiment where we roll a fair six-sided die two times (\"fair\" means all outcomes have equal chances of occurring). The sample space of this experiment has 36 possible outcomes (all the sequences of numbers we can get from the two throws):\n",
    "\n",
    "**Ω={(1,1),(1,2),(1,3),(1,4),(1,5),(1,6),(2,1),...,(6,5),(6,6)}**\n",
    "\n"
   ]
  },
  {
   "cell_type": "code",
   "execution_count": null,
   "metadata": {},
   "outputs": [],
   "source": []
  }
 ],
 "metadata": {
  "kernelspec": {
   "display_name": "Python 3",
   "language": "python",
   "name": "python3"
  },
  "language_info": {
   "codemirror_mode": {
    "name": "ipython",
    "version": 3
   },
   "file_extension": ".py",
   "mimetype": "text/x-python",
   "name": "python",
   "nbconvert_exporter": "python",
   "pygments_lexer": "ipython3",
   "version": "3.7.3"
  }
 },
 "nbformat": 4,
 "nbformat_minor": 2
}
