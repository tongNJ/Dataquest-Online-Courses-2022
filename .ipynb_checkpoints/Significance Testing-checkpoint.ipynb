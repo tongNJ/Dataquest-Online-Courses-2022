{
 "cells": [
  {
   "cell_type": "code",
   "execution_count": 10,
   "id": "de5ac9ce",
   "metadata": {},
   "outputs": [
    {
     "name": "stdout",
     "output_type": "stream",
     "text": [
      "3.8.12 (default, Oct 12 2021, 06:23:56) \n",
      "[Clang 10.0.0 ]\n"
     ]
    }
   ],
   "source": [
    "import sys\n",
    "print(sys.version)\n",
    "import pandas as pd\n",
    "import numpy as np\n",
    "import matplotlib.pyplot as plt\n",
    "%matplotlib inline"
   ]
  },
  {
   "cell_type": "markdown",
   "id": "95d39e3a",
   "metadata": {},
   "source": [
    "# Hypothesis Testing\n",
    "\n",
    "In this lesson, we'll learn about hypothesis testing and statistical significance. A hypothesis is a pattern or rule about a process that we can test. We use hypothesis testing to determine if a change we made had a meaningful impact or not.\n",
    "\n",
    "Hypothesis testing allows us to calculate the probability that random chance was responsible for the difference in outcome. Every process has some inherent amount of randomness that we can't measure and understanding the role of chance helps us reach a more likely conclusion.\n",
    "\n",
    "Let's begin with a **null hypothesis** that describes the status quo, then state an **alternative hypothesis**. We use the alternate hypothesis in comparison with the null hypothesis to decide which describes the data better. In the end, we need to do one of the folllowing:\n",
    "\n",
    "- Reject the null hypothesis\n",
    "- Fail to reject the null hypothesis"
   ]
  },
  {
   "cell_type": "markdown",
   "id": "601fc110",
   "metadata": {},
   "source": [
    "### Example\n",
    "\n",
    "- If a new weight loss pill helped people lose more weight:\n",
    "\n",
    "  - Null hypothesis: Patients who went on the weight loss pill didn't lose any additional weight compared to those who did not take the pill.\n",
    "\n",
    "  - Alternative hypothesis: Patients who went on the weight loss pill lost more weight than those who didn't.\n",
    "  \n",
    "\n",
    "To help us determine if the weight loss pill was effective, we conducted a study with 100 volunteers and split them into two groups randomly:\n",
    "\n",
    "- Group A received a placebo to consume on a daily basis.\n",
    "\n",
    "\n",
    "- Group B received the actual weight loss pill to consume on a daily basis.\n",
    "\n",
    "\n",
    "Both groups received instructions not to change anything else about their diets. Group A is referred to as the control group while group B is referred to as the treatment group. This type of study is called a blind experiment since the participants didn't know which pill they were receiving. This helps us reduce the potential bias that is introduced when participants know which pill they were given. For example, participants who are aware they are given the weight loss pill may try to add healthier foods to their diet to help them lose more weight. Both groups were weighed before the study began and a month after the study ended."
   ]
  },
  {
   "cell_type": "code",
   "execution_count": 3,
   "id": "fc1c0bf3",
   "metadata": {},
   "outputs": [],
   "source": [
    "file_loc='Datasets/weight_loss.csv'\n",
    "df = pd.read_csv(file_loc,header=None,names=['weight_lost_a','weight_lost_b'])"
   ]
  },
  {
   "cell_type": "code",
   "execution_count": 4,
   "id": "2a54483d",
   "metadata": {},
   "outputs": [
    {
     "name": "stdout",
     "output_type": "stream",
     "text": [
      "(50, 2)\n"
     ]
    },
    {
     "data": {
      "text/html": [
       "<div>\n",
       "<style scoped>\n",
       "    .dataframe tbody tr th:only-of-type {\n",
       "        vertical-align: middle;\n",
       "    }\n",
       "\n",
       "    .dataframe tbody tr th {\n",
       "        vertical-align: top;\n",
       "    }\n",
       "\n",
       "    .dataframe thead th {\n",
       "        text-align: right;\n",
       "    }\n",
       "</style>\n",
       "<table border=\"1\" class=\"dataframe\">\n",
       "  <thead>\n",
       "    <tr style=\"text-align: right;\">\n",
       "      <th></th>\n",
       "      <th>weight_lost_a</th>\n",
       "      <th>weight_lost_b</th>\n",
       "    </tr>\n",
       "  </thead>\n",
       "  <tbody>\n",
       "    <tr>\n",
       "      <th>0</th>\n",
       "      <td>3</td>\n",
       "      <td>5</td>\n",
       "    </tr>\n",
       "    <tr>\n",
       "      <th>1</th>\n",
       "      <td>2</td>\n",
       "      <td>4</td>\n",
       "    </tr>\n",
       "    <tr>\n",
       "      <th>2</th>\n",
       "      <td>3</td>\n",
       "      <td>5</td>\n",
       "    </tr>\n",
       "    <tr>\n",
       "      <th>3</th>\n",
       "      <td>4</td>\n",
       "      <td>5</td>\n",
       "    </tr>\n",
       "    <tr>\n",
       "      <th>4</th>\n",
       "      <td>3</td>\n",
       "      <td>4</td>\n",
       "    </tr>\n",
       "  </tbody>\n",
       "</table>\n",
       "</div>"
      ],
      "text/plain": [
       "   weight_lost_a  weight_lost_b\n",
       "0              3              5\n",
       "1              2              4\n",
       "2              3              5\n",
       "3              4              5\n",
       "4              3              4"
      ]
     },
     "execution_count": 4,
     "metadata": {},
     "output_type": "execute_result"
    }
   ],
   "source": [
    "print(df.shape)\n",
    "df.head()\n"
   ]
  },
  {
   "cell_type": "code",
   "execution_count": 5,
   "id": "4f82b4c4",
   "metadata": {},
   "outputs": [
    {
     "name": "stdout",
     "output_type": "stream",
     "text": [
      "Group_A average weight loss is 2.82\n",
      "Group_B average weight loss is 5.34\n"
     ]
    }
   ],
   "source": [
    "mean_group_a = df['weight_lost_a'].mean()\n",
    "mean_group_b = df['weight_lost_b'].mean()\n",
    "\n",
    "print(f'Group_A average weight loss is {mean_group_a}')\n",
    "print(f'Group_B average weight loss is {mean_group_b}')"
   ]
  },
  {
   "cell_type": "markdown",
   "id": "07c4f874",
   "metadata": {},
   "source": [
    "To determine which hypothesis accurately describes the data, we need to frame the hypotheses quantitatively. The first step is to decide a test statistic, which is a numerical value that summarizes the data and one we can use in statistical formulas. The test statistic runs a statistical test that determines whether the difference between the groups was due to random chance.\n",
    "\n",
    "Since we want to know if the amount of weight lost between the groups is significantly different, we will use the difference in the means(also known as the mean difference) of weight lost for each group as the test statistic.\n",
    "\n",
    "- Null hypothesis: $X_b$ - $X_a$ = 0\n",
    "\n",
    "\n",
    "- Alternative hypothesis: $X_b$ - $X_a$ >0"
   ]
  },
  {
   "cell_type": "code",
   "execution_count": 41,
   "id": "87f2ff1b",
   "metadata": {},
   "outputs": [
    {
     "name": "stdout",
     "output_type": "stream",
     "text": [
      "Mean difference between group b and group a is 2.52\n"
     ]
    }
   ],
   "source": [
    "mean_difference = mean_group_b - mean_group_a\n",
    "print(f'Mean difference between group b and group a is {mean_difference}')"
   ]
  },
  {
   "cell_type": "markdown",
   "id": "9c6ed2e8",
   "metadata": {},
   "source": [
    "The <font color='green'>permutation test</font> is a statistical test that involves rerunning the study many times and recalculating the test statistic for each iteration. The goal is to calculate a distribution of the test statistics over these many iterations. This distribution is called the <font color='green'>sampling distribution</font> and it approximates the full range of possible test statistics under the null hypothesis. We can then benchmark the test statistic we observed in the data (a mean difference of <font color='red'>2.52</font>) to determine how likely it is to observe this mean difference under the null hypothesis. If the null hypothesis is true, that the weight loss pill doesn't help people lose more weight, then the observed mean difference of <font color='red'>2.52</font>) should be quite common in the sampling distribution. If it's instead extremely rare, then we should reject the null hypothesis instead.\n",
    "\n",
    "\n",
    "\n",
    "To simulate rerunning the study, we randomly reassign each data point (weight lost) to either group A or group B. We keep track of the recalculated test statistics as a separate list. By re-randomizing the groups that the weight loss values belong to, we're simulating what randomly generated groupings of these weight loss values would look like. We then use these randomly generated groupings to understand how rare the groupings in our actual data were.\n",
    "\n",
    "\n"
   ]
  },
  {
   "cell_type": "code",
   "execution_count": 7,
   "id": "558b2fd4",
   "metadata": {},
   "outputs": [
    {
     "name": "stdout",
     "output_type": "stream",
     "text": [
      "100\n",
      "408\n"
     ]
    }
   ],
   "source": [
    "list_a =  df['weight_lost_a'].to_list()\n",
    "list_b = df['weight_lost_b'].to_list()\n",
    "all_values = list_a + list_b\n",
    "print(len(all_values))\n",
    "print(sum(all_values))"
   ]
  },
  {
   "cell_type": "code",
   "execution_count": 8,
   "id": "8a0df92c",
   "metadata": {},
   "outputs": [],
   "source": [
    "mean_differences = []\n",
    "for _ in range(0,1000):\n",
    "    group_a, group_b = [],[]\n",
    "    np_rand = np.random.rand(1,100)\n",
    "    for index,value in enumerate(all_values):\n",
    "        if np_rand[0][index]>= 0.5:\n",
    "            group_a.append(value)\n",
    "        else:\n",
    "            group_b.append(value)\n",
    "            \n",
    "    iteration_mean_difference = np.mean(group_b) - np.mean(group_a)\n",
    "    mean_differences.append(iteration_mean_difference)\n",
    "\n",
    "\n"
   ]
  },
  {
   "cell_type": "code",
   "execution_count": 9,
   "id": "5cb486aa",
   "metadata": {
    "scrolled": true
   },
   "outputs": [
    {
     "name": "stdout",
     "output_type": "stream",
     "text": [
      "1000\n"
     ]
    }
   ],
   "source": [
    "mean_differences[:5]\n",
    "print(len(mean_differences))"
   ]
  },
  {
   "cell_type": "code",
   "execution_count": 35,
   "id": "06de2414",
   "metadata": {},
   "outputs": [
    {
     "data": {
      "image/png": "[encoded data removed]",
      "text/plain": [
       "<Figure size 864x576 with 1 Axes>"
      ]
     },
     "metadata": {
      "needs_background": "light"
     },
     "output_type": "display_data"
    }
   ],
   "source": [
    "fig,ax = plt.subplots(figsize=(12,8))\n",
    "\n",
    "ax.axvline(0,linewidth = 4,color='yellow',linestyle='--')\n",
    "ax.hist(mean_differences,bins=20,label='Mean Difference Distribution',color='green')\n",
    "ax.legend(fontsize=14)\n",
    "ax.set_xlabel('Mean Difference',fontsize=14)\n",
    "ax.set_ylabel('Frequency',fontsize=14)\n",
    "ax.tick_params(axis='x', labelsize=14)\n",
    "ax.tick_params(axis='y', labelsize=14)\n"
   ]
  },
  {
   "cell_type": "code",
   "execution_count": 39,
   "id": "bb2f6244",
   "metadata": {},
   "outputs": [],
   "source": [
    "'''\n",
    "Now let's create a sampling frequency distribution table\n",
    "'''\n",
    "\n",
    "sampling_distribution = {}\n",
    "\n",
    "for mean in mean_differences:\n",
    "    #return the mean in dictionary, else return default False\n",
    "    if sampling_distribution.get(mean,False):\n",
    "        val = sampling_distribution.get(mean)\n",
    "        inc = val +1\n",
    "        sampling_distribution[mean] = inc\n",
    "    else:\n",
    "        sampling_distribution[mean] = 1\n"
   ]
  },
  {
   "cell_type": "code",
   "execution_count": 42,
   "id": "8e1d21dd",
   "metadata": {},
   "outputs": [
    {
     "name": "stdout",
     "output_type": "stream",
     "text": [
      "P_value is equity to 0.0\n"
     ]
    }
   ],
   "source": [
    "frequencies=[]\n",
    "for sample_mean_diff in sampling_distribution:\n",
    "    if sample_mean_diff > mean_difference:\n",
    "        frenquencies.append(sampling_distribution['sample_mean_diff'])\n",
    "\n",
    "p_value = np.sum(frequencies)/1000\n",
    "\n",
    "print(f'P_value is equity to {p_value}')"
   ]
  },
  {
   "cell_type": "code",
   "execution_count": 43,
   "id": "5a656f7e",
   "metadata": {},
   "outputs": [
    {
     "data": {
      "text/plain": [
       "[]"
      ]
     },
     "execution_count": 43,
     "metadata": {},
     "output_type": "execute_result"
    }
   ],
   "source": [
    "frequencies"
   ]
  },
  {
   "cell_type": "markdown",
   "id": "b34be68a",
   "metadata": {},
   "source": [
    "### My understanding about Significant Testing\n",
    "\n",
    "- We want to understand whether the weight loss pile have significant effect to people, we have two groups of people, group_a do not take weight loss pile, while group_b take the pile. After a period, we measure the average weight loss in each group and we found the average weight loss in group_B is 5.3 and is almost double weight loss in group_A 2.8. The mean differnece is 5.3-2.8 = 2.5\n",
    "\n",
    "\n",
    "- We want to find out whether it was really due to the effect of the pile or just simply because of sampling error\n",
    "\n",
    "\n",
    "- We establised a hypothesis test, where the NULL hypothesis is that there's no difference in the mean amount of weight lost by participants in both groups; and the Alternative hypothesis is that people who use weight loss pill actually lost more weight.\n",
    "\n",
    "\n",
    "- We mixed samples from two groups and randomly pick equal amount of sampels to form NEW group_A and New group_B, we then calculated the mean different between these two New groups. We simulate the ramdom sampling for 1000 times.\n",
    "\n",
    "\n",
    "- After 1000 times simulation, we get a list of 1000 mean difference of weight losses, and the outcome shows that there was not even 1 out of 1000 sample that has mean weight loss different greater than the actual number, this means in reality, the pile mush have some sort of effect to group B. \n",
    "\n",
    "\n",
    "- The P-Value is the probability (number of outcomes that mean difference greater than 2.5 / total number of outcomes in this case 1000 simulations). \n",
    "\n",
    "\n",
    "- The P-value is calculated as 0, which means, the result is significant (compare to the signicant level of 5%), and we can reject the Null Hypothesis. "
   ]
  },
  {
   "cell_type": "code",
   "execution_count": null,
   "id": "cce51ac8",
   "metadata": {},
   "outputs": [],
   "source": []
  }
 ],
 "metadata": {
  "kernelspec": {
   "display_name": "py38",
   "language": "python",
   "name": "py38"
  },
  "language_info": {
   "codemirror_mode": {
    "name": "ipython",
    "version": 3
   },
   "file_extension": ".py",
   "mimetype": "text/x-python",
   "name": "python",
   "nbconvert_exporter": "python",
   "pygments_lexer": "ipython3",
   "version": "3.8.12"
  }
 },
 "nbformat": 4,
 "nbformat_minor": 5
}
