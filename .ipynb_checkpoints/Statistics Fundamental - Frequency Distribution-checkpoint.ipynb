{
 "cells": [
  {
   "cell_type": "markdown",
   "metadata": {},
   "source": [
    "# Frequency Distribution\n",
    "\n",
    "In this tutorial, we will learn how to organize data in frequency and groiuped frequency tables. Frequency tables allow us to transform large and incomprehensible amounts of data to a format we can understand.\n",
    "\n",
    "![statistics-pic-3](https://raw.githubusercontent.com/tongNJ/Dataquest-Online-Courses-2022/main/Pictures/statistics-pic-3.PNG)\n",
    "\n",
    "We will continue to use WNBA.csv dataset to explore the concept of frequency distribution"
   ]
  },
  {
   "cell_type": "markdown",
   "metadata": {},
   "source": [
    "## Concepts\n",
    "\n",
    "- A table that shows the frequency for each unique value in a distribution is called a frequency distribution table.\n",
    "\n",
    "\n",
    "- The frequencies can be expressed as:\n",
    "  - Absolute counts (absolute frequencies).\n",
    "  - Proportions or percentages (relative frequencies).\n",
    "\n",
    "\n",
    "- The percentage of values that are equal or less than a value is called the percentile rank of \n",
    "  - For instance, if the percentile rank of a value of 32 is 57%, 57% of the values are equal to or less than 32.\n",
    "\n",
    "\n",
    "- If a value has a percentile rank of , we say that is the percentile. For instance, if 32 has a percentile rank of 57%, we say that 32 is the 57th percentile.\n",
    "\n",
    "\n",
    "- Frequency distribution tables can be grouped in class intervals to form grouped frequency distribution tables. As a rule of thumb, 10 is a good number of class intervals to choose because it offers a good balance between information and comprehensibility."
   ]
  },
  {
   "cell_type": "code",
   "execution_count": 1,
   "metadata": {},
   "outputs": [],
   "source": [
    "import pandas as pd\n",
    "import numpy as np\n",
    "import matplotlib.pyplot as plt"
   ]
  },
  {
   "cell_type": "code",
   "execution_count": 2,
   "metadata": {},
   "outputs": [],
   "source": [
    "dataset_loc = 'D:/Dataquest/Dataquest 2022 Learning/Datasets/'\n",
    "wnba = pd.read_csv(dataset_loc + 'wnba.csv')"
   ]
  },
  {
   "cell_type": "code",
   "execution_count": 3,
   "metadata": {},
   "outputs": [
    {
     "data": {
      "text/plain": [
       "G      60\n",
       "F      33\n",
       "C      25\n",
       "G/F    13\n",
       "F/C    12\n",
       "Name: Pos, dtype: int64"
      ]
     },
     "execution_count": 3,
     "metadata": {},
     "output_type": "execute_result"
    }
   ],
   "source": [
    "# Using the Series.value_counts() method, generate frequency distribution tables for the following columns: [Pos, Height]\n",
    "wnba['Pos'].value_counts()"
   ]
  },
  {
   "cell_type": "code",
   "execution_count": 4,
   "metadata": {},
   "outputs": [
    {
     "data": {
      "text/plain": [
       "C      25\n",
       "F/C    12\n",
       "F      33\n",
       "G/F    13\n",
       "G      60\n",
       "Name: Pos, dtype: int64"
      ]
     },
     "execution_count": 4,
     "metadata": {},
     "output_type": "execute_result"
    }
   ],
   "source": [
    "# If the frequency variable is measured in nominal basis, we can also change index order by using iloc[] method.\n",
    "wnba['Pos'].value_counts().iloc[[2,4,1,3,0]]"
   ]
  },
  {
   "cell_type": "code",
   "execution_count": 5,
   "metadata": {},
   "outputs": [
    {
     "data": {
      "text/plain": [
       "G      41.958042\n",
       "F      23.076923\n",
       "C      17.482517\n",
       "G/F     9.090909\n",
       "F/C     8.391608\n",
       "Name: Pos, dtype: float64"
      ]
     },
     "execution_count": 5,
     "metadata": {},
     "output_type": "execute_result"
    }
   ],
   "source": [
    "# When we analyze distributions, we're often interested in answering questions about proportions and percentages. \n",
    "# It's slightly faster though to use Series.value_counts() with the normalize parameter set to True:\n",
    "wnba['Pos'].value_counts(normalize=True)*100\n"
   ]
  },
  {
   "cell_type": "code",
   "execution_count": 6,
   "metadata": {},
   "outputs": [
    {
     "data": {
      "text/plain": [
       "165     1\n",
       "168     2\n",
       "170     6\n",
       "173    11\n",
       "175    16\n",
       "178     8\n",
       "180     7\n",
       "183    11\n",
       "185    15\n",
       "188    20\n",
       "191    11\n",
       "193    18\n",
       "196     9\n",
       "198     5\n",
       "201     2\n",
       "206     1\n",
       "Name: Height, dtype: int64"
      ]
     },
     "execution_count": 6,
     "metadata": {},
     "output_type": "execute_result"
    }
   ],
   "source": [
    "# wnba['Height'].value_counts() returns a Series object with the measures of height as indices. \n",
    "# This allows us to sort the table by index using the Series.sort_index() method:\n",
    "wnba['Height'].value_counts().sort_index()"
   ]
  },
  {
   "cell_type": "markdown",
   "metadata": {},
   "source": [
    "- A **percentile rank** of a value **x** in a frequency distribution is given by the percentage of values that are equal or less than **x**\n",
    "\n",
    "- We can arrive at the same answer a bit faster using the **percentileofscore(a, score, kind='weak')** function from **scipy.stats**"
   ]
  },
  {
   "cell_type": "code",
   "execution_count": 7,
   "metadata": {},
   "outputs": [
    {
     "name": "stdout",
     "output_type": "stream",
     "text": [
      "19.0% of total players are 23 years or younger.\n"
     ]
    }
   ],
   "source": [
    "# For example, if we want to find waht percentage of players are 23 years or younger?\n",
    "percentile_age_23orless = wnba['Age'].value_counts(normalize=True).sort_index().iloc[:3].sum()\n",
    "print(f'{round(percentile_age_23orless*100,0)}% of total players are 23 years or younger.')"
   ]
  },
  {
   "cell_type": "code",
   "execution_count": 8,
   "metadata": {},
   "outputs": [
    {
     "name": "stdout",
     "output_type": "stream",
     "text": [
      "18.88111888111888\n"
     ]
    }
   ],
   "source": [
    "from scipy.stats import percentileofscore\n",
    "# We need to use kind = 'weak' to indicate that we want to find the percentage of values that are equal to or less than the value \n",
    "# we specify in the score parameter.\n",
    "percentile_age_23orless = percentileofscore(a=wnba['Age'],score=23,kind='weak')\n",
    "print(percentile_age_23orless)"
   ]
  },
  {
   "cell_type": "code",
   "execution_count": 9,
   "metadata": {},
   "outputs": [
    {
     "name": "stdout",
     "output_type": "stream",
     "text": [
      "27.0% of total players are 30 years or older.\n"
     ]
    }
   ],
   "source": [
    "# What percentage of players are 30 years or older?\n",
    "percentile_age_30orOld = 100 - percentileofscore(a=wnba['Age'],score=29,kind='weak')\n",
    "print(f'{round(percentile_age_30orOld,0)}% of total players are 30 years or older.')"
   ]
  },
  {
   "cell_type": "code",
   "execution_count": 10,
   "metadata": {},
   "outputs": [
    {
     "data": {
      "text/plain": [
       "count    143.000000\n",
       "mean      27.076923\n",
       "std        3.679170\n",
       "min       21.000000\n",
       "25%       24.000000\n",
       "50%       27.000000\n",
       "75%       30.000000\n",
       "max       36.000000\n",
       "Name: Age, dtype: float64"
      ]
     },
     "execution_count": 10,
     "metadata": {},
     "output_type": "execute_result"
    }
   ],
   "source": [
    "# pandas describe method has percentiles parameter which can be customized to find specific percentiles\n",
    "wnba['Age'].describe()"
   ]
  },
  {
   "cell_type": "code",
   "execution_count": 11,
   "metadata": {},
   "outputs": [
    {
     "name": "stdout",
     "output_type": "stream",
     "text": [
      "min    21.0\n",
      "25%    24.0\n",
      "50%    27.0\n",
      "75%    30.0\n",
      "95%    34.0\n",
      "max    36.0\n",
      "Name: Age, dtype: float64\n",
      "95% of total players are  years or younger\n"
     ]
    }
   ],
   "source": [
    "print(wnba['Age'].describe(percentiles=[.25,.5,.75,.95]).iloc[3:])\n",
    "print(f'95% of total players are  years or younger')"
   ]
  },
  {
   "cell_type": "markdown",
   "metadata": {},
   "source": [
    "- If the variable is measured on an interval or ratio scale, a common solution to this problem is to group the values in equal intervals. Fortunately, pandas can handle this process gracefully. We only need to make use of the **bins** parameter of **Series.value_counts()** \n",
    "\n",
    "\n",
    "- Because we group values in a table to get a better sense of frequencies in the distribution, the table we generated above is also known as a **grouped frequency distribution table**. Each group (interval) in a grouped **frequency distribution table** is also known as a **class interval**.\n",
    "\n",
    "\n",
    "- Examine the frequency table for the PTS (total points) variable trying to find some patterns in the distribution of values. Then, generate a grouped frequency distribution table for the PTS variable with the following characteristics:"
   ]
  },
  {
   "cell_type": "code",
   "execution_count": 12,
   "metadata": {},
   "outputs": [
    {
     "name": "stdout",
     "output_type": "stream",
     "text": [
      "PTS Grouped Frequency Distribution Table \n",
      "(525.8, 584.0]     3.5\n",
      "(467.6, 525.8]     2.8\n",
      "(409.4, 467.6]     5.6\n",
      "(351.2, 409.4]     7.0\n",
      "(293.0, 351.2]     5.6\n",
      "(234.8, 293.0]    11.9\n",
      "(176.6, 234.8]    14.0\n",
      "(118.4, 176.6]    11.9\n",
      "(60.2, 118.4]     16.8\n",
      "(1.417, 60.2]     21.0\n",
      "Name: PTS, dtype: float64\n"
     ]
    }
   ],
   "source": [
    "PTS_grouped_frequency = wnba['PTS'].value_counts(bins=10,normalize=True).sort_index(ascending=False)*100\n",
    "\n",
    "print(f'PTS Grouped Frequency Distribution Table \\n{round(PTS_grouped_frequency,1)}')"
   ]
  },
  {
   "cell_type": "markdown",
   "metadata": {},
   "source": [
    "- Imagine we'd have to publish the table above in a blog post or a scientific paper. The readers will have a hard time understanding the intervals we chose. They'll also be puzzled by the decimal numbers because points in basketball can only be integers.\n",
    "\n",
    "\n",
    "- To fix this, we can define the intervals ourselves. For the table above, we can define six intervals of 100 points each, and then count how many values fit in each interval. \n",
    "\n",
    "\n",
    "- **pd.interval_range()**"
   ]
  },
  {
   "cell_type": "code",
   "execution_count": 13,
   "metadata": {},
   "outputs": [
    {
     "data": {
      "text/plain": [
       "IntervalIndex([(0, 100], (100, 200], (200, 300], (300, 400], (400, 500], (500, 600]],\n",
       "              closed='right',\n",
       "              dtype='interval[int64]')"
      ]
     },
     "execution_count": 13,
     "metadata": {},
     "output_type": "execute_result"
    }
   ],
   "source": [
    "intervals = pd.interval_range(start=0,end=600,periods=6)\n",
    "#intervals = pd.interval_range(start=0,end=600,freq=100)\n",
    "intervals"
   ]
  },
  {
   "cell_type": "code",
   "execution_count": 14,
   "metadata": {},
   "outputs": [
    {
     "data": {
      "text/plain": [
       "(0, 100]      49\n",
       "(100, 200]    28\n",
       "(200, 300]    32\n",
       "(300, 400]    17\n",
       "(400, 500]    10\n",
       "(500, 600]     7\n",
       "Name: PTS, dtype: int64"
      ]
     },
     "execution_count": 14,
     "metadata": {},
     "output_type": "execute_result"
    }
   ],
   "source": [
    "gr_freq_table = wnba['PTS'].value_counts(bins=intervals).sort_index()\n",
    "gr_freq_table"
   ]
  },
  {
   "cell_type": "code",
   "execution_count": 15,
   "metadata": {},
   "outputs": [
    {
     "data": {
      "text/plain": [
       "143"
      ]
     },
     "execution_count": 15,
     "metadata": {},
     "output_type": "execute_result"
    }
   ],
   "source": [
    "gr_freq_table.sum()"
   ]
  },
  {
   "cell_type": "markdown",
   "metadata": {},
   "source": [
    "## Visualizing Frequency Distributions\n",
    "\n",
    "- To find patterns in a frequency table we have to look up the frequency of each unique value or class interval and at the same time compare the frequencies. This process can get time consuming for tables with many unique values or class intervals, or when the frequency values are large and hard to compare against each other.\n",
    "\n",
    "\n",
    "- We can solve this problem by visualizing the data in the tables with the help of graphs. Graphs make it much easier to scan and compare frequencies, providing us with a single picture of the entire distribution of a variable.\n",
    "\n",
    "\n",
    "- Because they are easy to grasp and also eye-catching, graphs are a better choice over frequency tables if we need to present our findings to a non-technical audience.\n",
    "\n",
    "\n",
    "- We'll learn about three kinds of graphs:\n",
    "  - Bar plots.\n",
    "  - Pie charts.\n",
    "  - Histograms."
   ]
  },
  {
   "cell_type": "code",
   "execution_count": 16,
   "metadata": {},
   "outputs": [
    {
     "data": {
      "text/plain": [
       "<AxesSubplot:>"
      ]
     },
     "execution_count": 16,
     "metadata": {},
     "output_type": "execute_result"
    },
    {
     "data": {
      "image/png": "[encoded data removed]",
      "text/plain": [
       "<Figure size 432x288 with 1 Axes>"
      ]
     },
     "metadata": {
      "needs_background": "light"
     },
     "output_type": "display_data"
    }
   ],
   "source": [
    "wnba['Pos'].value_counts().plot.bar()"
   ]
  },
  {
   "cell_type": "code",
   "execution_count": 17,
   "metadata": {},
   "outputs": [
    {
     "data": {
      "text/plain": [
       "<AxesSubplot:>"
      ]
     },
     "execution_count": 17,
     "metadata": {},
     "output_type": "execute_result"
    },
    {
     "data": {
      "image/png": "[encoded data removed]",
      "text/plain": [
       "<Figure size 432x288 with 1 Axes>"
      ]
     },
     "metadata": {
      "needs_background": "light"
     },
     "output_type": "display_data"
    }
   ],
   "source": [
    "wnba['Pos'].value_counts().plot.barh()"
   ]
  },
  {
   "cell_type": "code",
   "execution_count": 18,
   "metadata": {},
   "outputs": [],
   "source": [
    "wnba['Experience'].replace('R','0',inplace=True)\n",
    "wnba['Experience']= wnba['Experience'].astype('int')\n",
    "exp_label = ['Rookie','Little experience','Experienced','Very experienced','Veteran']\n",
    "exp_label_numerical =[[0,1],[1,4],[4,6],[6,11],[11,30]]"
   ]
  },
  {
   "cell_type": "code",
   "execution_count": 19,
   "metadata": {},
   "outputs": [],
   "source": [
    "wnba['Exp_ordinal'] = np.nan\n",
    "iteration = 0\n",
    "for i in exp_label_numerical:\n",
    "    l_bound = i[0]\n",
    "    u_bound = i[1]\n",
    "    wnba.loc[(wnba['Experience']>=l_bound) & (wnba['Experience'] < u_bound),'Exp_ordinal'] = exp_label[iteration]\n",
    "    iteration += 1"
   ]
  },
  {
   "cell_type": "code",
   "execution_count": 20,
   "metadata": {},
   "outputs": [
    {
     "data": {
      "text/plain": [
       "<AxesSubplot:>"
      ]
     },
     "execution_count": 20,
     "metadata": {},
     "output_type": "execute_result"
    },
    {
     "data": {
      "image/png": "[encoded data removed]",
      "text/plain": [
       "<Figure size 432x288 with 1 Axes>"
      ]
     },
     "metadata": {
      "needs_background": "light"
     },
     "output_type": "display_data"
    }
   ],
   "source": [
    "wnba['Exp_ordinal'].value_counts().plot.bar(rot='45')"
   ]
  },
  {
   "cell_type": "markdown",
   "metadata": {},
   "source": [
    "### Pie Chart\n",
    "\n",
    "- To give a pie chart the right shape, we need to specify equal values for height and width in the figsize parameter of Series.plot.pie(). The Exp_ordinal is the label of a hidden y-axis, which means we can use the **plt.ylabel()** function to remove it. \n",
    "\n",
    "\n",
    "- Ideally, we'd have proportions or percentages displayed on each wedge of the pie chart. Fortunately, this is easy to get using the **autopct** parameter. This parameter accepts Python string formatting, and we'll use the string **'%.1f%%'** to have percentages displayed with a precision of one decimal place. Let's break down this string formatting:\n",
    "\n",
    "![statistics-pic-e](https://raw.githubusercontent.com/tongNJ/Dataquest-Online-Courses-2022/main/Pictures/statistics-pic-4.PNG)"
   ]
  },
  {
   "cell_type": "code",
   "execution_count": 21,
   "metadata": {},
   "outputs": [
    {
     "data": {
      "text/plain": [
       "Text(0, 0.5, '')"
      ]
     },
     "execution_count": 21,
     "metadata": {},
     "output_type": "execute_result"
    },
    {
     "data": {
      "image/png": "[encoded data removed]",
      "text/plain": [
       "<Figure size 576x576 with 1 Axes>"
      ]
     },
     "metadata": {},
     "output_type": "display_data"
    }
   ],
   "source": [
    "wnba['Exp_ordinal'].value_counts().plot.pie(figsize=(8,8),autopct = '%.2f%%')\n",
    "plt.ylabel('')"
   ]
  },
  {
   "cell_type": "markdown",
   "metadata": {},
   "source": [
    "Under the hood, the **wnba['PTS'].plot.hist()** method:\n",
    "\n",
    "- Generated a grouped frequency distribution table for the PTS variable with ten class intervals.\n",
    "- For each class interval it plotted a bar with a height corresponding to the frequency of the interval."
   ]
  },
  {
   "cell_type": "code",
   "execution_count": 22,
   "metadata": {},
   "outputs": [
    {
     "data": {
      "text/plain": [
       "(1.417, 60.2]     30\n",
       "(60.2, 118.4]     24\n",
       "(118.4, 176.6]    17\n",
       "(176.6, 234.8]    20\n",
       "(234.8, 293.0]    17\n",
       "(293.0, 351.2]     8\n",
       "(351.2, 409.4]    10\n",
       "(409.4, 467.6]     8\n",
       "(467.6, 525.8]     4\n",
       "(525.8, 584.0]     5\n",
       "Name: PTS, dtype: int64"
      ]
     },
     "execution_count": 22,
     "metadata": {},
     "output_type": "execute_result"
    }
   ],
   "source": [
    "wnba['PTS'].value_counts(bins=10).sort_index()"
   ]
  },
  {
   "cell_type": "code",
   "execution_count": 23,
   "metadata": {},
   "outputs": [
    {
     "data": {
      "text/plain": [
       "<AxesSubplot:ylabel='Frequency'>"
      ]
     },
     "execution_count": 23,
     "metadata": {},
     "output_type": "execute_result"
    },
    {
     "data": {
      "image/png": "[encoded data removed]",
      "text/plain": [
       "<Figure size 576x576 with 1 Axes>"
      ]
     },
     "metadata": {
      "needs_background": "light"
     },
     "output_type": "display_data"
    }
   ],
   "source": [
    "wnba['PTS'].plot.hist(figsize = (8,8),grid = True,xticks = np.arange(2,585,58.2))"
   ]
  },
  {
   "cell_type": "code",
   "execution_count": 24,
   "metadata": {},
   "outputs": [
    {
     "data": {
      "text/plain": [
       "<AxesSubplot:ylabel='Frequency'>"
      ]
     },
     "execution_count": 24,
     "metadata": {},
     "output_type": "execute_result"
    },
    {
     "data": {
      "image/png": "[encoded data removed]",
      "text/plain": [
       "<Figure size 576x576 with 1 Axes>"
      ]
     },
     "metadata": {
      "needs_background": "light"
     },
     "output_type": "display_data"
    }
   ],
   "source": [
    "wnba['PTS'].plot.hist(figsize = (8,8),grid = True,bins=10,range=(1,600))"
   ]
  },
  {
   "cell_type": "markdown",
   "metadata": {},
   "source": [
    "## Comparing Frequency Distribution\n",
    "In the follow session, we'll learn about the graphs we can use to compare multiple frequency distributions at once."
   ]
  },
  {
   "cell_type": "code",
   "execution_count": 25,
   "metadata": {},
   "outputs": [
    {
     "data": {
      "image/png": "[encoded data removed]",
      "text/plain": [
       "<Figure size 1296x576 with 5 Axes>"
      ]
     },
     "metadata": {
      "needs_background": "light"
     },
     "output_type": "display_data"
    }
   ],
   "source": [
    "# Let's say we're interested in analyzing how the distribution of the Pos variable (player position) varies with \n",
    "# the level of experience. In other words, we want to determine, for instance, what are the positions on the court \n",
    "# that rookies play most as, and how do rookies compare to veterans with respect to positions on the field.\n",
    "\n",
    "\n",
    "wnba.loc[wnba['Exp_ordinal'] == 'Rookie','Pos'].value_counts(normalize=True).sort_index()\n",
    "\n",
    "fig,axs = plt.subplots(1,len(wnba['Exp_ordinal'].unique()),figsize=(18,8),sharey=True)\n",
    "i=0\n",
    "for exp_level in wnba['Exp_ordinal'].unique():\n",
    "    sub_freq_table = wnba.loc[wnba['Exp_ordinal'] == exp_level,'Pos'].value_counts().sort_index()\n",
    "    sub_freq_table.plot.bar(ax=axs[i])   \n",
    "    i+=1\n",
    "i=0\n",
    "for ax in axs.flat:\n",
    "    ax.set(ylabel='Frequency',xlabel=wnba['Exp_ordinal'].unique()[i])\n",
    "    i+=1\n",
    "\n",
    "#     print(exp_level)"
   ]
  },
  {
   "cell_type": "markdown",
   "metadata": {},
   "source": [
    "### Matplotlib has a style.available attributes which allow you to see all the avaialble built-in styles"
   ]
  },
  {
   "cell_type": "code",
   "execution_count": 26,
   "metadata": {},
   "outputs": [
    {
     "name": "stdout",
     "output_type": "stream",
     "text": [
      "['Solarize_Light2', '_classic_test_patch', '_mpl-gallery', '_mpl-gallery-nogrid', 'bmh', 'classic', 'dark_background', 'fast', 'fivethirtyeight', 'ggplot', 'grayscale', 'seaborn', 'seaborn-bright', 'seaborn-colorblind', 'seaborn-dark', 'seaborn-dark-palette', 'seaborn-darkgrid', 'seaborn-deep', 'seaborn-muted', 'seaborn-notebook', 'seaborn-paper', 'seaborn-pastel', 'seaborn-poster', 'seaborn-talk', 'seaborn-ticks', 'seaborn-white', 'seaborn-whitegrid', 'tableau-colorblind10']\n"
     ]
    }
   ],
   "source": [
    "print(plt.style.available)"
   ]
  },
  {
   "cell_type": "code",
   "execution_count": 27,
   "metadata": {
    "scrolled": false
   },
   "outputs": [
    {
     "data": {
      "text/plain": [
       "Text(0.5, 1.0, 'Count Plot')"
      ]
     },
     "execution_count": 27,
     "metadata": {},
     "output_type": "execute_result"
    },
    {
     "data": {
      "image/png": "[encoded data removed]",
      "text/plain": [
       "<Figure size 1296x576 with 1 Axes>"
      ]
     },
     "metadata": {
      "needs_background": "light"
     },
     "output_type": "display_data"
    }
   ],
   "source": [
    "import seaborn as sns\n",
    "\n",
    "exp_order = ['Rookie','Little experience', 'Experienced', 'Very experienced', 'Veteran']\n",
    "h_order = ['C','F','F/C','G','G/F']\n",
    "\n",
    "# plt.style.use('ggplot')\n",
    "# plt.style.use('fivethirtyeight')\n",
    "# plt.xkcd(False)\n",
    "fig, ax = plt.subplots(figsize=(18,8),layout='constrained')\n",
    "\n",
    "sns.countplot(x='Exp_ordinal',hue='Pos',data=wnba,order = exp_order,hue_order = h_order)\n",
    "# ax.set(ylabel='Frequency')\n",
    "ax.set_ylabel('Frequency')\n",
    "ax.set_title('Count Plot')"
   ]
  },
  {
   "cell_type": "markdown",
   "metadata": {},
   "source": [
    "### Test\n",
    "\n",
    "- When players get past a certain age, they become less and less physically fit as they get older. Intuitively, the fitness level of a player should directly affect how much she plays in a season. \n",
    "\n",
    "- Let's hypothesize that older players generally play less than this average of 497 minutes, while younger players generally play more.\n",
    "\n",
    "- Let's test if our hypothesize is true by plotting count plot"
   ]
  },
  {
   "cell_type": "code",
   "execution_count": 28,
   "metadata": {},
   "outputs": [
    {
     "name": "stdout",
     "output_type": "stream",
     "text": [
      "The average age of WNBA players in 2016 is 27\n",
      "The average minutes played in 2016 is 496\n"
     ]
    }
   ],
   "source": [
    "#\n",
    "mean_age = wnba['Age'].mean()\n",
    "print(f'The average age of WNBA players in 2016 is {int(mean_age)}')\n",
    "\n",
    "mean_mins_played = wnba['MIN'].mean()\n",
    "print(f'The average minutes played in 2016 is {int(mean_mins_played)}')"
   ]
  },
  {
   "cell_type": "code",
   "execution_count": 29,
   "metadata": {
    "scrolled": true
   },
   "outputs": [
    {
     "data": {
      "text/html": [
       "<div>\n",
       "<style scoped>\n",
       "    .dataframe tbody tr th:only-of-type {\n",
       "        vertical-align: middle;\n",
       "    }\n",
       "\n",
       "    .dataframe tbody tr th {\n",
       "        vertical-align: top;\n",
       "    }\n",
       "\n",
       "    .dataframe thead th {\n",
       "        text-align: right;\n",
       "    }\n",
       "</style>\n",
       "<table border=\"1\" class=\"dataframe\">\n",
       "  <thead>\n",
       "    <tr style=\"text-align: right;\">\n",
       "      <th></th>\n",
       "      <th>Name</th>\n",
       "      <th>Age</th>\n",
       "      <th>age_mean_relative</th>\n",
       "      <th>MIN</th>\n",
       "      <th>mins_mean_relative</th>\n",
       "    </tr>\n",
       "  </thead>\n",
       "  <tbody>\n",
       "    <tr>\n",
       "      <th>0</th>\n",
       "      <td>Aerial Powers</td>\n",
       "      <td>23</td>\n",
       "      <td>young</td>\n",
       "      <td>173</td>\n",
       "      <td>below average</td>\n",
       "    </tr>\n",
       "    <tr>\n",
       "      <th>1</th>\n",
       "      <td>Alana Beard</td>\n",
       "      <td>35</td>\n",
       "      <td>old</td>\n",
       "      <td>947</td>\n",
       "      <td>average or above</td>\n",
       "    </tr>\n",
       "    <tr>\n",
       "      <th>2</th>\n",
       "      <td>Alex Bentley</td>\n",
       "      <td>26</td>\n",
       "      <td>young</td>\n",
       "      <td>617</td>\n",
       "      <td>average or above</td>\n",
       "    </tr>\n",
       "    <tr>\n",
       "      <th>3</th>\n",
       "      <td>Alex Montgomery</td>\n",
       "      <td>28</td>\n",
       "      <td>old</td>\n",
       "      <td>721</td>\n",
       "      <td>average or above</td>\n",
       "    </tr>\n",
       "    <tr>\n",
       "      <th>4</th>\n",
       "      <td>Alexis Jones</td>\n",
       "      <td>23</td>\n",
       "      <td>young</td>\n",
       "      <td>137</td>\n",
       "      <td>below average</td>\n",
       "    </tr>\n",
       "  </tbody>\n",
       "</table>\n",
       "</div>"
      ],
      "text/plain": [
       "              Name  Age age_mean_relative  MIN mins_mean_relative\n",
       "0    Aerial Powers   23             young  173      below average\n",
       "1      Alana Beard   35               old  947   average or above\n",
       "2     Alex Bentley   26             young  617   average or above\n",
       "3  Alex Montgomery   28               old  721   average or above\n",
       "4     Alexis Jones   23             young  137      below average"
      ]
     },
     "execution_count": 29,
     "metadata": {},
     "output_type": "execute_result"
    }
   ],
   "source": [
    "# create an ordinal variable called 'age_mean_relative', label each player as 'old' if her age is or over 27, \n",
    "# and 'young' if her age is below 27\n",
    "wnba['age_mean_relative'] = wnba['Age'].apply(lambda x: 'old' if x>= mean_age else 'young')\n",
    "\n",
    "# create an ordinal variable called 'mins_mean_relative', label each player as 'average or above' if she played at least 496 mins,\n",
    "# otherwise, label her as 'below average'\n",
    "wnba['mins_mean_relative'] = wnba['MIN'].apply(lambda x: 'average or above' if x>=497 else 'below average')\n",
    "\n",
    "wnba[['Name','Age','age_mean_relative','MIN','mins_mean_relative']].head()"
   ]
  },
  {
   "cell_type": "code",
   "execution_count": 30,
   "metadata": {},
   "outputs": [
    {
     "data": {
      "image/png": "[encoded data removed]",
      "text/plain": [
       "<Figure size 432x288 with 1 Axes>"
      ]
     },
     "metadata": {
      "needs_background": "light"
     },
     "output_type": "display_data"
    }
   ],
   "source": [
    "# now draw a count plot with x-axis as age_mean_relative and hue as 'mins_mean_relative'\n",
    "# plt.style.use('ggplot')\n",
    "sns.countplot(x='age_mean_relative',hue='mins_mean_relative',data=wnba)\n",
    "\n",
    "plt.ylabel('Frequency')\n",
    "plt.title('Hypothesize Test - Age vs. Minutes Played')\n",
    "plt.show()"
   ]
  },
  {
   "cell_type": "code",
   "execution_count": 35,
   "metadata": {},
   "outputs": [
    {
     "data": {
      "text/plain": [
       "<AxesSubplot:ylabel='Frequency'>"
      ]
     },
     "execution_count": 35,
     "metadata": {},
     "output_type": "execute_result"
    },
    {
     "data": {
      "image/png": "[encoded data removed]",
      "text/plain": [
       "<Figure size 432x288 with 1 Axes>"
      ]
     },
     "metadata": {
      "needs_background": "light"
     },
     "output_type": "display_data"
    }
   ],
   "source": [
    "# plt.style.use(False)\n",
    "wnba.loc[wnba['Age']>=27,'MIN'].plot.hist(histtype='step',label='Old',legend=True)\n",
    "\n",
    "wnba.loc[wnba['Age']<27,'MIN'].plot.hist(histtype='step',label='young',legend=True)"
   ]
  },
  {
   "cell_type": "code",
   "execution_count": 36,
   "metadata": {},
   "outputs": [
    {
     "data": {
      "text/plain": [
       "<AxesSubplot:ylabel='Density'>"
      ]
     },
     "execution_count": 36,
     "metadata": {},
     "output_type": "execute_result"
    },
    {
     "data": {
      "image/png": "[encoded data removed]",
      "text/plain": [
       "<Figure size 432x288 with 1 Axes>"
      ]
     },
     "metadata": {
      "needs_background": "light"
     },
     "output_type": "display_data"
    }
   ],
   "source": [
    "# We can smooth out our two histograms above for old and young players using the Series.plot.kde() function:\n",
    "\n",
    "wnba.loc[wnba['Age']>=27,'MIN'].plot.kde(label='Old',legend=True)\n",
    "\n",
    "wnba.loc[wnba['Age']<27,'MIN'].plot.kde(label='young',legend=True)"
   ]
  },
  {
   "cell_type": "code",
   "execution_count": 38,
   "metadata": {
    "scrolled": true
   },
   "outputs": [
    {
     "data": {
      "text/plain": [
       "<AxesSubplot:xlabel='Pos', ylabel='Height'>"
      ]
     },
     "execution_count": 38,
     "metadata": {},
     "output_type": "execute_result"
    },
    {
     "data": {
      "image/png": "[encoded data removed]",
      "text/plain": [
       "<Figure size 432x288 with 1 Axes>"
      ]
     },
     "metadata": {
      "needs_background": "light"
     },
     "output_type": "display_data"
    }
   ],
   "source": [
    "sns.stripplot(x='Pos', y='Height', data=wnba, jitter=True)"
   ]
  },
  {
   "cell_type": "code",
   "execution_count": 39,
   "metadata": {},
   "outputs": [
    {
     "data": {
      "text/plain": [
       "<AxesSubplot:xlabel='Pos', ylabel='Height'>"
      ]
     },
     "execution_count": 39,
     "metadata": {},
     "output_type": "execute_result"
    },
    {
     "data": {
      "image/png": "[encoded data removed]",
      "text/plain": [
       "<Figure size 432x288 with 1 Axes>"
      ]
     },
     "metadata": {
      "needs_background": "light"
     },
     "output_type": "display_data"
    }
   ],
   "source": [
    "sns.boxplot(x='Pos', y='Height', data=wnba)"
   ]
  },
  {
   "cell_type": "code",
   "execution_count": null,
   "metadata": {},
   "outputs": [],
   "source": []
  }
 ],
 "metadata": {
  "kernelspec": {
   "display_name": "Python 3",
   "language": "python",
   "name": "python3"
  },
  "language_info": {
   "codemirror_mode": {
    "name": "ipython",
    "version": 3
   },
   "file_extension": ".py",
   "mimetype": "text/x-python",
   "name": "python",
   "nbconvert_exporter": "python",
   "pygments_lexer": "ipython3",
   "version": "3.7.3"
  }
 },
 "nbformat": 4,
 "nbformat_minor": 2
}
