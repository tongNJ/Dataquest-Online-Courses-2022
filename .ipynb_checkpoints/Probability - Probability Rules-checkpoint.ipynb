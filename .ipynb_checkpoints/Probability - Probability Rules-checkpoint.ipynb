{
 "cells": [
  {
   "cell_type": "markdown",
   "metadata": {},
   "source": [
    "# Probability Rules\n",
    "\n",
    "In probability theory, the outcomes of a random experiment are usually represented as a set. For example, this is how we can represent the outcomes of a die roll as a set:\n",
    "\n",
    "Outcomes = {1,2,3,4,5,6}\n",
    "\n",
    "A set is a collection of distinct objects, which means each outcome must occur only once in a set:\n",
    "\n",
    "- {Heads, Tails} is an example of a valid set because all the elements are distinct.\n",
    "- {Heads, Heads} is not a proper set because two elements are identical.\n",
    "\n",
    "Notice we also use curly braces to write a set: {Heads, Tails} is a set, while [Heads, Tails] is not a set.\n",
    "\n",
    "In probability theory, the set of all possible outcomes is called a **sample space**. A sample space is often denoted by the capital Greek letter Ω (read \"omega\"). This is how we represent the sample space of a die roll:\n",
    "\n",
    "**Ω={1,2,3,4,5,6}**\n",
    "\n",
    "For the following exercise, we'll consider a random experiment where we roll a fair six-sided die two times (\"fair\" means all outcomes have equal chances of occurring). The sample space of this experiment has 36 possible outcomes (all the sequences of numbers we can get from the two throws):\n",
    "\n",
    "**Ω={(1,1),(1,2),(1,3),(1,4),(1,5),(1,6),(2,1),...,(6,5),(6,6)}**\n",
    "\n",
    "![probability-pic-1](https://raw.githubusercontent.com/tongNJ/Dataquest-Online-Courses-2022/main/Pictures/probability-pic-1.PNG)"
   ]
  },
  {
   "cell_type": "code",
   "execution_count": 2,
   "metadata": {},
   "outputs": [],
   "source": [
    "import numpy as np"
   ]
  },
  {
   "cell_type": "code",
   "execution_count": 8,
   "metadata": {
    "scrolled": true
   },
   "outputs": [
    {
     "name": "stdout",
     "output_type": "stream",
     "text": [
      "36\n",
      "[[1, 1], [1, 2], [1, 3], [1, 4], [1, 5], [1, 6], [2, 1], [2, 2], [2, 3], [2, 4], [2, 5], [2, 6], [3, 1], [3, 2], [3, 3], [3, 4], [3, 5], [3, 6], [4, 1], [4, 2], [4, 3], [4, 4], [4, 5], [4, 6], [5, 1], [5, 2], [5, 3], [5, 4], [5, 5], [5, 6], [6, 1], [6, 2], [6, 3], [6, 4], [6, 5], [6, 6]]\n",
      "36\n",
      "[2, 3, 4, 5, 6, 7, 3, 4, 5, 6, 7, 8, 4, 5, 6, 7, 8, 9, 5, 6, 7, 8, 9, 10, 6, 7, 8, 9, 10, 11, 7, 8, 9, 10, 11, 12]\n"
     ]
    }
   ],
   "source": [
    "#let write a function to generate smaple space (a set of unique outcomes) by rolling two 6-sided dices\n",
    "sample_space = []\n",
    "sample_space_sum = []\n",
    "dice_outcome = np.arange(1,7)\n",
    "for d1 in dice_outcome:\n",
    "    for d2 in dice_outcome:\n",
    "        if [d1,d2] in sample_space:\n",
    "            pass\n",
    "        else:\n",
    "            sample_space.append([d1,d2])\n",
    "            sample_space_sum.append(d1+d2)\n",
    "\n",
    "print(len(sample_space))\n",
    "print(sample_space)\n",
    "\n",
    "print(len(sample_space_sum))\n",
    "print(sample_space_sum)\n"
   ]
  },
  {
   "cell_type": "code",
   "execution_count": 11,
   "metadata": {},
   "outputs": [],
   "source": [
    "def cal_probability(criteria,value):\n",
    "# if criteria = 0 means ==\n",
    "# if criteria = 1 means >\n",
    "# if criteria = -1 means <\n",
    "    outcome=0\n",
    "    for i in sample_space_sum:\n",
    "        if criteria ==0:\n",
    "            if i == value:\n",
    "                outcome +=1\n",
    "        elif criteria ==1:\n",
    "            if i > value:\n",
    "                outcome +=1\n",
    "        else:\n",
    "            if i < value:\n",
    "                outcome +=1\n",
    "    return outcome/len(sample_space_sum) \n",
    "\n",
    "    "
   ]
  },
  {
   "cell_type": "code",
   "execution_count": 18,
   "metadata": {},
   "outputs": [
    {
     "name": "stdout",
     "output_type": "stream",
     "text": [
      "P(The sum of the two rolls is 6) = 13.89%\n",
      "P(The sum of the two rolls is lower than 15) = 100.0%\n",
      "P(The sum of the two rolls is greater than 13) = 0.0%\n"
     ]
    }
   ],
   "source": [
    "#The sum of the two rolls is 6. Assign the probability to p_sum_6.\n",
    "p_sum_6 = cal_probability(criteria=0,value=6)\n",
    "print(f'P(The sum of the two rolls is 6) = {round(p_sum_6*100,2)}%')\n",
    "\n",
    "#The sum of the two rolls is lower than 15. Assign the probability to p_lower_15.\n",
    "p_lower_15 = cal_probability(criteria=-1,value=15)\n",
    "print(f'P(The sum of the two rolls is lower than 15) = {round(p_lower_15*100,2)}%')\n",
    "\n",
    "#The sum of the two rolls is greater than 13. Assign the probability to p_greater_13.\n",
    "p_greater_13 = cal_probability(criteria=1,value=13)\n",
    "print(f'P(The sum of the two rolls is greater than 13) = {round(p_greater_13*100,2)}%')"
   ]
  },
  {
   "cell_type": "code",
   "execution_count": 19,
   "metadata": {},
   "outputs": [
    {
     "name": "stdout",
     "output_type": "stream",
     "text": [
      "P(The sum is either 2 or 4) = 11.11%\n",
      "P(The sum is either 12 or 13) = 2.78%\n"
     ]
    }
   ],
   "source": [
    "# The sum is either 2 or 4. Assign the probability as a proportion to p_2_or_4.\n",
    "p_2_or_4 = cal_probability(criteria=0,value=2) + cal_probability(criteria=0,value=4)\n",
    "print(f'P(The sum is either 2 or 4) = {round(p_2_or_4*100,2)}%')\n",
    "\n",
    "# The sum is either 12 or 13. Assign the probability as a proportion to p_12_or_13.\n",
    "p_12_or_13 = cal_probability(criteria=0,value=12) + cal_probability(criteria=0,value=13)\n",
    "print(f'P(The sum is either 12 or 13) = {round(p_12_or_13*100,2)}%')"
   ]
  },
  {
   "cell_type": "markdown",
   "metadata": {},
   "source": [
    "For rolling a fair six-sided die (\"fair\" means all outcomes have equal chances of occurring), consider the following two events, A and B:\n",
    "\n",
    "- A = {3} — getting a 3\n",
    "- B = {5} — getting a 5\n",
    "Now, we'd like to find:\n",
    "\n",
    "- P(A) — the probability of getting a 3 ==> 1/6\n",
    "- P(B) — the probability of getting a 5 ==> 1/6\n",
    "- P(A or B) — the probability of getting a 3 or a 5 ==> (1/6) + (1/6)\n",
    "\n",
    "The sample space of rolling a fair six-sided die is:\n",
    "\n",
    "Ω= {1,2,3,4,5,6}\n",
    "\n",
    "To calculate P(A or B), we can also use the formula below, which is sometimes called the addition rule:\n",
    "\n",
    "**P(A or B) = P(A) + P(B) = (1/6) + (1/6) = (1/3)**\n",
    "\n"
   ]
  },
  {
   "cell_type": "code",
   "execution_count": 43,
   "metadata": {},
   "outputs": [
    {
     "name": "stdout",
     "output_type": "stream",
     "text": [
      "P(The sum is either 5 or 9) = 22.22%\n",
      "P(The sum is either even or less than 2 ) = 50.0%\n",
      "P(The sum is either 4 or a multiple of 3) = 41.67%\n"
     ]
    }
   ],
   "source": [
    "#The sum is either 5 or 9 — assign your answer to p_5_or_9.\n",
    "p_5_or_9  = cal_probability(0,5)+cal_probability(0,9)\n",
    "print(f'P(The sum is either 5 or 9) = {round(p_5_or_9*100,2)}%')\n",
    "\n",
    "#The sum is either even or less than 2 — assign your answer to p_even_or_less_2.\n",
    "p_even = 0\n",
    "for i in set(sample_space_sum):\n",
    "    if i%2==0:\n",
    "        p_even += cal_probability(0,i)\n",
    "    else:\n",
    "        pass\n",
    "p_even_or_less_2 = p_even + cal_probability(-1,2)\n",
    "print(f'P(The sum is either even or less than 2 ) = {round(p_even_or_less_2*100,2)}%')\n",
    "\n",
    "#The sum is either 4 or a multiple of 3 — assign your answer to p_4_or_3_multiple.\n",
    "p_mutiple_3 = 0\n",
    "for i in set(sample_space_sum):\n",
    "    if i%3==0:\n",
    "        p_mutiple_3 += cal_probability(0,i)\n",
    "    else:\n",
    "        pass\n",
    "p_4_or_3_multiple = p_mutiple_3 + cal_probability(0,4)\n",
    "print(f'P(The sum is either 4 or a multiple of 3) = {round(p_4_or_3_multiple*100,2)}%')"
   ]
  },
  {
   "cell_type": "markdown",
   "metadata": {},
   "source": [
    "So far so good, we use addition method to calcualte probability of the event. But addition method wouldn't work if consider the following cases\n",
    "\n",
    "Consider also the events C and D, which are:\n",
    "\n",
    "- C = {2, 4, 6} — getting an even number\n",
    "- D = {4, 5, 6} — getting a number greater than 3\n",
    "\n",
    "Notice that two elements, 4 and 6, belong to both C and D. To account for these two common elements, we need to represent C and D on a Venn diagram with a point of intersection:\n",
    "\n",
    "![probability_pic-2](https://raw.githubusercontent.com/tongNJ/Dataquest-Online-Courses-2022/main/Pictures/probability-pic-2.PNG)\n",
    "\n",
    "In the previous exercise, we used two different ways to calculate P(C or D), and we expected both to lead to the same result. \n",
    "\n",
    "- First, we used the addition rule and got \n",
    "  - ~~**P(C or D) = P(C) + P(D) = (3/6) +(3/6) = 1**~~\n",
    "\n",
    "\n",
    "- Then, we used the theoretical probability formula and got\n",
    "\n",
    "  - **P(C or D) = number of successful outcomes / total number of outcomes = 4/6 = 0.67**\n",
    "    \n",
    "  - **P(C or D) = P(C) + P(D) - P(C and D) = (3/6) + (3/6) -(2/6) = 4/6**\n",
    "      - where P(C and D) corresponding to the event where the number is both even and greater than 3...\n",
    "  \n",
    "The reason we got different results is that the addition rule **doesn't work** for events that **share corresponding outcomes**. In the case of C and D, they have two outcomes in common: 4 and 6 (remember event C is getting an even number and event D is getting a number greater than 3)."
   ]
  },
  {
   "cell_type": "markdown",
   "metadata": {},
   "source": [
    "### Test\n",
    "\n",
    "An online betting company offers customers the possibility of betting on a variety of games and events (football, tennis, hockey, horse races, car races, etc.). Based on historical data, the company knows the empirical probabilities of the following events:\n",
    "\n",
    "- Event F (a new customer's first bet is on football) — the probability is 0.26.\n",
    "\n",
    "- Event T (a new customer's first bet is on tennis) — the probability is 0.11.\n",
    "\n",
    "- Event \"T and F\" (a new customer's first bet is on both football and tennis) — the probability is 0.03.\n",
    "\n",
    "Find the probability that a new customer's first bet is either on football or tennis. Assign your answer to p_f_or_t. You can't use theoretical probability formula to solve this, so you'll need to make use of the addition rule.\n",
    "\n",
    "**P(A or B) = P(A) + P(B) - P(A and B)**\n"
   ]
  },
  {
   "cell_type": "code",
   "execution_count": 50,
   "metadata": {},
   "outputs": [
    {
     "name": "stdout",
     "output_type": "stream",
     "text": [
      "0.33999999999999997\n"
     ]
    }
   ],
   "source": [
    "p_f_or_t = 0.26+0.11-0.03\n",
    "print(p_f_or_t)\n",
    "\n"
   ]
  },
  {
   "cell_type": "markdown",
   "metadata": {},
   "source": [
    "Consider the following sets:\n",
    "\n",
    "A={1,2,6}\n",
    "B={1,4,5,6}\n",
    "C={HH, HT, TH}\n",
    "D={Green, Yellow, Brown}\n",
    "\n",
    "In set theory, when we say \"**set A or set B**,\" we are referring to a single set that is the result of the **union** between set A and set B. The resulting set will have:\n",
    "- The elements of set A that are not in B\n",
    "- The elements of set B that are not in A\n",
    "- The elements that occur in both A and B\n",
    "\n",
    "A set can only contain unique elements, so the set resulting from a union cannot include the elements that occur in both A and B more than one time. Below, we see the result of a few unions between the four sets above (A, B, C, and D) — in set theory, we use the symbol \n",
    "∪ to represent union:\n",
    "\n",
    "\n",
    "A ∪ B (A or B) = {1, 2, 3, 4, 5}\n",
    "\n",
    "A ∪ D (A or D) = {1, 2, 6, HH, HT, TH}\n",
    "\n",
    "B ∪ C (B or C)= {1, 4, 5, 6, Green, Yellow, Brown}\n",
    "\n",
    "\n",
    "--------------------------------------------------------------------------------------------\n",
    "\n",
    "When we say \"**set A and set B**,\" we are referring to a single set that contains all the **unique elements** that occur in **both A and B**. In set theory, this \"and\" operation is called intersection and is represented by the symbol **∩**. Below, we see the results of the intersection of the various sets above (remember Ø means an empty set):\n",
    "\n",
    "A ∩ B (A and B) = {1,6}\n",
    "\n",
    "A ∩ D (A and D) = Ø\n",
    "\n",
    "B ∩ C (B and C) = Ø"
   ]
  },
  {
   "cell_type": "markdown",
   "metadata": {},
   "source": [
    "### Consider the following sets:\n",
    "\n",
    "M = {100, 22, 1, 2}\n",
    "\n",
    "N = {22, car insurance, 2, house insurance}\n",
    "\n",
    "O = {HHHH, TTTT, TH}\n",
    "\n",
    "P = {Hockey, Cycling, Athletics, Swimming}\n",
    "\n",
    "Consider the following set operations and their results:"
   ]
  },
  {
   "cell_type": "code",
   "execution_count": 52,
   "metadata": {},
   "outputs": [],
   "source": [
    "# Q1. M ∪ P = Ø: If you think the result is correct, assign the boolean True to a variable named operation_1, otherwise assign False.\n",
    "operation_1 = False \n",
    "# M ∪ P (M or P) = P(M) + P(P) - P (M ∩ P) = {100,22,1,2} + {Hockey, Cycling, Athletics, Swimming} - {Ø} = {100,22,1,2,Hockey, Cycling, Athletics, Swimming}\n",
    "\n",
    "# Q2. N ∩ M = {22, 2}: If you think the result is correct, assign the boolean True to a variable named operation_2, otherwise assign False.\n",
    "operation_2 = True\n",
    "\n",
    "# Q3 O ∪ M = {HHHH, TTTT, 100, 22, 2}: If you think the result is correct, assign the boolean True to a variable named operation_3, otherwise assign False.\n",
    "operation_3 = False\n",
    "# O ∪ M (O or M) = P(O) + P(M) - P (O ∩ M) = {HHHH,TTTT,TH} + {100,22,1,2} - {Ø} = {HHH,TTTT,TH,100,22,1,2}\n",
    "\n",
    "# Q4. P ∩ N = Ø: If you think the result is correct, assign the boolean True to a variable named operation_4, otherwise assign False.\n",
    "operation_4 = True\n",
    "\n"
   ]
  },
  {
   "cell_type": "code",
   "execution_count": 56,
   "metadata": {},
   "outputs": [
    {
     "name": "stdout",
     "output_type": "stream",
     "text": [
      "Two mutually exclusive events have no point of intersection on a Venn diagram. [True]\n",
      "\n",
      "\n",
      "The probability of an event must be greater than 0 and lower than 1. [False]\n",
      "\n",
      "\n",
      "Events A and B are mutually exclusive, so the probability that they happen both at the same time is 0. [True]\n"
     ]
    }
   ],
   "source": [
    "print('Two mutually exclusive events have no point of intersection on a Venn diagram. [True]')\n",
    "print('\\n')\n",
    "print('The probability of an event must be greater than 0 and lower than 1. [False]')\n",
    "print('\\n')\n",
    "print('Events A and B are mutually exclusive, so the probability that they happen both at the same time is 0. [True]')\n"
   ]
  },
  {
   "cell_type": "markdown",
   "metadata": {},
   "source": [
    "### Test\n",
    "A travel agency analyzed the purchasing behavior of its customers and found out that out of 132 randomly selected people:\n",
    "\n",
    "- 64 bought a summer vacation\n",
    "- 21 bought a winter vacation\n",
    "- 15 bought both a summer and a winter vacation\n",
    "\n",
    "The travel agency provides customers with only two options: a summer vacation and a winter vacation. Calculate:"
   ]
  },
  {
   "cell_type": "code",
   "execution_count": 63,
   "metadata": {},
   "outputs": [
    {
     "name": "stdout",
     "output_type": "stream",
     "text": [
      "The probability that a customer buys both a summer and a winter vacation. AWS = 11.4%\n",
      "The probability that a customer buys a summer vacation or a winter vacation. AWS = 53.0%\n",
      "The probability that a person does not buy anything at all. AWS = 47.0%\n"
     ]
    }
   ],
   "source": [
    "print(f'The probability that a customer buys both a summer and a winter vacation. AWS = {round(15/132*100,1)}%')\n",
    "\n",
    "print(f'The probability that a customer buys a summer vacation or a winter vacation. AWS = {round((64+21-15)/132*100,1)}%')\n",
    "\n",
    "print(f'The probability that a person does not buy anything at all. AWS = {round((1- ((64+21-15)/132))*100,1)}%')\n",
    "\n"
   ]
  }
 ],
 "metadata": {
  "kernelspec": {
   "display_name": "Python 3",
   "language": "python",
   "name": "python3"
  },
  "language_info": {
   "codemirror_mode": {
    "name": "ipython",
    "version": 3
   },
   "file_extension": ".py",
   "mimetype": "text/x-python",
   "name": "python",
   "nbconvert_exporter": "python",
   "pygments_lexer": "ipython3",
   "version": "3.7.3"
  }
 },
 "nbformat": 4,
 "nbformat_minor": 2
}
