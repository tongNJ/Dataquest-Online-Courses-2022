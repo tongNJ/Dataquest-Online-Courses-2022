{
 "cells": [
  {
   "cell_type": "markdown",
   "metadata": {},
   "source": [
    "# Lotto 6/49\n",
    "\n",
    "###  Background\n",
    "\n",
    "Lotto 6/49 is one of three national lottery games in Canada. Launched on June 12, 1982, Lotto 6/49 was the first nationwide Canadian lottery game to allow players to choose their own numbers. Previous national games, such as the Olympic Lottery, Loto Canada and Superloto used pre-printed numbers on tickets. Lotto 6/49 led to the gradual phase-out of that type of lottery game in Canada.\n",
    "\n",
    "\n",
    "### Problems\n",
    "\n",
    "Many people start playing the lottery for fun, but for some this activity turns into a habit which eventually escalates into addiction. Like other compulsive gamblers, lottery addicts soon begin spending from their savings and loans, they start to accumulate debts, and eventually engage in desperate behaviors like theft.\n",
    "\n",
    "A medical institute that aims to prevent and treat gambling addictions wants to build a dedicated mobile app to help lottery addicts better estimate their chances of winning. The institute has a team of engineers that will build the app, but they need us to create the logical core of the app and calculate probabilities.\n",
    "\n",
    "For the first version of the app, they want us to focus on the 6/49 lottery and build functions that enable users to answer questions like:\n",
    "\n",
    "- What is the probability of winning the big prize with a single ticket?\n",
    "\n",
    "- What is the probability of winning the big prize if we play 40 different tickets (or any other number)?\n",
    "\n",
    "- What is the probability of having at least five (or four, or three, or two) winning numbers on a single ticket?"
   ]
  },
  {
   "cell_type": "code",
   "execution_count": 42,
   "metadata": {},
   "outputs": [],
   "source": [
    "import pandas as pd\n",
    "import numpy as np"
   ]
  },
  {
   "cell_type": "code",
   "execution_count": 10,
   "metadata": {},
   "outputs": [],
   "source": [
    "# Let's start by writing two functions that will be used frequenctly - factorials and combinations\n",
    "# Factorials n! = n ⋅ (n-1) ⋅ (n-2) ⋅ ... ⋅ 3 ⋅ 2 ⋅ 1\n",
    "def factorial(n):\n",
    "    total_sum = 1\n",
    "    for i in range(n,0,-1):\n",
    "        total_sum *= i\n",
    "    return total_sum\n",
    "\n",
    "# Combination = nPk / k!\n",
    "def permutation(n,k):\n",
    "    return factorial(n)/factorial(n-k)\n",
    "\n",
    "def combination(n,k):\n",
    "    return permutation(n,k)/factorial(k)"
   ]
  },
  {
   "cell_type": "code",
   "execution_count": 119,
   "metadata": {},
   "outputs": [],
   "source": [
    "def one_ticket_probability():\n",
    "    pro = 1/combination(49,6)\n",
    "    comb = int(combination(49,6))\n",
    "    return print('You have 1 in {0:,} chance to win the next lotto, the probability is {1:.10%}'.format(comb,pro))"
   ]
  },
  {
   "cell_type": "code",
   "execution_count": 120,
   "metadata": {},
   "outputs": [
    {
     "name": "stdout",
     "output_type": "stream",
     "text": [
      "You have 1 in 13,983,816 chance to win the next lotto, the probability is 0.0000071511%\n"
     ]
    }
   ],
   "source": [
    "one_ticket_probability()"
   ]
  },
  {
   "cell_type": "markdown",
   "metadata": {},
   "source": [
    "On the previous screen, we wrote a function that can tell users what is the probability of winning the big prize with a single ticket. For the first version of the app, however, users should also be able to compare their ticket against the historical lottery data in Canada and determine whether they would have ever won by now.\n",
    "\n",
    "On this screen, we'll focus on exploring the historical data coming from the Canada 6/49 lottery. The data set can be downloaded from [Kaggle](https://www.kaggle.com/datascienceai/lottery-dataset) and it has the following structure:"
   ]
  },
  {
   "cell_type": "code",
   "execution_count": 43,
   "metadata": {},
   "outputs": [],
   "source": [
    "file_loc = 'D:/Dataquest/Dataquest 2022 Learning/Datasets/'\n",
    "df = pd.read_csv(file_loc + '649.csv')"
   ]
  },
  {
   "cell_type": "code",
   "execution_count": 46,
   "metadata": {},
   "outputs": [
    {
     "name": "stdout",
     "output_type": "stream",
     "text": [
      "(3665, 11)\n"
     ]
    },
    {
     "data": {
      "text/html": [
       "<div>\n",
       "<style scoped>\n",
       "    .dataframe tbody tr th:only-of-type {\n",
       "        vertical-align: middle;\n",
       "    }\n",
       "\n",
       "    .dataframe tbody tr th {\n",
       "        vertical-align: top;\n",
       "    }\n",
       "\n",
       "    .dataframe thead th {\n",
       "        text-align: right;\n",
       "    }\n",
       "</style>\n",
       "<table border=\"1\" class=\"dataframe\">\n",
       "  <thead>\n",
       "    <tr style=\"text-align: right;\">\n",
       "      <th></th>\n",
       "      <th>PRODUCT</th>\n",
       "      <th>DRAW NUMBER</th>\n",
       "      <th>SEQUENCE NUMBER</th>\n",
       "      <th>DRAW DATE</th>\n",
       "      <th>NUMBER DRAWN 1</th>\n",
       "      <th>NUMBER DRAWN 2</th>\n",
       "      <th>NUMBER DRAWN 3</th>\n",
       "      <th>NUMBER DRAWN 4</th>\n",
       "      <th>NUMBER DRAWN 5</th>\n",
       "      <th>NUMBER DRAWN 6</th>\n",
       "      <th>BONUS NUMBER</th>\n",
       "    </tr>\n",
       "  </thead>\n",
       "  <tbody>\n",
       "    <tr>\n",
       "      <th>0</th>\n",
       "      <td>649</td>\n",
       "      <td>1</td>\n",
       "      <td>0</td>\n",
       "      <td>6/12/1982</td>\n",
       "      <td>3</td>\n",
       "      <td>11</td>\n",
       "      <td>12</td>\n",
       "      <td>14</td>\n",
       "      <td>41</td>\n",
       "      <td>43</td>\n",
       "      <td>13</td>\n",
       "    </tr>\n",
       "    <tr>\n",
       "      <th>1</th>\n",
       "      <td>649</td>\n",
       "      <td>2</td>\n",
       "      <td>0</td>\n",
       "      <td>6/19/1982</td>\n",
       "      <td>8</td>\n",
       "      <td>33</td>\n",
       "      <td>36</td>\n",
       "      <td>37</td>\n",
       "      <td>39</td>\n",
       "      <td>41</td>\n",
       "      <td>9</td>\n",
       "    </tr>\n",
       "    <tr>\n",
       "      <th>2</th>\n",
       "      <td>649</td>\n",
       "      <td>3</td>\n",
       "      <td>0</td>\n",
       "      <td>6/26/1982</td>\n",
       "      <td>1</td>\n",
       "      <td>6</td>\n",
       "      <td>23</td>\n",
       "      <td>24</td>\n",
       "      <td>27</td>\n",
       "      <td>39</td>\n",
       "      <td>34</td>\n",
       "    </tr>\n",
       "    <tr>\n",
       "      <th>3</th>\n",
       "      <td>649</td>\n",
       "      <td>4</td>\n",
       "      <td>0</td>\n",
       "      <td>7/3/1982</td>\n",
       "      <td>3</td>\n",
       "      <td>9</td>\n",
       "      <td>10</td>\n",
       "      <td>13</td>\n",
       "      <td>20</td>\n",
       "      <td>43</td>\n",
       "      <td>34</td>\n",
       "    </tr>\n",
       "    <tr>\n",
       "      <th>4</th>\n",
       "      <td>649</td>\n",
       "      <td>5</td>\n",
       "      <td>0</td>\n",
       "      <td>7/10/1982</td>\n",
       "      <td>5</td>\n",
       "      <td>14</td>\n",
       "      <td>21</td>\n",
       "      <td>31</td>\n",
       "      <td>34</td>\n",
       "      <td>47</td>\n",
       "      <td>45</td>\n",
       "    </tr>\n",
       "  </tbody>\n",
       "</table>\n",
       "</div>"
      ],
      "text/plain": [
       "   PRODUCT  DRAW NUMBER  SEQUENCE NUMBER  DRAW DATE  NUMBER DRAWN 1  \\\n",
       "0      649            1                0  6/12/1982               3   \n",
       "1      649            2                0  6/19/1982               8   \n",
       "2      649            3                0  6/26/1982               1   \n",
       "3      649            4                0   7/3/1982               3   \n",
       "4      649            5                0  7/10/1982               5   \n",
       "\n",
       "   NUMBER DRAWN 2  NUMBER DRAWN 3  NUMBER DRAWN 4  NUMBER DRAWN 5  \\\n",
       "0              11              12              14              41   \n",
       "1              33              36              37              39   \n",
       "2               6              23              24              27   \n",
       "3               9              10              13              20   \n",
       "4              14              21              31              34   \n",
       "\n",
       "   NUMBER DRAWN 6  BONUS NUMBER  \n",
       "0              43            13  \n",
       "1              41             9  \n",
       "2              39            34  \n",
       "3              43            34  \n",
       "4              47            45  "
      ]
     },
     "execution_count": 46,
     "metadata": {},
     "output_type": "execute_result"
    }
   ],
   "source": [
    "print(df.shape)\n",
    "\n",
    "df.head()"
   ]
  },
  {
   "cell_type": "code",
   "execution_count": 63,
   "metadata": {},
   "outputs": [],
   "source": [
    "# Let's write a function that will allow users to compare their ticket against the historical data\n",
    "def historical_probability(a):\n",
    "    match_1 = df['NUMBER DRAWN 1'] == a[0]\n",
    "    match_2 = df['NUMBER DRAWN 2'] == a[1]\n",
    "    match_3 = df['NUMBER DRAWN 3'] == a[2]\n",
    "    match_4 = df['NUMBER DRAWN 4'] == a[3]\n",
    "    match_5 = df['NUMBER DRAWN 5'] == a[4]\n",
    "    match_6 = df['NUMBER DRAWN 6'] == a[5]\n",
    "    num_of_match = df[match_1 & match_2 & match_3 & match_4 & match_5 & match_6]\n",
    "    hist_probability = len(num_of_match) / len(df)\n",
    "    return print('You selection occurred {0} times in the Canada data set.'.format(len(num_of_match))), one_ticket_probability()"
   ]
  },
  {
   "cell_type": "code",
   "execution_count": 66,
   "metadata": {},
   "outputs": [],
   "source": [
    "a = [1,2,3,4,5,6]\n",
    "\n",
    "# match_1 = df['NUMBER DRAWN 1'] == a[0]\n",
    "# match_2 = df['NUMBER DRAWN 2'] == a[1]\n",
    "# match_3 = df['NUMBER DRAWN 3'] == a[2]\n",
    "# match_4 = df['NUMBER DRAWN 4'] == a[3]\n",
    "# match_5 = df['NUMBER DRAWN 5'] == a[4]\n",
    "# match_6 = df['NUMBER DRAWN 6'] == a[5]\n",
    "\n",
    "# df[match_1 & match_2 & match_3 & match_4 & match_5 & match_6]"
   ]
  },
  {
   "cell_type": "code",
   "execution_count": 121,
   "metadata": {},
   "outputs": [
    {
     "name": "stdout",
     "output_type": "stream",
     "text": [
      "You selection occurred 0 times in the Canada data set\n",
      "You have 1 in 13,983,816 chance to win the next lotto, the probability is 0.0000071511%\n"
     ]
    },
    {
     "data": {
      "text/plain": [
       "(None, None)"
      ]
     },
     "execution_count": 121,
     "metadata": {},
     "output_type": "execute_result"
    }
   ],
   "source": [
    "historical_probability(a)"
   ]
  },
  {
   "cell_type": "code",
   "execution_count": 68,
   "metadata": {},
   "outputs": [],
   "source": [
    "def extract_number(row):\n",
    "    row_extracted = {row['NUMBER DRAWN 1'],row['NUMBER DRAWN 2'],row['NUMBER DRAWN 3'],row['NUMBER DRAWN 4'],row['NUMBER DRAWN 5'],row['NUMBER DRAWN 6']}\n",
    "    return row_extracted"
   ]
  },
  {
   "cell_type": "code",
   "execution_count": 73,
   "metadata": {},
   "outputs": [
    {
     "data": {
      "text/plain": [
       "0        {3, 41, 11, 12, 43, 14}\n",
       "1        {33, 36, 37, 39, 8, 41}\n",
       "2         {1, 6, 39, 23, 24, 27}\n",
       "3         {3, 9, 10, 43, 13, 20}\n",
       "4        {34, 5, 14, 47, 21, 31}\n",
       "                  ...           \n",
       "3660    {38, 40, 41, 10, 15, 23}\n",
       "3661    {36, 46, 47, 19, 25, 31}\n",
       "3662     {32, 34, 6, 22, 24, 31}\n",
       "3663     {2, 38, 15, 49, 21, 31}\n",
       "3664    {35, 37, 14, 48, 24, 31}\n",
       "Length: 3665, dtype: object"
      ]
     },
     "execution_count": 73,
     "metadata": {},
     "output_type": "execute_result"
    }
   ],
   "source": [
    "all_winning_sets = df.apply(extract_number,axis=1)\n",
    "all_winning_sets"
   ]
  },
  {
   "cell_type": "code",
   "execution_count": 89,
   "metadata": {},
   "outputs": [],
   "source": [
    "def check_historical_occurence(a, historical_sets):\n",
    "    user_ticket = set(a)\n",
    "    occurance = len(historical_sets[historical_sets==user_ticket])\n",
    "    return print('Your selection appeared {0} times from Canada Lotto dataset'.format(occurance)), one_ticket_probability() "
   ]
  },
  {
   "cell_type": "code",
   "execution_count": 122,
   "metadata": {},
   "outputs": [
    {
     "name": "stdout",
     "output_type": "stream",
     "text": [
      "You selection is {38, 40, 41, 10, 15, 23}\n",
      "Your selection appeared 1 times from Canada Lotto dataset\n",
      "You have 1 in 13,983,816 chance to win the next lotto, the probability is 0.0000071511%\n"
     ]
    },
    {
     "data": {
      "text/plain": [
       "(None, None)"
      ]
     },
     "execution_count": 122,
     "metadata": {},
     "output_type": "execute_result"
    }
   ],
   "source": [
    "a = [38, 40, 41, 10, 15, 23]\n",
    "print('You selection is {0}'.format(set(a)))\n",
    "check_historical_occurence(a, all_winning_sets)"
   ]
  },
  {
   "cell_type": "markdown",
   "metadata": {},
   "source": [
    "In fact, when we check the historical data, each winning set only appeared once."
   ]
  },
  {
   "cell_type": "markdown",
   "metadata": {},
   "source": [
    "Lottery addicts usually play more than one ticket on a single drawing, thinking that this might increase their chances of winning significantly. Our purpose is to help them better estimate their chances of winning — on this screen, we're going to write a function that will allow the users to calculate the chances of winning for any number of different tickets.\n",
    "\n",
    "We've talked with the engineering team and they gave us the following information:\n",
    "\n",
    "- The user will input the number of different tickets they want to play (without inputting the specific combinations they intend to play).\n",
    "- Our function will see an integer between 1 and 13,983,816 (the maximum number of different tickets).\n",
    "- The function should print information about the probability of winning the big prize depending on the number of different tickets played."
   ]
  },
  {
   "cell_type": "code",
   "execution_count": 104,
   "metadata": {},
   "outputs": [],
   "source": [
    "# def multi_ticket_probability(a):\n",
    "#     user_combination = combination(len(a),6)\n",
    "#     all_combination = combination(49,6)\n",
    "#     prob = user_combination / all_combination\n",
    "#     return print('You select {0} numbers, which have {1:,} combinations, and the probability of winning the next lotto is {2:.10%}'.format(a,int(user_combination),prob*100))"
   ]
  },
  {
   "cell_type": "code",
   "execution_count": 117,
   "metadata": {},
   "outputs": [],
   "source": [
    "def multi_ticket_probability(a):\n",
    "    user_tickets = a\n",
    "    all_combination = combination(49,6)\n",
    "    if user_tickets > all_combination:\n",
    "        print('You have entered too many combinations')\n",
    "    else:\n",
    "        prob = user_tickets / all_combination\n",
    "        print('If you buy {0} tickets, the probability of winning the next lotto is {1:.10%}'.format(user_tickets,prob))\n",
    "    return "
   ]
  },
  {
   "cell_type": "code",
   "execution_count": 124,
   "metadata": {},
   "outputs": [
    {
     "name": "stdout",
     "output_type": "stream",
     "text": [
      "If you buy 13983816 tickets, the probability of winning the next lotto is 100.0000000000%\n"
     ]
    }
   ],
   "source": [
    "multi_ticket_probability(13983816)"
   ]
  },
  {
   "cell_type": "code",
   "execution_count": 116,
   "metadata": {},
   "outputs": [
    {
     "data": {
      "text/plain": [
       "'percentage 50.000%'"
      ]
     },
     "execution_count": 116,
     "metadata": {},
     "output_type": "execute_result"
    }
   ],
   "source": [
    "'percentage {0:.3%}'.format(0.5)"
   ]
  },
  {
   "cell_type": "markdown",
   "metadata": {},
   "source": [
    "On this screen, we're going to write one more function to allow the users to calculate probabilities for two, three, four, or five winning numbers.\n",
    "\n",
    "For extra context, in most 6/49 lotteries there are smaller prizes if a player's ticket match two, three, four, or five of the six numbers drawn. As a consequence, the users might be interested in knowing the probability of having two, three, four, or five winning numbers.\n",
    "\n",
    "These are the engineering details we'll need to be aware of:\n",
    "\n",
    "- Inside the app, the user inputs:\n",
    "  - six different numbers from 1 to 49; and\n",
    "  - an integer between 2 and 5 that represents the number of winning numbers expected\n",
    "  \n",
    "  \n",
    "Our function prints information about the probability of having the inputted number of winning numbers.\n",
    "To help you code this function, we'll guide you through calculating the probability for having exactly five winning numbers. First, we need to differentiate between these two probability questions:\n",
    "\n",
    "\n",
    "1. What is the probability of having exactly five winning numbers?\n",
    "\n",
    "\n",
    "2. What is the probability of having at least five winning numbers?"
   ]
  },
  {
   "cell_type": "markdown",
   "metadata": {},
   "source": [
    "---------------------------------------------------------------------------------------------------------------------------\n",
    "Let's answer the first question, what is the probability of having exactly five winning number?\n",
    "\n",
    "For any given ticket with 6 numbers, there are 6 possible 5-number combinations $_6C_5$ = (6! * (6-5)!) / 5! = 6\n",
    "\n",
    "Let's assume we choose {1,2,3,4,5,6}, we can form six five-number combinations:\n",
    "\n",
    "- (1,2,3,4,5)\n",
    "- (1,2,3,4,6)\n",
    "- (1,2,3,5,6)\n",
    "- (1,2,4,5,6)\n",
    "- (1,3,4,5,6)\n",
    "- (2,3,4,5,6)\n",
    "\n",
    "For each of the five-number combinations, let's take (1,2,3,4,5) as an example, there are **44** possible six-number outcomes:\n",
    "\n",
    "- (1,2,3,4,5,**6**)\n",
    "- (1,2,3,4,5,**7**)\n",
    "- (1,2,3,4,5,**8**)\n",
    "- ...\n",
    "- ...\n",
    "- (1,2,3,4,5,**48**)\n",
    "- (1,2,3,4,5,**49**)\n",
    "\n",
    "\n",
    "### However, for probability of having exactly FIVE winning numbers, NOT SIX winner numbers, we need to minus 1 outcome, so there are 43 possible six_number outcomes to win exact FIVE-number prize.\n",
    "\n",
    "\n",
    "- Therefore, for each of the 6 combination, we have 43 possible winning outcomes, and the total number of winning outcomes will be\n",
    "\n",
    "  **6 * 43 = 258 possible winning outcomes**\n",
    "  \n",
    "  \n",
    "- The total possible Six-number outcomes are $_49C_6$ = **13,983,816** outcomes\n",
    "\n",
    "\n",
    "- **P(5-winning numbers) = 258 / 13,983,816 =0.00001845 = 0.001845%**\n",
    "\n"
   ]
  },
  {
   "cell_type": "code",
   "execution_count": 146,
   "metadata": {},
   "outputs": [],
   "source": [
    "def probability_less_6(n):\n",
    "    \n",
    "    possible_combination = combination(6,n)\n",
    "    possible_outcomes_per_combination = combination(43,6-n)\n",
    "    possible_outcomes = possible_combination * possible_outcomes_per_combination\n",
    "    \n",
    "    total_outcomes = combination(49,6)\n",
    "    \n",
    "    probability = possible_outcomes / total_outcomes\n",
    "    \n",
    "    print('The {0}-winner number probability is {1:.6%}'.format(n,probability))\n",
    "    return "
   ]
  },
  {
   "cell_type": "markdown",
   "metadata": {},
   "source": [
    "\n",
    "\n",
    "----------------------------------------------------------------------------------------\n",
    "2. What is the probability of having at least five winning numbers?\n",
    "\n",
    "- P(at least 5_winning numbers) = P(5-winning numbers) * (1/44)"
   ]
  },
  {
   "cell_type": "code",
   "execution_count": 151,
   "metadata": {},
   "outputs": [
    {
     "name": "stdout",
     "output_type": "stream",
     "text": [
      "The 4-winner number probability is 0.096862%\n"
     ]
    }
   ],
   "source": [
    "probability_less_6(4)"
   ]
  },
  {
   "cell_type": "code",
   "execution_count": 152,
   "metadata": {},
   "outputs": [
    {
     "name": "stdout",
     "output_type": "stream",
     "text": [
      "The 3-winner number probability is 1.765040%\n"
     ]
    }
   ],
   "source": [
    "probability_less_6(3)"
   ]
  },
  {
   "cell_type": "code",
   "execution_count": null,
   "metadata": {},
   "outputs": [],
   "source": []
  }
 ],
 "metadata": {
  "kernelspec": {
   "display_name": "Python 3",
   "language": "python",
   "name": "python3"
  },
  "language_info": {
   "codemirror_mode": {
    "name": "ipython",
    "version": 3
   },
   "file_extension": ".py",
   "mimetype": "text/x-python",
   "name": "python",
   "nbconvert_exporter": "python",
   "pygments_lexer": "ipython3",
   "version": "3.7.3"
  }
 },
 "nbformat": 4,
 "nbformat_minor": 2
}
