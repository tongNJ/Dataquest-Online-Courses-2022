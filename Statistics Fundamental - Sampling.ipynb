{
 "cells": [
  {
   "cell_type": "markdown",
   "metadata": {},
   "source": [
    "# Statistics Fundamentals\n",
    "Here are a couple of takeaways you can expect by the end of this tutorial\n",
    "\n",
    "- How population and sampels work\n",
    "- Various sampling methods you can use\n",
    "\n",
    "Here is the workflow we'll begin working with in this lesson\n",
    "![statistics-pic-1](https://raw.githubusercontent.com/tongNJ/Dataquest-Online-Courses-2022/main/Pictures/statistics-pic-1.PNG)\n",
    "\n",
    "In statistics, we call the set of all individuals relevant to a particular statistical question a **population**. \n",
    "We call a smaller group selected from a population a **sample**. When we select a smaller group from a population we're **sampling**.\n",
    "\n",
    "#### Examples\n",
    "Now it's our turn to play the data analyst. We collected data about the salaries of all the individuals in the company working in IT roles. Based on this data, we want to answer a series of questions. Depending on the question, our data is either a sample or a population.\n",
    "\n",
    "Identify which is the case, and assign to the corresponding variable the string 'population' or 'sample'. Here are the questions we need to answer:\n",
    "\n",
    "- What's the average salary of the individuals in our company working in IT roles? **population**\n",
    "- What's the proportion of individuals in the IT department having salaries under 60000? **population**\n",
    "- What's the minimum salary in the entire company? **sample**\n",
    "- What's the minimum salary in the IT department of our company? **population**\n",
    "- What's the proportion of salaries under 20000 in the entire company? **sample**\n",
    "\n",
    "For every statistical question we want to answer, we should try to use the population. In practice, that's not always possible because the populations of interest usually vary from large to extremely large. Also, getting data is generally not an easy task, so small populations often pose problems too.\n",
    "\n",
    "We can solve these problems by sampling from the population that interests us. Although it's not as good as working with the entire population, working with a sample is the next best thing.\n",
    "\n",
    "or this reason, there's almost always some difference between the metrics of a population and the metrics of a sample. We can see this difference as an error, and because it's the result of sampling, we call it **sampling error**.\n",
    "\n",
    "In statistical terms, we want our samples to be **representative** of their corresponding populations. If a sample is representative, then the sampling error is low. The more representative a sample is, the smaller the sampling error. The less representative a sample is, the greater the sampling error.\n"
   ]
  },
  {
   "cell_type": "markdown",
   "metadata": {},
   "source": [
    "### A real data set we use for sampling lesson\n",
    "At this point in the lesson, we'll move from the tech company example to working with a real-world dataset. Our first challenge will be to measure sampling error using this dataset.\n",
    "\n",
    "The dataset is about basketball players in the **WNBA** (Women's National Basketball Association), and contains general information about players, along with their metrics for the 2016-2017 season. **Thomas De Jonghe** assembled this dataset, and you can download it from **Kaggle** (where you can also find useful documentation for the dataset)."
   ]
  },
  {
   "cell_type": "code",
   "execution_count": 11,
   "metadata": {},
   "outputs": [],
   "source": [
    "import pandas as pd\n",
    "import numpy as np\n",
    "import matplotlib.pyplot as plt\n"
   ]
  },
  {
   "cell_type": "code",
   "execution_count": 2,
   "metadata": {},
   "outputs": [],
   "source": [
    "dataset_loc = 'D:/Dataquest/Dataquest 2022 Learning/Datasets/'\n",
    "wnba = pd.read_csv(dataset_loc + 'wnba.csv')"
   ]
  },
  {
   "cell_type": "code",
   "execution_count": 3,
   "metadata": {},
   "outputs": [
    {
     "data": {
      "text/html": [
       "<div>\n",
       "<style scoped>\n",
       "    .dataframe tbody tr th:only-of-type {\n",
       "        vertical-align: middle;\n",
       "    }\n",
       "\n",
       "    .dataframe tbody tr th {\n",
       "        vertical-align: top;\n",
       "    }\n",
       "\n",
       "    .dataframe thead th {\n",
       "        text-align: right;\n",
       "    }\n",
       "</style>\n",
       "<table border=\"1\" class=\"dataframe\">\n",
       "  <thead>\n",
       "    <tr style=\"text-align: right;\">\n",
       "      <th></th>\n",
       "      <th>Name</th>\n",
       "      <th>Team</th>\n",
       "      <th>Pos</th>\n",
       "      <th>Height</th>\n",
       "      <th>Weight</th>\n",
       "      <th>BMI</th>\n",
       "      <th>Birth_Place</th>\n",
       "      <th>Birthdate</th>\n",
       "      <th>Age</th>\n",
       "      <th>College</th>\n",
       "      <th>...</th>\n",
       "      <th>OREB</th>\n",
       "      <th>DREB</th>\n",
       "      <th>REB</th>\n",
       "      <th>AST</th>\n",
       "      <th>STL</th>\n",
       "      <th>BLK</th>\n",
       "      <th>TO</th>\n",
       "      <th>PTS</th>\n",
       "      <th>DD2</th>\n",
       "      <th>TD3</th>\n",
       "    </tr>\n",
       "  </thead>\n",
       "  <tbody>\n",
       "    <tr>\n",
       "      <td>0</td>\n",
       "      <td>Aerial Powers</td>\n",
       "      <td>DAL</td>\n",
       "      <td>F</td>\n",
       "      <td>183</td>\n",
       "      <td>71.0</td>\n",
       "      <td>21.200991</td>\n",
       "      <td>US</td>\n",
       "      <td>January 17, 1994</td>\n",
       "      <td>23</td>\n",
       "      <td>Michigan State</td>\n",
       "      <td>...</td>\n",
       "      <td>6</td>\n",
       "      <td>22</td>\n",
       "      <td>28</td>\n",
       "      <td>12</td>\n",
       "      <td>3</td>\n",
       "      <td>6</td>\n",
       "      <td>12</td>\n",
       "      <td>93</td>\n",
       "      <td>0</td>\n",
       "      <td>0</td>\n",
       "    </tr>\n",
       "    <tr>\n",
       "      <td>1</td>\n",
       "      <td>Alana Beard</td>\n",
       "      <td>LA</td>\n",
       "      <td>G/F</td>\n",
       "      <td>185</td>\n",
       "      <td>73.0</td>\n",
       "      <td>21.329438</td>\n",
       "      <td>US</td>\n",
       "      <td>May 14, 1982</td>\n",
       "      <td>35</td>\n",
       "      <td>Duke</td>\n",
       "      <td>...</td>\n",
       "      <td>19</td>\n",
       "      <td>82</td>\n",
       "      <td>101</td>\n",
       "      <td>72</td>\n",
       "      <td>63</td>\n",
       "      <td>13</td>\n",
       "      <td>40</td>\n",
       "      <td>217</td>\n",
       "      <td>0</td>\n",
       "      <td>0</td>\n",
       "    </tr>\n",
       "    <tr>\n",
       "      <td>2</td>\n",
       "      <td>Alex Bentley</td>\n",
       "      <td>CON</td>\n",
       "      <td>G</td>\n",
       "      <td>170</td>\n",
       "      <td>69.0</td>\n",
       "      <td>23.875433</td>\n",
       "      <td>US</td>\n",
       "      <td>October 27, 1990</td>\n",
       "      <td>26</td>\n",
       "      <td>Penn State</td>\n",
       "      <td>...</td>\n",
       "      <td>4</td>\n",
       "      <td>36</td>\n",
       "      <td>40</td>\n",
       "      <td>78</td>\n",
       "      <td>22</td>\n",
       "      <td>3</td>\n",
       "      <td>24</td>\n",
       "      <td>218</td>\n",
       "      <td>0</td>\n",
       "      <td>0</td>\n",
       "    </tr>\n",
       "    <tr>\n",
       "      <td>3</td>\n",
       "      <td>Alex Montgomery</td>\n",
       "      <td>SAN</td>\n",
       "      <td>G/F</td>\n",
       "      <td>185</td>\n",
       "      <td>84.0</td>\n",
       "      <td>24.543462</td>\n",
       "      <td>US</td>\n",
       "      <td>December 11, 1988</td>\n",
       "      <td>28</td>\n",
       "      <td>Georgia Tech</td>\n",
       "      <td>...</td>\n",
       "      <td>35</td>\n",
       "      <td>134</td>\n",
       "      <td>169</td>\n",
       "      <td>65</td>\n",
       "      <td>20</td>\n",
       "      <td>10</td>\n",
       "      <td>38</td>\n",
       "      <td>188</td>\n",
       "      <td>2</td>\n",
       "      <td>0</td>\n",
       "    </tr>\n",
       "    <tr>\n",
       "      <td>4</td>\n",
       "      <td>Alexis Jones</td>\n",
       "      <td>MIN</td>\n",
       "      <td>G</td>\n",
       "      <td>175</td>\n",
       "      <td>78.0</td>\n",
       "      <td>25.469388</td>\n",
       "      <td>US</td>\n",
       "      <td>August 5, 1994</td>\n",
       "      <td>23</td>\n",
       "      <td>Baylor</td>\n",
       "      <td>...</td>\n",
       "      <td>3</td>\n",
       "      <td>9</td>\n",
       "      <td>12</td>\n",
       "      <td>12</td>\n",
       "      <td>7</td>\n",
       "      <td>0</td>\n",
       "      <td>14</td>\n",
       "      <td>50</td>\n",
       "      <td>0</td>\n",
       "      <td>0</td>\n",
       "    </tr>\n",
       "  </tbody>\n",
       "</table>\n",
       "<p>5 rows × 32 columns</p>\n",
       "</div>"
      ],
      "text/plain": [
       "              Name Team  Pos  Height  Weight        BMI Birth_Place  \\\n",
       "0    Aerial Powers  DAL    F     183    71.0  21.200991          US   \n",
       "1      Alana Beard   LA  G/F     185    73.0  21.329438          US   \n",
       "2     Alex Bentley  CON    G     170    69.0  23.875433          US   \n",
       "3  Alex Montgomery  SAN  G/F     185    84.0  24.543462          US   \n",
       "4     Alexis Jones  MIN    G     175    78.0  25.469388          US   \n",
       "\n",
       "           Birthdate  Age         College  ... OREB  DREB  REB  AST  STL  BLK  \\\n",
       "0   January 17, 1994   23  Michigan State  ...    6    22   28   12    3    6   \n",
       "1       May 14, 1982   35            Duke  ...   19    82  101   72   63   13   \n",
       "2   October 27, 1990   26      Penn State  ...    4    36   40   78   22    3   \n",
       "3  December 11, 1988   28    Georgia Tech  ...   35   134  169   65   20   10   \n",
       "4     August 5, 1994   23          Baylor  ...    3     9   12   12    7    0   \n",
       "\n",
       "   TO  PTS  DD2  TD3  \n",
       "0  12   93    0    0  \n",
       "1  40  217    0    0  \n",
       "2  24  218    0    0  \n",
       "3  38  188    2    0  \n",
       "4  14   50    0    0  \n",
       "\n",
       "[5 rows x 32 columns]"
      ]
     },
     "execution_count": 3,
     "metadata": {},
     "output_type": "execute_result"
    }
   ],
   "source": [
    "wnba.head()"
   ]
  },
  {
   "cell_type": "code",
   "execution_count": 10,
   "metadata": {},
   "outputs": [
    {
     "name": "stdout",
     "output_type": "stream",
     "text": [
      "the maximum games played for population is 32\n",
      "the maximum games played in a sample (n=30) is 31\n",
      "sampling error is 1\n"
     ]
    }
   ],
   "source": [
    "# Use the Games Played column to find the maximum number of games played by a player in the 2016-2017 season.\n",
    "parameter=wnba['Games Played'].max()\n",
    "print(f'the maximum games played for population is ' + str(parameter))\n",
    "\n",
    "# Using the DataFrame.sample() method, randomly sample 30 players from the population, and assign the result to a variable named sample.\n",
    "sample = wnba['Games Played'].sample(n=30)\n",
    "statistic = sample.max()\n",
    "print(f'the maximum games played in a sample (n=30) is ' + str(statistic))\n",
    "\n",
    "sampling_error = parameter - statistic\n",
    "print(f'sampling error is ' + str(sampling_error))"
   ]
  },
  {
   "cell_type": "markdown",
   "metadata": {},
   "source": [
    "### Test 1\n",
    "Let's visualize the discrepancy between a parameter and its corresponding statistics in the case of simple random sampling.\n",
    "1. Using simple random sampling, take 100 samples of 10 values each from our WNBA data set, and for each sample, measure the average points scored by a player during the 2016-2017 season. For each of the 100 iterations of a for loop, do the following:\n",
    "\n",
    "(P.S. When we use the random_state parameter, like we did in the previous exercise with Series.sample(30, random_state = 1), we make the generation of random numbers predictable. This is because Series.sample() uses a pseudorandom number generator. A pseudorandom number generator uses an initial value to generate a sequence of numbers that has properties similar to those of a sequence that is truly random. With random_state, we specify that initial value used by the pseudorandom number generator.)\n",
    "\n",
    "2. Display the discrepancy between the parameter of interest (the mean of the PTS column) and the statistics obtained in the previous step."
   ]
  },
  {
   "cell_type": "code",
   "execution_count": 27,
   "metadata": {},
   "outputs": [
    {
     "name": "stdout",
     "output_type": "stream",
     "text": [
      "100\n"
     ]
    },
    {
     "data": {
      "text/plain": [
       "[185.4, 140.4, 293.7, 172.7, 124.9]"
      ]
     },
     "execution_count": 27,
     "metadata": {},
     "output_type": "execute_result"
    }
   ],
   "source": [
    "sample_list = []\n",
    "for i in range(0,100):\n",
    "    n = wnba['PTS'].sample(n=10,random_state=i+1)\n",
    "    n_avg = n.mean()\n",
    "    sample_list.append(n_avg)\n",
    "print(len(sample_list))\n",
    "sample_list[0:5]"
   ]
  },
  {
   "cell_type": "code",
   "execution_count": 122,
   "metadata": {},
   "outputs": [
    {
     "name": "stdout",
     "output_type": "stream",
     "text": [
      "population mean is 201.7902097902098\n",
      "maximum sample is 301.4\n",
      "minimum sample is 115.0\n",
      "large sampling errir indicates that the sample we get isnt representative of the population\n"
     ]
    },
    {
     "data": {
      "image/png": "[encoded data removed]",
      "text/plain": [
       "<Figure size 432x288 with 1 Axes>"
      ]
     },
     "metadata": {
      "needs_background": "light"
     },
     "output_type": "display_data"
    }
   ],
   "source": [
    "population_mean = wnba['PTS'].mean()\n",
    "print(f'population mean is {population_mean}')\n",
    "x1 = np.arange(1,101,1)\n",
    "y1 = sample_list\n",
    "plt.scatter(x1,y1)\n",
    "plt.axhline(y=population_mean)\n",
    "plt.show\n",
    "\n",
    "print(f'maximum sample is {max(sample_list)}')\n",
    "print(f'minimum sample is {min(sample_list)}')\n",
    "print(f'large sampling errir indicates that the sample we get isnt representative of the population')"
   ]
  },
  {
   "cell_type": "markdown",
   "metadata": {},
   "source": [
    "- Simple random sampling isn't a reliable sampling method when the sample size is small. Because sample means vary a lot around the population mean, there's a good chance we'll get an unrepresentative sample.\n",
    "\n",
    "- When we do simple random sampling, we should try to get a sample that is as large as possible. A large sample decreases the variability of the sampling process, which, in turn, decreases the chances that we'll get an unrepresentative sample.\n",
    "\n",
    "![sampling-pic-2](https://raw.githubusercontent.com/tongNJ/Dataquest-Online-Courses-2022/main/Pictures/statistics-pic-2.PNG)\n"
   ]
  },
  {
   "cell_type": "markdown",
   "metadata": {},
   "source": [
    "- To ensure we end up with a sample that has observations for all the categories of interest, we can change the sampling method. We can organize our data set into different groups and then do simple random sampling for every group. We can group our data set by **player position**, and then sample randomly from each group.\n",
    "\n",
    "- We call this sampling method **stratified sampling**, and we call each stratified group a **stratum**."
   ]
  },
  {
   "cell_type": "markdown",
   "metadata": {},
   "source": [
    "### Test 2\n",
    "Perform **stratified sampling**: stratify the dataset by player position, and then do simple random sampling on every stratum. At the end, use the sample to determine which position scores the highest number of points per game."
   ]
  },
  {
   "cell_type": "code",
   "execution_count": 47,
   "metadata": {},
   "outputs": [
    {
     "data": {
      "text/html": [
       "<div>\n",
       "<style scoped>\n",
       "    .dataframe tbody tr th:only-of-type {\n",
       "        vertical-align: middle;\n",
       "    }\n",
       "\n",
       "    .dataframe tbody tr th {\n",
       "        vertical-align: top;\n",
       "    }\n",
       "\n",
       "    .dataframe thead th {\n",
       "        text-align: right;\n",
       "    }\n",
       "</style>\n",
       "<table border=\"1\" class=\"dataframe\">\n",
       "  <thead>\n",
       "    <tr style=\"text-align: right;\">\n",
       "      <th></th>\n",
       "      <th>PTS</th>\n",
       "      <th>Games Played</th>\n",
       "    </tr>\n",
       "  </thead>\n",
       "  <tbody>\n",
       "    <tr>\n",
       "      <td>0</td>\n",
       "      <td>93</td>\n",
       "      <td>8</td>\n",
       "    </tr>\n",
       "    <tr>\n",
       "      <td>1</td>\n",
       "      <td>217</td>\n",
       "      <td>30</td>\n",
       "    </tr>\n",
       "    <tr>\n",
       "      <td>2</td>\n",
       "      <td>218</td>\n",
       "      <td>26</td>\n",
       "    </tr>\n",
       "    <tr>\n",
       "      <td>3</td>\n",
       "      <td>188</td>\n",
       "      <td>31</td>\n",
       "    </tr>\n",
       "    <tr>\n",
       "      <td>4</td>\n",
       "      <td>50</td>\n",
       "      <td>24</td>\n",
       "    </tr>\n",
       "  </tbody>\n",
       "</table>\n",
       "</div>"
      ],
      "text/plain": [
       "   PTS  Games Played\n",
       "0   93             8\n",
       "1  217            30\n",
       "2  218            26\n",
       "3  188            31\n",
       "4   50            24"
      ]
     },
     "execution_count": 47,
     "metadata": {},
     "output_type": "execute_result"
    }
   ],
   "source": [
    "wnba[['PTS','Games Played']].head()\n"
   ]
  },
  {
   "cell_type": "code",
   "execution_count": 48,
   "metadata": {},
   "outputs": [
    {
     "data": {
      "text/html": [
       "<div>\n",
       "<style scoped>\n",
       "    .dataframe tbody tr th:only-of-type {\n",
       "        vertical-align: middle;\n",
       "    }\n",
       "\n",
       "    .dataframe tbody tr th {\n",
       "        vertical-align: top;\n",
       "    }\n",
       "\n",
       "    .dataframe thead th {\n",
       "        text-align: right;\n",
       "    }\n",
       "</style>\n",
       "<table border=\"1\" class=\"dataframe\">\n",
       "  <thead>\n",
       "    <tr style=\"text-align: right;\">\n",
       "      <th></th>\n",
       "      <th>PTS</th>\n",
       "      <th>Games Played</th>\n",
       "      <th>PTS_per_Game</th>\n",
       "    </tr>\n",
       "  </thead>\n",
       "  <tbody>\n",
       "    <tr>\n",
       "      <td>0</td>\n",
       "      <td>93</td>\n",
       "      <td>8</td>\n",
       "      <td>11.625000</td>\n",
       "    </tr>\n",
       "    <tr>\n",
       "      <td>1</td>\n",
       "      <td>217</td>\n",
       "      <td>30</td>\n",
       "      <td>7.233333</td>\n",
       "    </tr>\n",
       "    <tr>\n",
       "      <td>2</td>\n",
       "      <td>218</td>\n",
       "      <td>26</td>\n",
       "      <td>8.384615</td>\n",
       "    </tr>\n",
       "    <tr>\n",
       "      <td>3</td>\n",
       "      <td>188</td>\n",
       "      <td>31</td>\n",
       "      <td>6.064516</td>\n",
       "    </tr>\n",
       "    <tr>\n",
       "      <td>4</td>\n",
       "      <td>50</td>\n",
       "      <td>24</td>\n",
       "      <td>2.083333</td>\n",
       "    </tr>\n",
       "  </tbody>\n",
       "</table>\n",
       "</div>"
      ],
      "text/plain": [
       "   PTS  Games Played  PTS_per_Game\n",
       "0   93             8     11.625000\n",
       "1  217            30      7.233333\n",
       "2  218            26      8.384615\n",
       "3  188            31      6.064516\n",
       "4   50            24      2.083333"
      ]
     },
     "execution_count": 48,
     "metadata": {},
     "output_type": "execute_result"
    }
   ],
   "source": [
    "wnba['PTS_per_Game'] = wnba['PTS'] / wnba['Games Played']\n",
    "wnba[['PTS','Games Played','PTS_per_Game']].head()"
   ]
  },
  {
   "cell_type": "code",
   "execution_count": 54,
   "metadata": {},
   "outputs": [
    {
     "data": {
      "text/plain": [
       "{'F': 7.662621983380605,\n",
       " 'G/F': 6.4518190699836975,\n",
       " 'G': 5.625274711545327,\n",
       " 'C': 6.335141927038478,\n",
       " 'F/C': 8.903563218390804}"
      ]
     },
     "execution_count": 54,
     "metadata": {},
     "output_type": "execute_result"
    }
   ],
   "source": [
    "pos_mean_PTS = {}\n",
    "for pos in wnba['Pos'].unique():\n",
    "    pos_mean = wnba.loc[wnba['Pos'] == pos,'PTS_per_Game'].sample(n=10,random_state=1).mean()\n",
    "    pos_mean_PTS[pos] = pos_mean\n",
    "pos_mean_PTS"
   ]
  },
  {
   "cell_type": "code",
   "execution_count": 55,
   "metadata": {},
   "outputs": [
    {
     "data": {
      "text/plain": [
       "(22.0, 32.0]     0.727273\n",
       "(12.0, 22.0]     0.181818\n",
       "(1.969, 12.0]    0.090909\n",
       "Name: Games Played, dtype: float64"
      ]
     },
     "execution_count": 55,
     "metadata": {},
     "output_type": "execute_result"
    }
   ],
   "source": [
    "wnba['Games Played'].value_counts(bins=3,normalize=True)"
   ]
  },
  {
   "cell_type": "markdown",
   "metadata": {},
   "source": [
    "- Approximately 72.7 percent of the players had more than 23 games for the 2016-2017 season, which means that this category of players who played many games probably influenced the mean. Let's take a look at the other percentages:\n",
    "\n",
    "- When we compute the mean of the total points using the population (the entire dataset), those 72.7 percent of players who played more than 23 games will probably significantly influence the mean. However, when we sample randomly, we can end up with a sample where the proportions are different than in the population.\n",
    "\n",
    "- For instance, we might end up with a sample where only 2 percent of the players played more than 23 games. This will result in a sample mean that underestimates the population mean. Or we could have a sample where more than 95 percent of the players had 23 games in the 2016-2017 season. This will result in overestimating the population mean. This scenario of under- or overestimation is common for small samples."
   ]
  },
  {
   "cell_type": "markdown",
   "metadata": {},
   "source": [
    "### Test 3\n",
    "Perform stratified sampling on the data set 100 times, and sample strata proportionally.\n",
    "\n",
    "1. Stratify the dataset by the number of games played in the following way: the first stratum should include players who played 12 games or fewer; the second stratum should players who played more than 12 games but up to 22 (included); the third stratum should include players who played more than 22 games (22 not included).\n",
    "\n",
    "\n",
    "2. Perform stratified sampling 100 times. For each of the 100 iterations of a for loop, do the following:\n",
    "   - Sample each stratum proportionally. Sample at random: one sample observation from the first stratum, two sample observations from the second, and seven sample observations from the third stratum (eventually, we'll concatenate these sample observations and calculate the mean of the PTS column).\n",
    "   - random_state should vary from 0 to 99: 0 for the first iteration, 99 for the final iteration.\n",
    "   - Once you're done with the sampling for the current iteration of the loop, concatenate all the sample observations into one final sample. You can use pd.concat().\n",
    "   - Compute the mean of the final sample, and append it to a list defined outside the loop. The mean should be for the PTS column.\n",
    "\n",
    "\n",
    "3. Display the entire sampling process.\n",
    "   - Using plt.scatter(), display the sampling means on a scatter plot. Place the means on the y-axis and the sample numbers on the x-axis (the numbers should range from 1 to 100 - both endpoints included).\n",
    "  - Using plt.axhline(), display the population mean for the total points in the form of a horizontal line."
   ]
  },
  {
   "cell_type": "code",
   "execution_count": 165,
   "metadata": {},
   "outputs": [],
   "source": [
    "def sample_stratify(df,boolean_parameter,lower_bound = 0,upper_bound=0):\n",
    "    stratified_df = df[(df[boolean_parameter]>lower_bound) & (df[boolean_parameter]<=upper_bound)]['PTS']\n",
    "    return stratified_df"
   ]
  },
  {
   "cell_type": "code",
   "execution_count": 84,
   "metadata": {},
   "outputs": [
    {
     "data": {
      "text/plain": [
       "array([[ 0, 12],\n",
       "       [12, 22],\n",
       "       [22, 33]])"
      ]
     },
     "execution_count": 84,
     "metadata": {},
     "output_type": "execute_result"
    }
   ],
   "source": [
    "max_games_played = wnba['Games Played'].max()+1\n",
    "stratify_matrix=np.array([[0,12],[12,22],[22,max_games_played]])\n",
    "stratify_matrix"
   ]
  },
  {
   "cell_type": "code",
   "execution_count": 167,
   "metadata": {
    "scrolled": true
   },
   "outputs": [
    {
     "data": {
      "text/plain": [
       "[0       93\n",
       " 1      217\n",
       " 2      218\n",
       " 3      188\n",
       " 4       50\n",
       "       ... \n",
       " 138    467\n",
       " 139     28\n",
       " 140    277\n",
       " 141    582\n",
       " 142    151\n",
       " Name: PTS, Length: 143, dtype: int64,\n",
       " Series([], Name: PTS, dtype: int64),\n",
       " Series([], Name: PTS, dtype: int64)]"
      ]
     },
     "execution_count": 167,
     "metadata": {},
     "output_type": "execute_result"
    }
   ],
   "source": [
    "# game_played_series = wnba['Games Played'].to_numpy().copy()\n",
    "wnba_copy = wnba.copy()\n",
    "stratified_df_list = []\n",
    "for i in stratify_matrix:\n",
    "    l_bound = i[0]\n",
    "    u_bound = i[1]\n",
    "    stratified_df = sample_stratify(wnba_copy,'Games Played',l_bound,u_bound)\n",
    "    stratified_df_list.append(stratified_df)\n",
    "stratified_df_list"
   ]
  },
  {
   "cell_type": "code",
   "execution_count": 117,
   "metadata": {},
   "outputs": [],
   "source": [
    "samples_list = []\n",
    "mean_list = []\n",
    "for i in range(0,100):\n",
    "    samples1 = stratified_df_list[0].sample(n=1,random_state=i)\n",
    "    samples2 = stratified_df_list[1].sample(n=2,random_state=i)\n",
    "    samples3 = stratified_df_list[2].sample(n=7,random_state=i)\n",
    "    samples = pd.concat([samples1,samples2,samples3])\n",
    "    samples_list.append(samples)\n",
    "    mean_list.append(samples.mean())\n",
    "    "
   ]
  },
  {
   "cell_type": "code",
   "execution_count": 152,
   "metadata": {
    "scrolled": true
   },
   "outputs": [
    {
     "data": {
      "image/png": "[encoded data removed]",
      "text/plain": [
       "<Figure size 864x360 with 2 Axes>"
      ]
     },
     "metadata": {
      "needs_background": "light"
     },
     "output_type": "display_data"
    }
   ],
   "source": [
    "y2=mean_list\n",
    "x2=np.arange(1,101,1)\n",
    "\n",
    "fig,(ax1,ax2) = plt.subplots(1,2,sharey=True,figsize=(12,5))\n",
    "\n",
    "ax1.scatter(x1,y1,label='Sample Size=10')\n",
    "ax1.axhline(population_mean)\n",
    "ax1.set_title('Stratified Sampling(with sampling proportionally)')\n",
    "ax1.legend(loc='lower right',fontsize=10)\n",
    "ax1.set_ylabel('PTS')\n",
    "\n",
    "ax2.scatter(x2,y2,label='Sample Size=10')\n",
    "ax2.axhline(population_mean)\n",
    "ax2.set_title('Simple Random Sampling')\n",
    "ax2.legend(loc='lower right',fontsize=10)\n",
    "# plt.scatter(x,y)\n",
    "# plt.axhline(y=population_mean)\n",
    "plt.show()\n"
   ]
  },
  {
   "cell_type": "markdown",
   "metadata": {},
   "source": [
    "- You might not have been impressed by the results we got by sampling proportionally. The variability of the sampling was quite large, and many sample means were unrepresentative, being far from the population mean. In fact, this sampling method doesn't seem to perform better than simple random sampling:\n",
    "\n",
    "- The poor performance is a result of choosing bad strata. We stratified the data by the number of games played, but this isn't a good approach. A player has technically played one game even if she only played for one or two minutes, even though others play 30 or 40 minutes, and it still only qualifies as one game.\n",
    "\n",
    "- It makes more sense to stratify the data by number of minutes played, rather than by number of games played. The minutes played are a much better indicator of how much a player scored in a season than the number of games played."
   ]
  },
  {
   "cell_type": "markdown",
   "metadata": {},
   "source": [
    "### Test 4 \n",
    "Let's try to stratify the data by number of minutes played\n",
    "1. Stratify the dataset by the number of minutes played in the following way: the first stratum should include players who played 350 minutes or fewer; the second stratum should players who played more than 350 minutes but up to 683 minutes (included); the third stratum should include players who played more than 683 minutes.\n",
    "2. Increase sample size from 10 to 12 for each iteration, and choose 4 sample observations in each stratum\n",
    "3. Perform the same sampling technique to plot mean PTS distribution"
   ]
  },
  {
   "cell_type": "code",
   "execution_count": 163,
   "metadata": {},
   "outputs": [
    {
     "data": {
      "text/plain": [
       "(347.333, 682.667]    0.349650\n",
       "(10.993, 347.333]     0.335664\n",
       "(682.667, 1018.0]     0.314685\n",
       "Name: MIN, dtype: float64"
      ]
     },
     "execution_count": 163,
     "metadata": {},
     "output_type": "execute_result"
    }
   ],
   "source": [
    "wnba['MIN'].value_counts(bins=3,normalize=True)"
   ]
  },
  {
   "cell_type": "code",
   "execution_count": 169,
   "metadata": {},
   "outputs": [
    {
     "data": {
      "text/plain": [
       "array([[   0,  350],\n",
       "       [ 350,  683],\n",
       "       [ 683, 1019]])"
      ]
     },
     "execution_count": 169,
     "metadata": {},
     "output_type": "execute_result"
    }
   ],
   "source": [
    "max_mins_played = wnba['MIN'].max()+1\n",
    "stratify_matrix=np.array([[0,350],[350,683],[683,max_mins_played]])\n",
    "stratify_matrix"
   ]
  },
  {
   "cell_type": "code",
   "execution_count": 170,
   "metadata": {
    "scrolled": true
   },
   "outputs": [
    {
     "data": {
      "text/plain": [
       "[0       93\n",
       " 4       50\n",
       " 5       26\n",
       " 6       24\n",
       " 9       36\n",
       " 12      51\n",
       " 13      41\n",
       " 14       8\n",
       " 15      58\n",
       " 16      31\n",
       " 17      19\n",
       " 18       7\n",
       " 23      44\n",
       " 24      26\n",
       " 31      54\n",
       " 34      87\n",
       " 35      17\n",
       " 36      70\n",
       " 41      49\n",
       " 50      88\n",
       " 54      13\n",
       " 56       9\n",
       " 63      70\n",
       " 64      12\n",
       " 65      22\n",
       " 70      77\n",
       " 73      65\n",
       " 77      32\n",
       " 84       6\n",
       " 87      48\n",
       " 89     119\n",
       " 90       3\n",
       " 91       6\n",
       " 93      73\n",
       " 96      91\n",
       " 100    116\n",
       " 101     96\n",
       " 102     48\n",
       " 107     96\n",
       " 109     78\n",
       " 115      2\n",
       " 116     87\n",
       " 118     81\n",
       " 119     96\n",
       " 121     66\n",
       " 123    158\n",
       " 129     72\n",
       " 130     55\n",
       " 134     17\n",
       " 139     28\n",
       " Name: PTS, dtype: int64, 2      218\n",
       " 20     217\n",
       " 21     235\n",
       " 22     238\n",
       " 25     461\n",
       " 30     250\n",
       " 32     100\n",
       " 37     255\n",
       " 40     254\n",
       " 42     209\n",
       " 43     253\n",
       " 45     376\n",
       " 47     128\n",
       " 48     252\n",
       " 49     259\n",
       " 52     159\n",
       " 53     102\n",
       " 57     127\n",
       " 59     245\n",
       " 60     200\n",
       " 62     142\n",
       " 68     116\n",
       " 71     185\n",
       " 72     161\n",
       " 75     171\n",
       " 78     207\n",
       " 79     225\n",
       " 80     134\n",
       " 81     141\n",
       " 86     233\n",
       " 88     177\n",
       " 92     154\n",
       " 97     191\n",
       " 98     207\n",
       " 99     106\n",
       " 104     79\n",
       " 105    230\n",
       " 106    140\n",
       " 108    106\n",
       " 111    216\n",
       " 112    148\n",
       " 113    139\n",
       " 126    138\n",
       " 133    240\n",
       " 135    217\n",
       " 136    210\n",
       " 140    277\n",
       " 142    151\n",
       " Name: PTS, dtype: int64, 1      217\n",
       " 3      188\n",
       " 7      442\n",
       " 8      395\n",
       " 10     244\n",
       " 11     399\n",
       " 19     584\n",
       " 26     397\n",
       " 27     228\n",
       " 28     494\n",
       " 29     435\n",
       " 33     456\n",
       " 38     375\n",
       " 39     370\n",
       " 44     514\n",
       " 46     317\n",
       " 51     336\n",
       " 55     442\n",
       " 58     364\n",
       " 61     391\n",
       " 66     268\n",
       " 67     517\n",
       " 69     467\n",
       " 74     318\n",
       " 76     411\n",
       " 82     349\n",
       " 83     199\n",
       " 85     329\n",
       " 94     490\n",
       " 95     364\n",
       " 103    577\n",
       " 110    278\n",
       " 114    156\n",
       " 117    298\n",
       " 120    346\n",
       " 122    245\n",
       " 124    545\n",
       " 125    398\n",
       " 127    273\n",
       " 128    317\n",
       " 131    572\n",
       " 132    277\n",
       " 137    225\n",
       " 138    467\n",
       " 141    582\n",
       " Name: PTS, dtype: int64]"
      ]
     },
     "execution_count": 170,
     "metadata": {},
     "output_type": "execute_result"
    }
   ],
   "source": [
    "# game_played_series = wnba['Games Played'].to_numpy().copy()\n",
    "wnba_copy = wnba.copy()\n",
    "stratified_df_list = []\n",
    "for i in stratify_matrix:\n",
    "    l_bound = i[0]\n",
    "    u_bound = i[1]\n",
    "    stratified_df = sample_stratify(wnba_copy,'MIN',l_bound,u_bound)\n",
    "    stratified_df_list.append(stratified_df)\n",
    "stratified_df_list"
   ]
  },
  {
   "cell_type": "code",
   "execution_count": 174,
   "metadata": {},
   "outputs": [],
   "source": [
    "samples_list = []\n",
    "mean_list = []\n",
    "for i in range(0,100):\n",
    "    samples1 = stratified_df_list[0].sample(n=4,random_state=i)\n",
    "    samples2 = stratified_df_list[1].sample(n=4,random_state=i)\n",
    "    samples3 = stratified_df_list[2].sample(n=4,random_state=i)\n",
    "    samples = pd.concat([samples1,samples2,samples3])\n",
    "    samples_list.append(samples)\n",
    "    mean_list.append(samples.mean())"
   ]
  },
  {
   "cell_type": "code",
   "execution_count": 175,
   "metadata": {
    "scrolled": true
   },
   "outputs": [
    {
     "data": {
      "text/plain": [
       "[230.25,\n",
       " 240.08333333333334,\n",
       " 201.41666666666666,\n",
       " 219.16666666666666,\n",
       " 207.33333333333334,\n",
       " 182.91666666666666,\n",
       " 208.0,\n",
       " 217.41666666666666,\n",
       " 210.25,\n",
       " 177.5,\n",
       " 192.58333333333334,\n",
       " 184.58333333333334,\n",
       " 225.25,\n",
       " 187.66666666666666,\n",
       " 241.58333333333334,\n",
       " 235.0,\n",
       " 205.75,\n",
       " 207.33333333333334,\n",
       " 182.66666666666666,\n",
       " 187.75,\n",
       " 189.75,\n",
       " 223.25,\n",
       " 225.25,\n",
       " 210.91666666666666,\n",
       " 234.41666666666666,\n",
       " 216.58333333333334,\n",
       " 225.08333333333334,\n",
       " 264.5833333333333,\n",
       " 215.5,\n",
       " 178.5,\n",
       " 207.08333333333334,\n",
       " 168.66666666666666,\n",
       " 210.16666666666666,\n",
       " 209.83333333333334,\n",
       " 191.66666666666666,\n",
       " 179.83333333333334,\n",
       " 196.16666666666666,\n",
       " 191.5,\n",
       " 222.5,\n",
       " 179.58333333333334,\n",
       " 241.75,\n",
       " 240.83333333333334,\n",
       " 205.0,\n",
       " 177.75,\n",
       " 232.08333333333334,\n",
       " 194.66666666666666,\n",
       " 226.83333333333334,\n",
       " 215.25,\n",
       " 256.5,\n",
       " 231.58333333333334,\n",
       " 215.08333333333334,\n",
       " 204.33333333333334,\n",
       " 243.08333333333334,\n",
       " 206.66666666666666,\n",
       " 201.0,\n",
       " 199.08333333333334,\n",
       " 221.41666666666666,\n",
       " 203.66666666666666,\n",
       " 210.33333333333334,\n",
       " 159.08333333333334,\n",
       " 229.16666666666666,\n",
       " 219.58333333333334,\n",
       " 189.75,\n",
       " 210.58333333333334,\n",
       " 184.58333333333334,\n",
       " 196.5,\n",
       " 202.5,\n",
       " 203.16666666666666,\n",
       " 225.83333333333334,\n",
       " 230.33333333333334,\n",
       " 220.66666666666666,\n",
       " 215.75,\n",
       " 224.66666666666666,\n",
       " 207.25,\n",
       " 190.25,\n",
       " 226.66666666666666,\n",
       " 199.41666666666666,\n",
       " 202.25,\n",
       " 216.0,\n",
       " 235.58333333333334,\n",
       " 185.0,\n",
       " 199.66666666666666,\n",
       " 205.83333333333334,\n",
       " 221.25,\n",
       " 234.5,\n",
       " 231.0,\n",
       " 189.0,\n",
       " 195.83333333333334,\n",
       " 237.08333333333334,\n",
       " 185.33333333333334,\n",
       " 181.5,\n",
       " 190.5,\n",
       " 212.5,\n",
       " 218.91666666666666,\n",
       " 199.41666666666666,\n",
       " 186.66666666666666,\n",
       " 193.0,\n",
       " 240.25,\n",
       " 223.25,\n",
       " 201.5]"
      ]
     },
     "execution_count": 175,
     "metadata": {},
     "output_type": "execute_result"
    }
   ],
   "source": [
    "mean_list"
   ]
  },
  {
   "cell_type": "code",
   "execution_count": 176,
   "metadata": {},
   "outputs": [
    {
     "data": {
      "image/png": "[encoded data removed]",
      "text/plain": [
       "<Figure size 864x360 with 3 Axes>"
      ]
     },
     "metadata": {
      "needs_background": "light"
     },
     "output_type": "display_data"
    }
   ],
   "source": [
    "y3=mean_list\n",
    "x3=np.arange(1,101,1)\n",
    "\n",
    "fig,(ax1,ax2,ax3) = plt.subplots(1,3,sharey=True,figsize=(12,5))\n",
    "\n",
    "ax1.scatter(x1,y1,label='Sample Size=10')\n",
    "ax1.axhline(population_mean)\n",
    "ax1.set_title('Stratified Sampling(with sampling proportionally)')\n",
    "ax1.legend(loc='lower right',fontsize=10)\n",
    "ax1.set_ylabel('PTS')\n",
    "\n",
    "ax2.scatter(x2,y2,label='Sample Size=10')\n",
    "ax2.axhline(population_mean)\n",
    "ax2.set_title('Simple Random Sampling')\n",
    "ax2.legend(loc='lower right',fontsize=10)\n",
    "\n",
    "ax3.scatter(x3,y3,label='Sample Size=10')\n",
    "ax3.axhline(population_mean)\n",
    "ax3.set_title('Stratified Sampling(minutes played)')\n",
    "ax3.legend(loc='lower right',fontsize=10)\n",
    "# plt.scatter(x,y)\n",
    "# plt.axhline(y=population_mean)\n",
    "plt.show()"
   ]
  },
  {
   "cell_type": "markdown",
   "metadata": {},
   "source": [
    "Here are a few guidelines for choosing good strata:\n",
    "\n",
    "1. Minimize the variability within each stratum.\n",
    "\n",
    "For instance, avoid having in the same stratum a player that has scored 10 points and a player that has scored 500. If the variability is high, it might be a sign that you either need more granular stratification (you need more strata), or you need to change the criterion of stratification (an example of criterion is minutes played).\n",
    "\n",
    "2. Maximize the variability between strata.\n",
    "\n",
    "Good strata are different from one another. If you have strata that are similar to one another with respect to what you want to measure, you might need a more granular stratification, or you might need to change the stratification criterion. On the previous screen, stratifying the data by games played resulted in strata that were similar to each other regarding the distribution of the total points. We managed to increase the variability between strata by changing the criterion of stratification to minutes played.\n",
    "\n",
    "3. The stratification criterion should correlate strongly with the property you're trying to measure.\n",
    "\n",
    "For instance, the column describing minutes played (the criterion) should be correlate strongly with the number of total points (property we want to measure).\n",
    "\n",
    "We've left the code editor open for you to experiment with the different sampling methods we've learned so far. One thing you can try is to replicate the last graph above. You can then play with sample sizes and try to get insights into how variability and sampling error change."
   ]
  },
  {
   "cell_type": "markdown",
   "metadata": {},
   "source": [
    "### Finally, we introduce Cluster Sampling\n",
    "\n",
    "- The dataset we've been working with was scraped from the WNBA's website. The website centralizes data on basketball games and players in the WNBA. Let's suppose for a moment that such a site didn't exist, and the data were instead scattered across each individual team's website. There are twelve unique teams in our data set, which means we'd have to scrape twelve different websites, each of which requires its own scraping script.\n",
    "\n",
    "\n",
    "- This scenario is quite common in the data science workflow: you want to answer some questions about a population, but the data is scattered in such a way that data collection is either time-consuming or close to impossible. For instance, let's say you want to analyze how people review and rate movies as a function of movie budget. There are many websites that can help with data collection, but how can you go about it so that you can spend a day or two on getting the data you need, rather than a month or two?\n",
    "\n",
    "\n",
    "- One way is to list all the data sources you can find, and then randomly pick only a few of them from which to collect. Then you can individually sample each of the sources you've randomly picked. We call this sampling method cluster sampling, and we call each of the individual data sources a cluster."
   ]
  },
  {
   "cell_type": "code",
   "execution_count": 177,
   "metadata": {},
   "outputs": [
    {
     "data": {
      "text/plain": [
       "0       2\n",
       "1      12\n",
       "2       4\n",
       "3       6\n",
       "4       R\n",
       "       ..\n",
       "138     6\n",
       "139     9\n",
       "140     2\n",
       "141     8\n",
       "142     2\n",
       "Name: Experience, Length: 143, dtype: object"
      ]
     },
     "execution_count": 177,
     "metadata": {},
     "output_type": "execute_result"
    }
   ],
   "source": [
    "wnba['Experience']"
   ]
  },
  {
   "cell_type": "code",
   "execution_count": null,
   "metadata": {},
   "outputs": [],
   "source": []
  }
 ],
 "metadata": {
  "kernelspec": {
   "display_name": "Python 3",
   "language": "python",
   "name": "python3"
  },
  "language_info": {
   "codemirror_mode": {
    "name": "ipython",
    "version": 3
   },
   "file_extension": ".py",
   "mimetype": "text/x-python",
   "name": "python",
   "nbconvert_exporter": "python",
   "pygments_lexer": "ipython3",
   "version": "3.7.3"
  }
 },
 "nbformat": 4,
 "nbformat_minor": 2
}
