{
 "cells": [
  {
   "cell_type": "code",
   "execution_count": 2,
   "metadata": {},
   "outputs": [],
   "source": [
    "import pandas as pd\n",
    "import numpy as np\n",
    "import matplotlib.pyplot as plt\n",
    "import seaborn as sns\n",
    "%matplotlib inline"
   ]
  },
  {
   "cell_type": "code",
   "execution_count": 3,
   "metadata": {},
   "outputs": [],
   "source": [
    "file_loc = 'D:/Dataquest/Dataquest 2022 Learning/Datasets/'\n",
    "file_name = '2017-fCC-New-Coders-Survey-Data.csv'\n",
    "df = pd.read_csv(file_loc + file_name,encoding='unicode_escape',low_memory=False)"
   ]
  },
  {
   "cell_type": "code",
   "execution_count": 4,
   "metadata": {},
   "outputs": [
    {
     "data": {
      "text/plain": [
       "20"
      ]
     },
     "execution_count": 4,
     "metadata": {},
     "output_type": "execute_result"
    }
   ],
   "source": [
    "pd.get_option('display.max_columns')"
   ]
  },
  {
   "cell_type": "code",
   "execution_count": 49,
   "metadata": {},
   "outputs": [
    {
     "data": {
      "text/plain": [
       "'  Front-End Web Developer, Back-End Web Developer,   DevOps / SysAdmin,   Mobile Developer, Full-Stack Web Developer'"
      ]
     },
     "execution_count": 49,
     "metadata": {},
     "output_type": "execute_result"
    }
   ],
   "source": [
    "job_role =  df['JobRoleInterest'].astype('str').copy()\n",
    "# for index,i in df['JobRoleInterest'].items():\n",
    "#     print(type(i))\n",
    "job_role[2]"
   ]
  },
  {
   "cell_type": "code",
   "execution_count": 57,
   "metadata": {},
   "outputs": [
    {
     "data": {
      "text/plain": [
       "'Front-End Web Developer,Back-End Web Developer,DevOps / SysAdmin,Mobile Developer,Full-Stack Web Developer'"
      ]
     },
     "execution_count": 57,
     "metadata": {},
     "output_type": "execute_result"
    }
   ],
   "source": [
    "job_role =  df['JobRoleInterest'].astype('str').copy()\n",
    "job_role = job_role.str.replace(pat= ' ,' , repl = ',').str.replace(pat= ', ' , repl = ',').str.replace(pat= ',  ' , repl = ',')\n",
    "# job_role = job_role.str.replace(pat= ', ' , repl = ',')\n",
    "job_role = job_role.str.lstrip().str.rstrip()\n",
    "# job_role = job_role.str.rstrip()\n",
    "job_role[2]\n",
    "# job_role = job_role.replace(to_replace= ', ' , value = ',' ,inplace=True)\n",
    "# job_role = job_role.str.lstrip()\n",
    "# job_role = job_role.str.rstrip()"
   ]
  },
  {
   "cell_type": "code",
   "execution_count": 60,
   "metadata": {},
   "outputs": [
    {
     "data": {
      "text/plain": [
       "['Front-End Web Developer',\n",
       " 'Back-End Web Developer',\n",
       " 'DevOps / SysAdmin',\n",
       " 'Mobile Developer',\n",
       " 'Full-Stack Web Developer']"
      ]
     },
     "execution_count": 60,
     "metadata": {},
     "output_type": "execute_result"
    }
   ],
   "source": [
    "job_role[2].split(',')"
   ]
  },
  {
   "cell_type": "code",
   "execution_count": 72,
   "metadata": {},
   "outputs": [],
   "source": [
    "job_list = []\n",
    "for i in job_role:\n",
    "    if i =='nan':\n",
    "        pass\n",
    "    else:\n",
    "        job_list += i.split(',')"
   ]
  },
  {
   "cell_type": "code",
   "execution_count": 75,
   "metadata": {},
   "outputs": [],
   "source": [
    "job_list_unique = []\n",
    "for i in job_list:\n",
    "    if i in job_list_unique:\n",
    "        pass\n",
    "    else:\n",
    "        job_list_unique.append(i)"
   ]
  },
  {
   "cell_type": "code",
   "execution_count": 77,
   "metadata": {},
   "outputs": [
    {
     "data": {
      "text/plain": [
       "209"
      ]
     },
     "execution_count": 77,
     "metadata": {},
     "output_type": "execute_result"
    }
   ],
   "source": [
    "len(job_list_unique)"
   ]
  },
  {
   "cell_type": "code",
   "execution_count": 78,
   "metadata": {},
   "outputs": [
    {
     "data": {
      "text/plain": [
       "['Full-Stack Web Developer',\n",
       " 'Front-End Web Developer',\n",
       " 'Back-End Web Developer',\n",
       " 'DevOps / SysAdmin',\n",
       " 'Mobile Developer',\n",
       " 'Information Security',\n",
       " 'Quality Assurance Engineer',\n",
       " 'Game Developer',\n",
       " 'User Experience Designer',\n",
       " 'Data Scientist',\n",
       " 'Data Engineer',\n",
       " 'Product Manager',\n",
       " 'Ethical Hacker',\n",
       " 'security expert',\n",
       " 'Technical Writer',\n",
       " 'Researcher',\n",
       " 'Systems Engineer',\n",
       " 'Desktop Applications Programmer',\n",
       " 'Robotics',\n",
       " 'Non technical',\n",
       " 'UI Design',\n",
       " 'Software engineer',\n",
       " 'email coder',\n",
       " 'Data analyst',\n",
       " 'I dont yet know',\n",
       " 'UX developer/designer',\n",
       " 'support scientific resaerch',\n",
       " 'AI and neuroscience',\n",
       " 'Full Stack Software Engineer',\n",
       " 'Program Manager',\n",
       " 'Application Support Analyst',\n",
       " \"This futurist's dream of using some tech in a way that inspires critical amounts of people to influence the changes we need to protect\",\n",
       " 'Information Architect',\n",
       " 'Physicist',\n",
       " 'Security Business Analyst',\n",
       " 'Bioinformatics/science',\n",
       " 'creative coder / generative artist/designer',\n",
       " 'a job in which I can use coding skills to create valuable portals to advance human rights',\n",
       " 'Research',\n",
       " 'Bitcoin/Crypto',\n",
       " 'Embedded hardware',\n",
       " 'Data/Interactive Journalist',\n",
       " 'Software Engineering',\n",
       " 'Software Engineer',\n",
       " 'Business Analyst',\n",
       " 'Network Engineer',\n",
       " 'Information Developer',\n",
       " 'Java developer',\n",
       " 'Project Management',\n",
       " 'Machine learning engineer',\n",
       " 'Real-time systems',\n",
       " 'Cybersecurity',\n",
       " 'software engineer',\n",
       " 'GIS Developer',\n",
       " 'Research and education',\n",
       " 'System Software',\n",
       " 'Full Stack Developer',\n",
       " 'AI',\n",
       " ' Bioinformatics',\n",
       " 'Data Analyst',\n",
       " 'Urban Planner',\n",
       " 'full stack developer',\n",
       " 'SWE',\n",
       " 'Embedded Developer',\n",
       " 'virtual reality developer',\n",
       " 'Journalist/Graphic Designer/Marketing',\n",
       " 'Web Designer',\n",
       " 'Computer Architect',\n",
       " 'Networking',\n",
       " 'Software Developer',\n",
       " 'Machine Learning Engineer',\n",
       " 'data analyst',\n",
       " 'AI and Machine Learning',\n",
       " 'computer engineer',\n",
       " 'Artificial Intelligence',\n",
       " 'Systems Programming',\n",
       " 'Software Engineer (Computer Science Based)',\n",
       " 'Technology Management',\n",
       " 'full-stack developer',\n",
       " 'Software developer',\n",
       " 'BA or developer',\n",
       " 'User Interface Design',\n",
       " 'System Engineer',\n",
       " 'Network',\n",
       " 'Analyst',\n",
       " 'Machine Learning',\n",
       " 'Pharmacy tech',\n",
       " 'data journalist / data visualist',\n",
       " 'Desings',\n",
       " 'Infrastructure Architect',\n",
       " 'Tech art',\n",
       " 'Technology-Business Liaison',\n",
       " 'Product Designer',\n",
       " 'Front-End Web Designer',\n",
       " 'Document Controller',\n",
       " 'Software enginner',\n",
       " 'programmer',\n",
       " 'undeceided',\n",
       " 'Pharmaceutical industry',\n",
       " 'Information Technology',\n",
       " 'Library Developer',\n",
       " 'Desktop Application Developer',\n",
       " 'Operating Systems',\n",
       " 'Compilers',\n",
       " 'etc...',\n",
       " 'GIS Database Admin',\n",
       " 'designer',\n",
       " 'Support Engineer or API Support',\n",
       " 'Python Developer',\n",
       " 'Bioinformatics',\n",
       " 'Robotics Process Automation Specialist',\n",
       " 'Data visualisation',\n",
       " 'Desktop applications developer',\n",
       " 'All - whatever is required to develop tools to revolutionize the mechanical engineering process',\n",
       " 'Digital Humanitites',\n",
       " 'User Interface Designer',\n",
       " 'Software Development',\n",
       " 'Programming',\n",
       " 'Web development',\n",
       " 'Marketing',\n",
       " 'Financial Services',\n",
       " 'software developer',\n",
       " 'Natural Language Processing',\n",
       " 'Entreprenuer / Web Dev Hustler',\n",
       " 'Marketing Automation',\n",
       " 'AI Developer',\n",
       " 'network admin',\n",
       " 'Front end',\n",
       " 'back end',\n",
       " 'game',\n",
       " 'web',\n",
       " 'mobile developer',\n",
       " 'Not sure!',\n",
       " 'Anything that engages me',\n",
       " \"i don't know what the difference is between most of these soz lol\",\n",
       " 'Unsure',\n",
       " 'Any of them.',\n",
       " 'Not sure yet',\n",
       " 'Not Sure Yet',\n",
       " 'Not sure',\n",
       " 'i dunno!!!!',\n",
       " 'milatary engineer',\n",
       " 'SEO',\n",
       " 'Astrophysicist',\n",
       " 'Journalist',\n",
       " 'philosopher',\n",
       " 'Desktop Applications',\n",
       " 'Programmer',\n",
       " 'IoT Developer',\n",
       " 'Systems Programmer',\n",
       " \"Don't know yet\",\n",
       " 'Artificial intelligence',\n",
       " 'Artificial Intelligence Engineer',\n",
       " 'Developer Evangelist',\n",
       " 'Bioinformatitian',\n",
       " 'IoT',\n",
       " 'Entrepreneur',\n",
       " 'I am interested in Game Development',\n",
       " 'Mobile Development',\n",
       " 'Web Design',\n",
       " 'Front End Web Development',\n",
       " 'Data Reporter',\n",
       " 'Not Sure',\n",
       " 'Web developer',\n",
       " 'Robotics and AI Engineer',\n",
       " 'Artificial Intelligence engineer',\n",
       " 'Scientific Programming',\n",
       " 'Software Developer or Front-End Web Developer',\n",
       " 'UI Designer',\n",
       " 'Campaign Manager',\n",
       " 'AI Engineer',\n",
       " 'Software Specialist',\n",
       " 'Project Manager',\n",
       " 'Growth Hacker',\n",
       " 'idk',\n",
       " 'Founder',\n",
       " 'Software Engineers',\n",
       " 'VR Technology developer',\n",
       " 'developer',\n",
       " 'plc',\n",
       " 'Ceo',\n",
       " 'Tech lobbiest',\n",
       " 'Quant (Algorithmic Trader)',\n",
       " 'Machine learning and AI',\n",
       " 'Project manager',\n",
       " 'undecided',\n",
       " 'Databases',\n",
       " 'Cloud computing',\n",
       " 'Software Developper',\n",
       " 'College professor',\n",
       " 'System Administrator/Network',\n",
       " 'Software Projects Manager',\n",
       " 'Teacher. Teaching students to code.',\n",
       " 'Education',\n",
       " 'code developer...in whatever format',\n",
       " 'front-end',\n",
       " 'back-end',\n",
       " 'app dev etc.',\n",
       " 'improving in my current career as a Learning technologist',\n",
       " 'Informatician',\n",
       " 'lab scientist',\n",
       " 'Data Visualization Specialist',\n",
       " \"I don't know yet!\",\n",
       " \"I'm just learning code to increase my skill-set. I see it as a literacy issue.\",\n",
       " 'Teacher',\n",
       " 'Criminal Defense Attorney-- focusing on cyber crimes',\n",
       " 'Remote Support',\n",
       " 'non-programmer',\n",
       " 'IT specialist']"
      ]
     },
     "execution_count": 78,
     "metadata": {},
     "output_type": "execute_result"
    }
   ],
   "source": [
    "job_list_unique"
   ]
  },
  {
   "cell_type": "code",
   "execution_count": null,
   "metadata": {},
   "outputs": [],
   "source": []
  }
 ],
 "metadata": {
  "kernelspec": {
   "display_name": "Python 3",
   "language": "python",
   "name": "python3"
  },
  "language_info": {
   "codemirror_mode": {
    "name": "ipython",
    "version": 3
   },
   "file_extension": ".py",
   "mimetype": "text/x-python",
   "name": "python",
   "nbconvert_exporter": "python",
   "pygments_lexer": "ipython3",
   "version": "3.7.3"
  }
 },
 "nbformat": 4,
 "nbformat_minor": 2
}
