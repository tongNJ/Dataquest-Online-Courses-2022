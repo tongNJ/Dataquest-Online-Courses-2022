{
 "cells": [
  {
   "cell_type": "markdown",
   "metadata": {},
   "source": [
    "# Frequency Distribution\n",
    "\n",
    "In this tutorial, we will learn how to organize data in frequency and groiuped frequency tables. Frequency tables allow us to transform large and incomprehensible amounts of data to a format we can understand.\n",
    "\n",
    "![statistics-pic-3](https://raw.githubusercontent.com/tongNJ/Dataquest-Online-Courses-2022/main/Pictures/statistics-pic-3.PNG)\n",
    "\n",
    "We will continue to use WNBA.csv dataset to explore the concept of frequency distribution"
   ]
  },
  {
   "cell_type": "markdown",
   "metadata": {},
   "source": [
    "## Concepts\n",
    "\n",
    "- A table that shows the frequency for each unique value in a distribution is called a frequency distribution table.\n",
    "\n",
    "\n",
    "- The frequencies can be expressed as:\n",
    "  - Absolute counts (absolute frequencies).\n",
    "  - Proportions or percentages (relative frequencies).\n",
    "\n",
    "\n",
    "- The percentage of values that are equal or less than a value is called the percentile rank of \n",
    "  - For instance, if the percentile rank of a value of 32 is 57%, 57% of the values are equal to or less than 32.\n",
    "\n",
    "\n",
    "- If a value has a percentile rank of , we say that is the percentile. For instance, if 32 has a percentile rank of 57%, we say that 32 is the 57th percentile.\n",
    "\n",
    "\n",
    "- Frequency distribution tables can be grouped in class intervals to form grouped frequency distribution tables. As a rule of thumb, 10 is a good number of class intervals to choose because it offers a good balance between information and comprehensibility."
   ]
  },
  {
   "cell_type": "code",
   "execution_count": 1,
   "metadata": {},
   "outputs": [],
   "source": [
    "import pandas as pd\n",
    "import numpy as np\n",
    "import matplotlib.pyplot as plt"
   ]
  },
  {
   "cell_type": "code",
   "execution_count": 2,
   "metadata": {},
   "outputs": [],
   "source": [
    "dataset_loc = 'D:/Dataquest/Dataquest 2022 Learning/Datasets/'\n",
    "wnba = pd.read_csv(dataset_loc + 'wnba.csv')"
   ]
  },
  {
   "cell_type": "code",
   "execution_count": 3,
   "metadata": {},
   "outputs": [
    {
     "data": {
      "text/plain": [
       "G      60\n",
       "F      33\n",
       "C      25\n",
       "G/F    13\n",
       "F/C    12\n",
       "Name: Pos, dtype: int64"
      ]
     },
     "execution_count": 3,
     "metadata": {},
     "output_type": "execute_result"
    }
   ],
   "source": [
    "# Using the Series.value_counts() method, generate frequency distribution tables for the following columns: [Pos, Height]\n",
    "wnba['Pos'].value_counts()"
   ]
  },
  {
   "cell_type": "code",
   "execution_count": 4,
   "metadata": {},
   "outputs": [
    {
     "data": {
      "text/plain": [
       "C      25\n",
       "F/C    12\n",
       "F      33\n",
       "G/F    13\n",
       "G      60\n",
       "Name: Pos, dtype: int64"
      ]
     },
     "execution_count": 4,
     "metadata": {},
     "output_type": "execute_result"
    }
   ],
   "source": [
    "# If the frequency variable is measured in nominal basis, we can also change index order by using iloc[] method.\n",
    "wnba['Pos'].value_counts().iloc[[2,4,1,3,0]]"
   ]
  },
  {
   "cell_type": "code",
   "execution_count": 5,
   "metadata": {},
   "outputs": [
    {
     "data": {
      "text/plain": [
       "G      41.958042\n",
       "F      23.076923\n",
       "C      17.482517\n",
       "G/F     9.090909\n",
       "F/C     8.391608\n",
       "Name: Pos, dtype: float64"
      ]
     },
     "execution_count": 5,
     "metadata": {},
     "output_type": "execute_result"
    }
   ],
   "source": [
    "# When we analyze distributions, we're often interested in answering questions about proportions and percentages. \n",
    "# It's slightly faster though to use Series.value_counts() with the normalize parameter set to True:\n",
    "wnba['Pos'].value_counts(normalize=True)*100\n"
   ]
  },
  {
   "cell_type": "code",
   "execution_count": 6,
   "metadata": {},
   "outputs": [
    {
     "data": {
      "text/plain": [
       "165     1\n",
       "168     2\n",
       "170     6\n",
       "173    11\n",
       "175    16\n",
       "178     8\n",
       "180     7\n",
       "183    11\n",
       "185    15\n",
       "188    20\n",
       "191    11\n",
       "193    18\n",
       "196     9\n",
       "198     5\n",
       "201     2\n",
       "206     1\n",
       "Name: Height, dtype: int64"
      ]
     },
     "execution_count": 6,
     "metadata": {},
     "output_type": "execute_result"
    }
   ],
   "source": [
    "# wnba['Height'].value_counts() returns a Series object with the measures of height as indices. \n",
    "# This allows us to sort the table by index using the Series.sort_index() method:\n",
    "wnba['Height'].value_counts().sort_index()"
   ]
  },
  {
   "cell_type": "markdown",
   "metadata": {},
   "source": [
    "- A **percentile rank** of a value **x** in a frequency distribution is given by the percentage of values that are equal or less than **x**\n",
    "\n",
    "- We can arrive at the same answer a bit faster using the **percentileofscore(a, score, kind='weak')** function from **scipy.stats**"
   ]
  },
  {
   "cell_type": "code",
   "execution_count": 7,
   "metadata": {},
   "outputs": [
    {
     "name": "stdout",
     "output_type": "stream",
     "text": [
      "19.0% of total players are 23 years or younger.\n"
     ]
    }
   ],
   "source": [
    "# For example, if we want to find waht percentage of players are 23 years or younger?\n",
    "percentile_age_23orless = wnba['Age'].value_counts(normalize=True).sort_index().iloc[:3].sum()\n",
    "print(f'{round(percentile_age_23orless*100,0)}% of total players are 23 years or younger.')"
   ]
  },
  {
   "cell_type": "code",
   "execution_count": 8,
   "metadata": {},
   "outputs": [
    {
     "name": "stdout",
     "output_type": "stream",
     "text": [
      "18.88111888111888\n"
     ]
    }
   ],
   "source": [
    "from scipy.stats import percentileofscore\n",
    "# We need to use kind = 'weak' to indicate that we want to find the percentage of values that are equal to or less than the value \n",
    "# we specify in the score parameter.\n",
    "percentile_age_23orless = percentileofscore(a=wnba['Age'],score=23,kind='weak')\n",
    "print(percentile_age_23orless)"
   ]
  },
  {
   "cell_type": "code",
   "execution_count": 9,
   "metadata": {},
   "outputs": [
    {
     "name": "stdout",
     "output_type": "stream",
     "text": [
      "27.0% of total players are 30 years or older.\n"
     ]
    }
   ],
   "source": [
    "# What percentage of players are 30 years or older?\n",
    "percentile_age_30orOld = 100 - percentileofscore(a=wnba['Age'],score=29,kind='weak')\n",
    "print(f'{round(percentile_age_30orOld,0)}% of total players are 30 years or older.')"
   ]
  },
  {
   "cell_type": "code",
   "execution_count": 10,
   "metadata": {},
   "outputs": [
    {
     "data": {
      "text/plain": [
       "count    143.000000\n",
       "mean      27.076923\n",
       "std        3.679170\n",
       "min       21.000000\n",
       "25%       24.000000\n",
       "50%       27.000000\n",
       "75%       30.000000\n",
       "max       36.000000\n",
       "Name: Age, dtype: float64"
      ]
     },
     "execution_count": 10,
     "metadata": {},
     "output_type": "execute_result"
    }
   ],
   "source": [
    "# pandas describe method has percentiles parameter which can be customized to find specific percentiles\n",
    "wnba['Age'].describe()"
   ]
  },
  {
   "cell_type": "code",
   "execution_count": 11,
   "metadata": {},
   "outputs": [
    {
     "name": "stdout",
     "output_type": "stream",
     "text": [
      "min    21.0\n",
      "25%    24.0\n",
      "50%    27.0\n",
      "75%    30.0\n",
      "95%    34.0\n",
      "max    36.0\n",
      "Name: Age, dtype: float64\n",
      "95% of total players are  years or younger\n"
     ]
    }
   ],
   "source": [
    "print(wnba['Age'].describe(percentiles=[.25,.5,.75,.95]).iloc[3:])\n",
    "print(f'95% of total players are  years or younger')"
   ]
  },
  {
   "cell_type": "markdown",
   "metadata": {},
   "source": [
    "- If the variable is measured on an interval or ratio scale, a common solution to this problem is to group the values in equal intervals. Fortunately, pandas can handle this process gracefully. We only need to make use of the **bins** parameter of **Series.value_counts()** \n",
    "\n",
    "\n",
    "- Because we group values in a table to get a better sense of frequencies in the distribution, the table we generated above is also known as a **grouped frequency distribution table**. Each group (interval) in a grouped **frequency distribution table** is also known as a **class interval**.\n",
    "\n",
    "\n",
    "- Examine the frequency table for the PTS (total points) variable trying to find some patterns in the distribution of values. Then, generate a grouped frequency distribution table for the PTS variable with the following characteristics:"
   ]
  },
  {
   "cell_type": "code",
   "execution_count": 12,
   "metadata": {},
   "outputs": [
    {
     "name": "stdout",
     "output_type": "stream",
     "text": [
      "PTS Grouped Frequency Distribution Table \n",
      "(525.8, 584.0]     3.5\n",
      "(467.6, 525.8]     2.8\n",
      "(409.4, 467.6]     5.6\n",
      "(351.2, 409.4]     7.0\n",
      "(293.0, 351.2]     5.6\n",
      "(234.8, 293.0]    11.9\n",
      "(176.6, 234.8]    14.0\n",
      "(118.4, 176.6]    11.9\n",
      "(60.2, 118.4]     16.8\n",
      "(1.417, 60.2]     21.0\n",
      "Name: PTS, dtype: float64\n"
     ]
    }
   ],
   "source": [
    "PTS_grouped_frequency = wnba['PTS'].value_counts(bins=10,normalize=True).sort_index(ascending=False)*100\n",
    "\n",
    "print(f'PTS Grouped Frequency Distribution Table \\n{round(PTS_grouped_frequency,1)}')"
   ]
  },
  {
   "cell_type": "markdown",
   "metadata": {},
   "source": [
    "- Imagine we'd have to publish the table above in a blog post or a scientific paper. The readers will have a hard time understanding the intervals we chose. They'll also be puzzled by the decimal numbers because points in basketball can only be integers.\n",
    "\n",
    "\n",
    "- To fix this, we can define the intervals ourselves. For the table above, we can define six intervals of 100 points each, and then count how many values fit in each interval. \n",
    "\n",
    "\n",
    "- **pd.interval_range()**"
   ]
  },
  {
   "cell_type": "code",
   "execution_count": 13,
   "metadata": {},
   "outputs": [
    {
     "data": {
      "text/plain": [
       "IntervalIndex([(0, 100], (100, 200], (200, 300], (300, 400], (400, 500], (500, 600]],\n",
       "              closed='right',\n",
       "              dtype='interval[int64]')"
      ]
     },
     "execution_count": 13,
     "metadata": {},
     "output_type": "execute_result"
    }
   ],
   "source": [
    "intervals = pd.interval_range(start=0,end=600,periods=6)\n",
    "#intervals = pd.interval_range(start=0,end=600,freq=100)\n",
    "intervals"
   ]
  },
  {
   "cell_type": "code",
   "execution_count": 14,
   "metadata": {},
   "outputs": [
    {
     "data": {
      "text/plain": [
       "(0, 100]      49\n",
       "(100, 200]    28\n",
       "(200, 300]    32\n",
       "(300, 400]    17\n",
       "(400, 500]    10\n",
       "(500, 600]     7\n",
       "Name: PTS, dtype: int64"
      ]
     },
     "execution_count": 14,
     "metadata": {},
     "output_type": "execute_result"
    }
   ],
   "source": [
    "gr_freq_table = wnba['PTS'].value_counts(bins=intervals).sort_index()\n",
    "gr_freq_table"
   ]
  },
  {
   "cell_type": "code",
   "execution_count": 15,
   "metadata": {},
   "outputs": [
    {
     "data": {
      "text/plain": [
       "143"
      ]
     },
     "execution_count": 15,
     "metadata": {},
     "output_type": "execute_result"
    }
   ],
   "source": [
    "gr_freq_table.sum()"
   ]
  },
  {
   "cell_type": "markdown",
   "metadata": {},
   "source": [
    "## Visualizing Frequency Distributions\n",
    "\n",
    "- To find patterns in a frequency table we have to look up the frequency of each unique value or class interval and at the same time compare the frequencies. This process can get time consuming for tables with many unique values or class intervals, or when the frequency values are large and hard to compare against each other.\n",
    "\n",
    "\n",
    "- We can solve this problem by visualizing the data in the tables with the help of graphs. Graphs make it much easier to scan and compare frequencies, providing us with a single picture of the entire distribution of a variable.\n",
    "\n",
    "\n",
    "- Because they are easy to grasp and also eye-catching, graphs are a better choice over frequency tables if we need to present our findings to a non-technical audience.\n",
    "\n",
    "\n",
    "- We'll learn about three kinds of graphs:\n",
    "  - Bar plots.\n",
    "  - Pie charts.\n",
    "  - Histograms."
   ]
  },
  {
   "cell_type": "code",
   "execution_count": 16,
   "metadata": {},
   "outputs": [
    {
     "data": {
      "text/plain": [
       "<matplotlib.axes._subplots.AxesSubplot at 0x2690e531198>"
      ]
     },
     "execution_count": 16,
     "metadata": {},
     "output_type": "execute_result"
    },
    {
     "data": {
      "image/png": "[encoded data removed]",
      "text/plain": [
       "<Figure size 432x288 with 1 Axes>"
      ]
     },
     "metadata": {
      "needs_background": "light"
     },
     "output_type": "display_data"
    }
   ],
   "source": [
    "wnba['Pos'].value_counts().plot.bar()"
   ]
  },
  {
   "cell_type": "code",
   "execution_count": 17,
   "metadata": {},
   "outputs": [
    {
     "data": {
      "text/plain": [
       "<matplotlib.axes._subplots.AxesSubplot at 0x2690e5e8748>"
      ]
     },
     "execution_count": 17,
     "metadata": {},
     "output_type": "execute_result"
    },
    {
     "data": {
      "image/png": "[encoded data removed]",
      "text/plain": [
       "<Figure size 432x288 with 1 Axes>"
      ]
     },
     "metadata": {
      "needs_background": "light"
     },
     "output_type": "display_data"
    }
   ],
   "source": [
    "wnba['Pos'].value_counts().plot.barh()"
   ]
  },
  {
   "cell_type": "code",
   "execution_count": 18,
   "metadata": {},
   "outputs": [],
   "source": [
    "wnba['Experience'].replace('R','0',inplace=True)\n",
    "wnba['Experience']= wnba['Experience'].astype('int')\n",
    "exp_label = ['Rookie','Little experience','Experienced','Very experienced','Veteran']\n",
    "exp_label_numerical =[[0,1],[1,4],[4,6],[6,11],[11,30]]"
   ]
  },
  {
   "cell_type": "code",
   "execution_count": 19,
   "metadata": {},
   "outputs": [],
   "source": [
    "wnba['Exp_ordinal'] = np.nan\n",
    "iteration = 0\n",
    "for i in exp_label_numerical:\n",
    "    l_bound = i[0]\n",
    "    u_bound = i[1]\n",
    "    wnba.loc[(wnba['Experience']>=l_bound) & (wnba['Experience'] < u_bound),'Exp_ordinal'] = exp_label[iteration]\n",
    "    iteration += 1"
   ]
  },
  {
   "cell_type": "code",
   "execution_count": 26,
   "metadata": {},
   "outputs": [
    {
     "data": {
      "text/plain": [
       "<matplotlib.axes._subplots.AxesSubplot at 0x2690f7046d8>"
      ]
     },
     "execution_count": 26,
     "metadata": {},
     "output_type": "execute_result"
    },
    {
     "data": {
      "image/png": "[encoded data removed]",
      "text/plain": [
       "<Figure size 432x288 with 1 Axes>"
      ]
     },
     "metadata": {
      "needs_background": "light"
     },
     "output_type": "display_data"
    }
   ],
   "source": [
    "wnba['Exp_ordinal'].value_counts().plot.bar(rot='45')"
   ]
  },
  {
   "cell_type": "code",
   "execution_count": 30,
   "metadata": {},
   "outputs": [
    {
     "data": {
      "text/plain": [
       "Text(0, 0.5, '')"
      ]
     },
     "execution_count": 30,
     "metadata": {},
     "output_type": "execute_result"
    },
    {
     "data": {
      "image/png": "[encoded data removed]",
      "text/plain": [
       "<Figure size 576x576 with 1 Axes>"
      ]
     },
     "metadata": {},
     "output_type": "display_data"
    }
   ],
   "source": [
    "wnba['Exp_ordinal'].value_counts().plot.pie(figsize=(8,8),autopct = '%.1f%%')\n",
    "plt.ylabel('')"
   ]
  },
  {
   "cell_type": "code",
   "execution_count": null,
   "metadata": {},
   "outputs": [],
   "source": []
  }
 ],
 "metadata": {
  "kernelspec": {
   "display_name": "Python 3",
   "language": "python",
   "name": "python3"
  },
  "language_info": {
   "codemirror_mode": {
    "name": "ipython",
    "version": 3
   },
   "file_extension": ".py",
   "mimetype": "text/x-python",
   "name": "python",
   "nbconvert_exporter": "python",
   "pygments_lexer": "ipython3",
   "version": "3.7.3"
  }
 },
 "nbformat": 4,
 "nbformat_minor": 2
}
