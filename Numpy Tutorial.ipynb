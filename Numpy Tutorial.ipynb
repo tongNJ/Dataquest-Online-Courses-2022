{
 "cells": [
  {
   "cell_type": "markdown",
   "metadata": {},
   "source": [
    "# Numpy tutorial\n",
    "- We will be exploring fundamental functions of Numpy in python. \n",
    "- To make the tutorial more practical, we will be using a real database called nyc_taxis.csv for demostration purpose.\n",
    "\n",
    "### Numpy tutorial strucutre\n",
    "- Compare Numpy n-dimentional array to basic list of lists, hence, understand the benefit of using Numpy\n",
    "- Study Boolean Indexing with Numpy\n",
    "- Study some basic Numpy built-in methods (functions) such as np.max(), np.min(), etc."
   ]
  },
  {
   "cell_type": "code",
   "execution_count": 1,
   "metadata": {},
   "outputs": [],
   "source": [
    "import numpy as np\n",
    "import csv"
   ]
  },
  {
   "cell_type": "code",
   "execution_count": 2,
   "metadata": {},
   "outputs": [],
   "source": [
    "data_ndarray = np.array([10,20,30])"
   ]
  },
  {
   "cell_type": "code",
   "execution_count": 3,
   "metadata": {},
   "outputs": [
    {
     "data": {
      "text/plain": [
       "numpy.ndarray"
      ]
     },
     "execution_count": 3,
     "metadata": {},
     "output_type": "execute_result"
    }
   ],
   "source": [
    "type(data_ndarray)"
   ]
  },
  {
   "cell_type": "code",
   "execution_count": 4,
   "metadata": {
    "scrolled": true
   },
   "outputs": [],
   "source": [
    "# import nyc_taxi.csv as a list of lists\n",
    "dataset_loc = 'D:/Dataquest/Dataquest 2022 Learning/Datasets/'\n",
    "f = open( dataset_loc + 'nyc_taxis.csv','r')\n",
    "taxi_list = list(csv.reader(f))\n"
   ]
  },
  {
   "cell_type": "code",
   "execution_count": 5,
   "metadata": {
    "scrolled": true
   },
   "outputs": [],
   "source": [
    "#remove the header row\n",
    "taxi_list = taxi_list[1:]\n",
    "\n",
    "#convert all values to floats\n",
    "converted_taxi_list = []\n",
    "for row in taxi_list:\n",
    "    converted_row = []\n",
    "    for item in row:\n",
    "        converted_row.append(float(item))\n",
    "    converted_taxi_list.append(converted_row)\n"
   ]
  },
  {
   "cell_type": "code",
   "execution_count": 6,
   "metadata": {},
   "outputs": [],
   "source": [
    "# convert list of lists to 2-dimensional array using numpy.array()\n",
    "taxi = np.array(converted_taxi_list)\n"
   ]
  },
  {
   "cell_type": "code",
   "execution_count": 7,
   "metadata": {},
   "outputs": [
    {
     "name": "stdout",
     "output_type": "stream",
     "text": [
      "the first row of ndarray [2.016e+03 1.000e+00 1.000e+00 5.000e+00 0.000e+00 2.000e+00 4.000e+00\n",
      " 2.100e+01 2.037e+03 5.200e+01 8.000e-01 5.540e+00 1.165e+01 6.999e+01\n",
      " 1.000e+00]\n",
      "from row 391 to row 500 of ndarray [[2.016e+03 1.000e+00 2.000e+00 ... 0.000e+00 2.630e+01 2.000e+00]\n",
      " [2.016e+03 1.000e+00 2.000e+00 ... 3.000e+00 3.030e+01 1.000e+00]\n",
      " [2.016e+03 1.000e+00 2.000e+00 ... 6.670e+00 4.001e+01 1.000e+00]\n",
      " ...\n",
      " [2.016e+03 1.000e+00 4.000e+00 ... 0.000e+00 5.534e+01 2.000e+00]\n",
      " [2.016e+03 1.000e+00 4.000e+00 ... 3.090e+00 1.339e+01 1.000e+00]\n",
      " [2.016e+03 1.000e+00 4.000e+00 ... 4.000e+00 2.680e+01 1.000e+00]]\n",
      "select a single element at row 21 and column 5 4.0\n"
     ]
    }
   ],
   "source": [
    "# let's practice selecting one row, multiple rows and single items from our taxi ndarray\n",
    "print(f'the first row of ndarray {taxi[0]}')\n",
    "print(f'from row 391 to row 500 of ndarray {taxi[391:501]}')\n",
    "print(f'select a single element at row 21 and column 5 {taxi[21,5]}')"
   ]
  },
  {
   "cell_type": "code",
   "execution_count": 8,
   "metadata": {},
   "outputs": [
    {
     "name": "stdout",
     "output_type": "stream",
     "text": [
      "first 5 rows of fare_amount [52.  45.  36.5 26.  17.5 52. ]\n",
      "first 5 rows of fees_amount [0.8 1.3 1.3 1.3 1.3 0.8]\n",
      "first 5 rows of fare_and_fees [52.8 46.3 37.8 27.3 18.8 52.8]\n"
     ]
    }
   ],
   "source": [
    "# use vector addition to add fare_amount and fees_amount. Assign the result to fare_and_fees.\n",
    "fare_amount = taxi[:,9]\n",
    "fees_amount = taxi[:,10]\n",
    "fare_and_fees = fare_amount + fees_amount\n",
    "print(f'first 5 rows of fare_amount {fare_amount[:6]}')\n",
    "print(f'first 5 rows of fees_amount {fees_amount[:6]}')\n",
    "print(f'first 5 rows of fare_and_fees {fare_and_fees[:6]}')"
   ]
  },
  {
   "cell_type": "code",
   "execution_count": 9,
   "metadata": {},
   "outputs": [
    {
     "name": "stdout",
     "output_type": "stream",
     "text": [
      "first 5 rows of trip_distance_miles[21.   16.29 12.7   8.7   5.56 21.45]\n",
      "first 5 rows of trip_length_hours [0.56583333 0.42222222 0.40611111 0.33611111 0.21083333 0.55666667]\n",
      "first 5 rows of trip_mph [37.11340206 38.58157895 31.27222982 25.88429752 26.3715415  38.53293413]\n"
     ]
    }
   ],
   "source": [
    "# use vector division to divide trip_distance_miles by trip_length_hours. Assign the result to trip_mph.\n",
    "trip_distance_miles = taxi[:,7]\n",
    "trip_length_seconds = taxi[:,8]\n",
    "\n",
    "trip_length_hours = trip_length_seconds / 3600 # 3600 seconds is one hour\n",
    "trip_mph=trip_distance_miles/trip_length_hours\n",
    "\n",
    "print(f'first 5 rows of trip_distance_miles{trip_distance_miles[:6]}')\n",
    "print(f'first 5 rows of trip_length_hours {trip_length_hours[:6]}')\n",
    "print(f'first 5 rows of trip_mph {trip_mph[:6]}')"
   ]
  },
  {
   "cell_type": "markdown",
   "metadata": {},
   "source": [
    "### NumPy ndarrays have methods for many different calculations. Here are a few of the key methods:\n",
    "- ndarray.min() to calculate the minimum value\n",
    "- ndarray.max() to calculate the maximum value\n",
    "- ndarray.mean() to calculate the mean or average value\n",
    "- ndarray.sum() to calculate the sum of the values"
   ]
  },
  {
   "cell_type": "code",
   "execution_count": 10,
   "metadata": {},
   "outputs": [
    {
     "name": "stdout",
     "output_type": "stream",
     "text": [
      "maximum value of trip_mph is 82800.0\n",
      "minimumvalue of trip_mph is 0.0\n",
      "average of trip_mph is 169.98315083655157\n"
     ]
    }
   ],
   "source": [
    "print(f'maximum value of trip_mph is {trip_mph.max()}')\n",
    "print(f'minimumvalue of trip_mph is {trip_mph.min()}')\n",
    "print(f'average of trip_mph is {trip_mph.mean()}')"
   ]
  },
  {
   "cell_type": "markdown",
   "metadata": {},
   "source": [
    "###  If we use the ndarray.max() method on a 2D ndarray without any additional parameters, it will return a single value, just like a 1D array\n",
    "\n",
    "![This is a image](https://raw.githubusercontent.com/tongNJ/Dataquest-Online-Courses-2022/main/Pictures/numpy-pic-1.PNG)\n",
    "\n",
    "### But what if we want to find the maximum value of each row? We need to use the axis parameter and specify a value of 1 to indicate that we want to calculate the maximum value for each row.\n",
    "\n",
    "![This is a image2](https://raw.githubusercontent.com/tongNJ/Dataquest-Online-Courses-2022/main/Pictures/numpy-pic-2.PNG)"
   ]
  },
  {
   "cell_type": "markdown",
   "metadata": {},
   "source": [
    "### Instead of using csv to import data, we can also use numpy.genformtxt() function to read files into Numpy ndarrays."
   ]
  },
  {
   "cell_type": "code",
   "execution_count": 18,
   "metadata": {},
   "outputs": [
    {
     "name": "stdout",
     "output_type": "stream",
     "text": [
      "[[2.016e+03 1.000e+00 1.000e+00 5.000e+00 0.000e+00 2.000e+00 4.000e+00\n",
      "  2.100e+01 2.037e+03 5.200e+01 8.000e-01 5.540e+00 1.165e+01 6.999e+01\n",
      "  1.000e+00]\n",
      " [2.016e+03 1.000e+00 1.000e+00 5.000e+00 0.000e+00 2.000e+00 1.000e+00\n",
      "  1.629e+01 1.520e+03 4.500e+01 1.300e+00 0.000e+00 8.000e+00 5.430e+01\n",
      "  1.000e+00]\n",
      " [2.016e+03 1.000e+00 1.000e+00 5.000e+00 0.000e+00 2.000e+00 6.000e+00\n",
      "  1.270e+01 1.462e+03 3.650e+01 1.300e+00 0.000e+00 0.000e+00 3.780e+01\n",
      "  2.000e+00]]\n",
      "(2013, 15)\n",
      "float64\n"
     ]
    }
   ],
   "source": [
    "taxi = np.genfromtxt(dataset_loc + 'nyc_taxis.csv', delimiter=',',skip_header=True)\n",
    "print(taxi[:3])\n",
    "print(taxi.shape)\n",
    "print(taxi.dtype)"
   ]
  },
  {
   "cell_type": "markdown",
   "metadata": {},
   "source": [
    "### Now, let's focus on arguably the most powerful method to index data: the Boolean array. A Boolean array, as the name suggests, is an array of Boolean values. We sometimes call Boolean arrays Boolean vectors or Boolean masks.\n",
    "\n",
    "You may recall that the Boolean (or bool) type is a built-in Python type that can be one of two unique values:\n",
    "- True\n",
    "- False\n",
    "\n",
    "Now, let's look at what happens when we perform a Boolean operation between an ndarray and a single value:\n",
    "print(np.array([2,4,6,8]) < 5)\n",
    "[ True  True False False]\n",
    "\n",
    "A similar pattern occurs – each value in the array is compared to five. If the value is less than five, True is returned. Otherwise, False is returned.\n",
    "\n",
    "\n"
   ]
  },
  {
   "cell_type": "code",
   "execution_count": null,
   "metadata": {},
   "outputs": [],
   "source": []
  }
 ],
 "metadata": {
  "kernelspec": {
   "display_name": "Python 3",
   "language": "python",
   "name": "python3"
  },
  "language_info": {
   "codemirror_mode": {
    "name": "ipython",
    "version": 3
   },
   "file_extension": ".py",
   "mimetype": "text/x-python",
   "name": "python",
   "nbconvert_exporter": "python",
   "pygments_lexer": "ipython3",
   "version": "3.7.3"
  }
 },
 "nbformat": 4,
 "nbformat_minor": 2
}
