{
 "cells": [
  {
   "cell_type": "markdown",
   "metadata": {},
   "source": [
    "In the previous course, we covered the fundamentals of probability and learned about:\n",
    "\n",
    "- Theoretical and empirical probabilities\n",
    "\n",
    "- Probability rules (the addition rule and the multiplication rule)\n",
    "\n",
    "- Counting techniques (the rule of product, permutations, and combinations)\n",
    "\n",
    "\n",
    "In this course, we'll build on what we've learned and develop new techniques that will enable us to better estimate probabilities. Our focus for the entire course will be on learning how to calculate probabilities based on certain conditions — hence the name conditional probability.\n",
    "\n",
    "By the end of this course, we'll be able to:\n",
    "\n",
    "- Assign probabilities to events based on certain conditions by using conditional probability rules.\n",
    "\n",
    "- Assign probabilities to events based on whether they are in a relationship of statistical independence or not with other events.\n",
    "\n",
    "- Assign probabilities to events based on prior knowledge by using Bayes' theorem.\n",
    "\n",
    "- Create a spam filter for SMS messages using the multinomial Naive Bayes algorithm."
   ]
  },
  {
   "cell_type": "markdown",
   "metadata": {},
   "source": [
    "\n",
    "---------------------------------------------------------------------------------------------------------------------\n",
    "\n",
    "Now suppose the die is rolled and we're told some new information: the die showed an odd number (1, 3, or 5) after landing. Is the probability of getting a 5 still P(5)=1/6? \n",
    "\n",
    "Or should we instead update the probability based on the information we have?\n",
    "\n",
    " \n",
    "Ω = {1,2,3,4,5,6}  ==>   Ω = {1,3,5}\n",
    "\n",
    "Therefore, knowing the die showed an add number, the probability of getting 5 is P(5) = 1/3\n",
    "\n",
    "\n",
    "For notation simplicity, P(5 given the die showed an odd number) becomes **P(5|odd)**. The vertical bar character ( | ) should be read as \"given.\" We can read P(5|odd) as \"the probability of getting a 5 given that the die showed an odd number.\"\n",
    "\n",
    "\n",
    "Say we roll a fair six-sided die and want to find the probability of getting an odd number, given the die showed a number greater than 1 after landing. Using probability notation, we want to find P(A|B) where:\n",
    "\n",
    "- A is the event that the number is odd: A = {1, 3, 5}\n",
    "- B is the event that the number is greater than 1: B = {2, 3, 4, 5, 6}\n",
    "\n",
    "\n",
    "To find P(A|B), we need to use the following formula:\n",
    "\n",
    "**P(A|B) = number of successful outcomes / total number of possible outcomes**\n",
    "\n",
    "\n",
    "We know for sure event B happened (the number is greater than 1), so the sample space is reduced from {1, 2, 3, 4, 5, 6} to {2, 3, 4, 5, 6}:\n",
    "\n",
    "\n",
    "The total number of possible outcomes above is given by the number of elements in the reduced sample space Ω={2,3,4,5,6} — there are five elements.\n",
    "\n",
    "The number of elements in a set is called the **cardinal** of the set. Ω is a set, and the **cardinal of Ω={2,3,4,5,6} is**:\n",
    "\n",
    "**cardinal(Ω) = 5**\n",
    "\n",
    "\n",
    "In set notation, cardinal(Ω) is abbreviated as **card(Ω)**, so we have:\n",
    "\n",
    "total number of possible outcomes = **card(Ω) = 5**\n",
    "\n",
    "\n",
    "\n",
    "The only possible odd numbers we can get are only 3 and 5, and the number of possible successful outcomes is also given by the cardinal of the set {3, 5}:\n",
    "\n",
    "number of successful outcomes = 2 = card({3,5})\n",
    "\n",
    "\n",
    "### **P(A|B) = card(A∩B)/card(B) = 2/5**\n"
   ]
  },
  {
   "cell_type": "markdown",
   "metadata": {},
   "source": [
    "\n",
    "--------------------------------------------------\n",
    "Two fair six-sided dice are simultaneously rolled, and the two numbers they show are added together. The diagram below shows all the possible results that we can get from adding the two numbers together.\n",
    "\n",
    "![probability-pic-1](https://raw.githubusercontent.com/tongNJ/Dataquest-Online-Courses-2022/main/Pictures/probability-pic-1.PNG)\n",
    "\n",
    "\n",
    "Find P(A|B), where A is the event where the sum is an even number, and B is the event that the sum is less than eight."
   ]
  },
  {
   "cell_type": "code",
   "execution_count": 1,
   "metadata": {},
   "outputs": [],
   "source": [
    "def two_dice_sum():\n",
    "    total = []\n",
    "    for i in range(1,7):\n",
    "        for j in range(1,7):\n",
    "            _sum = i+j\n",
    "            total.append(_sum)\n",
    "    return total\n"
   ]
  },
  {
   "cell_type": "code",
   "execution_count": 21,
   "metadata": {},
   "outputs": [
    {
     "name": "stdout",
     "output_type": "stream",
     "text": [
      "card(b) = 21\n",
      "card(a_and_b) = 9\n",
      "P(A|B) = card(a and b) / card(b) = 42.86%\n"
     ]
    }
   ],
   "source": [
    "card_b=0 \n",
    "card_a_and_b = 0\n",
    "for i in two_dice_sum():\n",
    "    if i < 8:\n",
    "        card_b += 1\n",
    "        if i%2==0:\n",
    "            card_a_and_b +=1\n",
    "\n",
    "print('card(b) = ' + str(card_b))\n",
    "print('card(a_and_b) = ' + str(card_a_and_b))\n",
    "print(f'P(A|B) = card(a and b) / card(b) = {round(card_a_and_b/card_b*100,2)}%')"
   ]
  },
  {
   "cell_type": "code",
   "execution_count": 10,
   "metadata": {},
   "outputs": [
    {
     "data": {
      "text/plain": [
       "0"
      ]
     },
     "execution_count": 10,
     "metadata": {},
     "output_type": "execute_result"
    }
   ],
   "source": [
    "6%2"
   ]
  },
  {
   "cell_type": "code",
   "execution_count": null,
   "metadata": {},
   "outputs": [],
   "source": []
  }
 ],
 "metadata": {
  "kernelspec": {
   "display_name": "Python 3",
   "language": "python",
   "name": "python3"
  },
  "language_info": {
   "codemirror_mode": {
    "name": "ipython",
    "version": 3
   },
   "file_extension": ".py",
   "mimetype": "text/x-python",
   "name": "python",
   "nbconvert_exporter": "python",
   "pygments_lexer": "ipython3",
   "version": "3.7.3"
  }
 },
 "nbformat": 4,
 "nbformat_minor": 2
}
