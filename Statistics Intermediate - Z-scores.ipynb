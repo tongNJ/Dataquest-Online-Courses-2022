{
 "cells": [
  {
   "cell_type": "markdown",
   "metadata": {},
   "source": [
    "# Z-scores\n",
    "- In this lesson, we will learn to use z-scores to describe the location of a value within a distribution. Z-scores are useful for comparing values coming from different distributions with different means and standard deviations.\n",
    "\n",
    "\n",
    "- We will also learn to standardize distributions and discussed a few situations where that might be useful. It's worth mentioning that standardization is also useful for some machine learning algorithms that we'll learn about in later courses. Also, z-scores in general are key elements in understanding confidence intervals and hypothesis testing, which we'll discuss in later courses.\n",
    "\n",
    "\n",
    "- We will continue to use the AmesHousing_1.txt dataset for our purpose.\n"
   ]
  },
  {
   "cell_type": "code",
   "execution_count": 48,
   "metadata": {},
   "outputs": [],
   "source": [
    "import pandas as pd\n",
    "import numpy as np\n",
    "import matplotlib.pyplot as plt\n",
    "%matplotlib inline\n",
    "import seaborn as sns"
   ]
  },
  {
   "cell_type": "code",
   "execution_count": 2,
   "metadata": {},
   "outputs": [
    {
     "data": {
      "text/html": [
       "<div>\n",
       "<style scoped>\n",
       "    .dataframe tbody tr th:only-of-type {\n",
       "        vertical-align: middle;\n",
       "    }\n",
       "\n",
       "    .dataframe tbody tr th {\n",
       "        vertical-align: top;\n",
       "    }\n",
       "\n",
       "    .dataframe thead th {\n",
       "        text-align: right;\n",
       "    }\n",
       "</style>\n",
       "<table border=\"1\" class=\"dataframe\">\n",
       "  <thead>\n",
       "    <tr style=\"text-align: right;\">\n",
       "      <th></th>\n",
       "      <th>Order</th>\n",
       "      <th>PID</th>\n",
       "      <th>MS SubClass</th>\n",
       "      <th>MS Zoning</th>\n",
       "      <th>Lot Frontage</th>\n",
       "      <th>Lot Area</th>\n",
       "      <th>Street</th>\n",
       "      <th>Alley</th>\n",
       "      <th>Lot Shape</th>\n",
       "      <th>Land Contour</th>\n",
       "      <th>...</th>\n",
       "      <th>Pool Area</th>\n",
       "      <th>Pool QC</th>\n",
       "      <th>Fence</th>\n",
       "      <th>Misc Feature</th>\n",
       "      <th>Misc Val</th>\n",
       "      <th>Mo Sold</th>\n",
       "      <th>Yr Sold</th>\n",
       "      <th>Sale Type</th>\n",
       "      <th>Sale Condition</th>\n",
       "      <th>SalePrice</th>\n",
       "    </tr>\n",
       "  </thead>\n",
       "  <tbody>\n",
       "    <tr>\n",
       "      <th>0</th>\n",
       "      <td>1</td>\n",
       "      <td>526301100</td>\n",
       "      <td>20</td>\n",
       "      <td>RL</td>\n",
       "      <td>141.0</td>\n",
       "      <td>131770</td>\n",
       "      <td>Pave</td>\n",
       "      <td>NaN</td>\n",
       "      <td>IR1</td>\n",
       "      <td>Lvl</td>\n",
       "      <td>...</td>\n",
       "      <td>0</td>\n",
       "      <td>NaN</td>\n",
       "      <td>NaN</td>\n",
       "      <td>NaN</td>\n",
       "      <td>0</td>\n",
       "      <td>5</td>\n",
       "      <td>2010</td>\n",
       "      <td>WD</td>\n",
       "      <td>Normal</td>\n",
       "      <td>215000</td>\n",
       "    </tr>\n",
       "    <tr>\n",
       "      <th>1</th>\n",
       "      <td>2</td>\n",
       "      <td>526350040</td>\n",
       "      <td>20</td>\n",
       "      <td>RH</td>\n",
       "      <td>80.0</td>\n",
       "      <td>11622</td>\n",
       "      <td>Pave</td>\n",
       "      <td>NaN</td>\n",
       "      <td>Reg</td>\n",
       "      <td>Lvl</td>\n",
       "      <td>...</td>\n",
       "      <td>0</td>\n",
       "      <td>NaN</td>\n",
       "      <td>MnPrv</td>\n",
       "      <td>NaN</td>\n",
       "      <td>0</td>\n",
       "      <td>6</td>\n",
       "      <td>2010</td>\n",
       "      <td>WD</td>\n",
       "      <td>Normal</td>\n",
       "      <td>105000</td>\n",
       "    </tr>\n",
       "    <tr>\n",
       "      <th>2</th>\n",
       "      <td>3</td>\n",
       "      <td>526351010</td>\n",
       "      <td>20</td>\n",
       "      <td>RL</td>\n",
       "      <td>81.0</td>\n",
       "      <td>14267</td>\n",
       "      <td>Pave</td>\n",
       "      <td>NaN</td>\n",
       "      <td>IR1</td>\n",
       "      <td>Lvl</td>\n",
       "      <td>...</td>\n",
       "      <td>0</td>\n",
       "      <td>NaN</td>\n",
       "      <td>NaN</td>\n",
       "      <td>Gar2</td>\n",
       "      <td>12500</td>\n",
       "      <td>6</td>\n",
       "      <td>2010</td>\n",
       "      <td>WD</td>\n",
       "      <td>Normal</td>\n",
       "      <td>172000</td>\n",
       "    </tr>\n",
       "    <tr>\n",
       "      <th>3</th>\n",
       "      <td>4</td>\n",
       "      <td>526353030</td>\n",
       "      <td>20</td>\n",
       "      <td>RL</td>\n",
       "      <td>93.0</td>\n",
       "      <td>11160</td>\n",
       "      <td>Pave</td>\n",
       "      <td>NaN</td>\n",
       "      <td>Reg</td>\n",
       "      <td>Lvl</td>\n",
       "      <td>...</td>\n",
       "      <td>0</td>\n",
       "      <td>NaN</td>\n",
       "      <td>NaN</td>\n",
       "      <td>NaN</td>\n",
       "      <td>0</td>\n",
       "      <td>4</td>\n",
       "      <td>2010</td>\n",
       "      <td>WD</td>\n",
       "      <td>Normal</td>\n",
       "      <td>244000</td>\n",
       "    </tr>\n",
       "    <tr>\n",
       "      <th>4</th>\n",
       "      <td>5</td>\n",
       "      <td>527105010</td>\n",
       "      <td>60</td>\n",
       "      <td>RL</td>\n",
       "      <td>74.0</td>\n",
       "      <td>13830</td>\n",
       "      <td>Pave</td>\n",
       "      <td>NaN</td>\n",
       "      <td>IR1</td>\n",
       "      <td>Lvl</td>\n",
       "      <td>...</td>\n",
       "      <td>0</td>\n",
       "      <td>NaN</td>\n",
       "      <td>MnPrv</td>\n",
       "      <td>NaN</td>\n",
       "      <td>0</td>\n",
       "      <td>3</td>\n",
       "      <td>2010</td>\n",
       "      <td>WD</td>\n",
       "      <td>Normal</td>\n",
       "      <td>189900</td>\n",
       "    </tr>\n",
       "  </tbody>\n",
       "</table>\n",
       "<p>5 rows × 82 columns</p>\n",
       "</div>"
      ],
      "text/plain": [
       "   Order        PID  MS SubClass MS Zoning  Lot Frontage  Lot Area Street  \\\n",
       "0      1  526301100           20        RL         141.0    131770   Pave   \n",
       "1      2  526350040           20        RH          80.0     11622   Pave   \n",
       "2      3  526351010           20        RL          81.0     14267   Pave   \n",
       "3      4  526353030           20        RL          93.0     11160   Pave   \n",
       "4      5  527105010           60        RL          74.0     13830   Pave   \n",
       "\n",
       "  Alley Lot Shape Land Contour  ... Pool Area Pool QC  Fence Misc Feature  \\\n",
       "0   NaN       IR1          Lvl  ...         0     NaN    NaN          NaN   \n",
       "1   NaN       Reg          Lvl  ...         0     NaN  MnPrv          NaN   \n",
       "2   NaN       IR1          Lvl  ...         0     NaN    NaN         Gar2   \n",
       "3   NaN       Reg          Lvl  ...         0     NaN    NaN          NaN   \n",
       "4   NaN       IR1          Lvl  ...         0     NaN  MnPrv          NaN   \n",
       "\n",
       "  Misc Val Mo Sold Yr Sold Sale Type  Sale Condition  SalePrice  \n",
       "0        0       5    2010       WD           Normal     215000  \n",
       "1        0       6    2010       WD           Normal     105000  \n",
       "2    12500       6    2010       WD           Normal     172000  \n",
       "3        0       4    2010       WD           Normal     244000  \n",
       "4        0       3    2010       WD           Normal     189900  \n",
       "\n",
       "[5 rows x 82 columns]"
      ]
     },
     "execution_count": 2,
     "metadata": {},
     "output_type": "execute_result"
    }
   ],
   "source": [
    "dataset_loc = 'D:/Dataquest/Dataquest 2022 Learning/Datasets/'\n",
    "df = pd.read_table(dataset_loc + 'AmesHousing_1.txt')\n",
    "df.head()"
   ]
  },
  {
   "cell_type": "code",
   "execution_count": 32,
   "metadata": {},
   "outputs": [
    {
     "name": "stdout",
     "output_type": "stream",
     "text": [
      "2216    220000\n",
      "Name: SalePrice, dtype: int64\n",
      "Average Selling Price is 180796.0600682594\n",
      "Standard Deviation is 79873.05865192247\n"
     ]
    }
   ],
   "source": [
    "# Let's sample randomly one sale price from the SalePrice column and see what can we say about the sampled value:\n",
    "sample = df['SalePrice'].sample(1,random_state=0)\n",
    "print(sample)\n",
    "\n",
    "mean_price = df['SalePrice'].mean()\n",
    "print(f'Average Selling Price is {mean_price}')\n",
    "\n",
    "std_price = df['SalePrice'].std(ddof=0)\n",
    "print(f'Standard Deviation is {std_price}')"
   ]
  },
  {
   "cell_type": "markdown",
   "metadata": {},
   "source": [
    "- The sampled house (220,000) is clearly more expensive than the average house (roughly $180,796), but is this price slightly above the average or extremely above the average? The answer depends on the standard deviation of the distribution of sale prices."
   ]
  },
  {
   "cell_type": "code",
   "execution_count": 33,
   "metadata": {},
   "outputs": [
    {
     "data": {
      "text/plain": [
       "<matplotlib.legend.Legend at 0x1917fd169e8>"
      ]
     },
     "execution_count": 33,
     "metadata": {},
     "output_type": "execute_result"
    },
    {
     "data": {
      "image/png": "[encoded data removed]",
      "text/plain": [
       "<Figure size 432x288 with 1 Axes>"
      ]
     },
     "metadata": {
      "needs_background": "light"
     },
     "output_type": "display_data"
    }
   ],
   "source": [
    "df['SalePrice'].plot.kde(xlim=(0,df['SalePrice'].max()))\n",
    "plt.axvline(mean_price,label='Mean Price',color='red')\n",
    "plt.axvline(mean_price + std_price,label='+1Std',color='red',linestyle='--')\n",
    "plt.axvline(220000,label='Random Sample',color='green',linestyle='--')\n",
    "plt.legend()"
   ]
  },
  {
   "cell_type": "code",
   "execution_count": 34,
   "metadata": {},
   "outputs": [
    {
     "name": "stdout",
     "output_type": "stream",
     "text": [
      "220000 is about 0.5 standard deviation from the mean\n"
     ]
    }
   ],
   "source": [
    "st_devs_away= (220000-mean_price) / std_price\n",
    "st_devs_away\n",
    "print(f'220000 is about {round(st_devs_away,1)} standard deviation from the mean')"
   ]
  },
  {
   "cell_type": "markdown",
   "metadata": {},
   "source": [
    "Let's try to describe this process algebraically: for any value **x** in a population with mean **μ** and standard deviation **σ**, the number of standard deviations away from the mean is given by the formula below, where we denote the number of **standard deviations away from the mean with z**:\n",
    "\n",
    "## z = (x - μ) / σ   ==> For population Z-score\n",
    "\n",
    "The value representing the number of standard deviations away from the mean is commonly known as the **standard score**, or the   **z-score**. We'll use the term \"z-score\" throughout our courses\n",
    "\n",
    "Z-scores can also be defined fairly easy for samples. For any value x in a sample with **mean $\\bar{x}$** and standard deviation **s** (with Bessel's correction), the z-score z is given by the formula:\n",
    "\n",
    "## z = (x - $\\bar{x}$ ) / s  ==> For sample Z-score\n",
    "\n",
    "The z-scores we've dealt with so far were all positive, but we can have negative z-scores as well. Let's consider again one of the samples from the last screen (the one with a mean $\\bar{x}$ of $180,000, and a standard deviation s of $40,000). A price of $100,000 will have a z-score of -2:\n",
    "\n",
    "![statistics-pic-10](https://raw.githubusercontent.com/tongNJ/Dataquest-Online-Courses-2022/main/Pictures/statistics-pic-10.PNG)\n",
    "\n",
    "We can see that a z-score has two parts:\n",
    "\n",
    "- The sign, which indicates whether the value is above or below the mean.\n",
    "- The value, which indicates the number of standard deviations that a value is away from the mean.\n",
    "Generally, the sign of a z-score is written out even if the z-score is positive. If a value is two standard deviations away from the mean, we should write that the z-score is +2, not 2."
   ]
  },
  {
   "cell_type": "code",
   "execution_count": 36,
   "metadata": {},
   "outputs": [],
   "source": [
    "def cal_z(value, array, ddof=0):\n",
    "    mean = sum(array)/len(array)\n",
    "    std = np.std(array,ddof=ddof)\n",
    "    z = (value-mean)/std\n",
    "    return z"
   ]
  },
  {
   "cell_type": "code",
   "execution_count": 37,
   "metadata": {},
   "outputs": [
    {
     "name": "stdout",
     "output_type": "stream",
     "text": [
      "Z-score for the minimum sales price is -2.1034258973406126\n",
      "Z-score for the mean sales price is 0.0\n",
      "Z-score for the max sales price is 7.188956446929806\n"
     ]
    }
   ],
   "source": [
    "min_val = df['SalePrice'].min()\n",
    "mean_val = df['SalePrice'].mean()\n",
    "max_val = df['SalePrice'].max()\n",
    "\n",
    "min_z = cal_z(min_val,df['SalePrice'],ddof=0)\n",
    "mean_z = cal_z(mean_val,df['SalePrice'],ddof=0)\n",
    "max_z = cal_z(max_val,df['SalePrice'],ddof=0)\n",
    "\n",
    "print(f'Z-score for the minimum sales price is {min_z}')\n",
    "print(f'Z-score for the mean sales price is {mean_z}')\n",
    "print(f'Z-score for the max sales price is {max_z}')"
   ]
  },
  {
   "cell_type": "markdown",
   "metadata": {},
   "source": [
    "### Test\n",
    "Let's now consider an example that's suggestive for the kind of questions we can answer using z-scores.\n",
    "\n",
    "Let's say we're working as data analysts for a real estate company, and we want to find the best neighborhood in Ames to invest in (remember that our data set describes sale prices for houses in Ames, Iowa). Our company wants to buy a couple of houses that we can then rent and ideally sell back later at a higher price. We think that location is an important factor driving rental and sale prices, and we want to target our investment based on location.\n",
    "\n",
    "The company budgeted USD10,000,000 for this investment, and the plan is to buy 50 houses of USD200,000 each. Depending on the market particularities of each neighborhood, a USD200,000 house can be considered cheap, average-priced, or expensive. We want to find a neighborhood where a price of $200,000 goes as average because average-priced houses are the ones that are most rented and easiest to sell.\n",
    "\n",
    "Sale prices are lower in bad neighborhoods and someone can get a high-quality house for $200,000, but usually people avoid bad neighborhoods for a variety of reasons: distance from the workplace, lack of schools, pollution, noise, etc.\n",
    "\n",
    "High-quality neighborhoods will tend to be avoided as well because of the higher sale prices — with $200,000, you may only be able to get a poor-quality house in a good location. So most people will aim for something in the middle — these people make up the market we intend to reach.\n",
    "\n",
    "We're asked by our real estate specialists to analyze historical data on five neighborhoods:\n",
    "\n",
    "- North Ames.\n",
    "- College Creek.\n",
    "- Old Town.\n",
    "- Edwards.\n",
    "- Somerset\n",
    "\n",
    "Our goal is to find out for which of these neighborhoods a USD200,000 house is average-priced. We can solve this task quickly by measuring the z-score for a $200,000 value for each of the five distributions — each of the five neighborhoods has its own distribution of sale prices with its own mean and standard deviation.\n",
    "\n",
    "We saw in the previous exercise that the mean of a distribution has a z-score of 0, so our recommendation should be the neighborhood with the z-score closest to 0 (we'll detail later in this lesson why the mean of a distribution has a z-score of 0).\n",
    "\n",
    "Note that we can't simply find the mean sale price of each neighborhood and then just subtract $200,000 from the mean to find the neighborhood with the lowest difference. This way we'd fail to take into account the variability of each distribution."
   ]
  },
  {
   "cell_type": "code",
   "execution_count": 42,
   "metadata": {},
   "outputs": [
    {
     "name": "stdout",
     "output_type": "stream",
     "text": [
      "{'NAmes': 1.722019705502292, 'CollgCr': -0.03328116293550407, 'OldTown': 1.714709537757288, 'Edwards': 1.4398508297188277, 'Somerst': -0.517212269518196}\n",
      "the area that has the smallest z-score is College Creek\n"
     ]
    }
   ],
   "source": [
    "df['Neighborhood'].unique()\n",
    "areas = ['NAmes','CollgCr','OldTown','Edwards','Somerst']\n",
    "area_z_dict = {}\n",
    "for i in areas:\n",
    "    z = cal_z(200000,df.loc[df['Neighborhood']==i,'SalePrice'],ddof=1)\n",
    "    area_z_dict[i] = z\n",
    "print(area_z_dict)\n",
    "print('the area that has the smallest z-score is College Creek')"
   ]
  },
  {
   "cell_type": "code",
   "execution_count": 40,
   "metadata": {},
   "outputs": [
    {
     "data": {
      "text/plain": [
       "{'NAmes': 1.722019705502292,\n",
       " 'CollgCr': -0.03328116293550407,\n",
       " 'OldTown': 1.714709537757288,\n",
       " 'Edwards': 1.4398508297188277,\n",
       " 'Somerst': -0.517212269518196}"
      ]
     },
     "execution_count": 40,
     "metadata": {},
     "output_type": "execute_result"
    }
   ],
   "source": [
    "area_z_dict"
   ]
  },
  {
   "cell_type": "code",
   "execution_count": 44,
   "metadata": {},
   "outputs": [
    {
     "data": {
      "text/plain": [
       "0       0.428229\n",
       "1      -0.948957\n",
       "2      -0.110125\n",
       "3       0.791305\n",
       "4       0.113980\n",
       "          ...   \n",
       "2925   -0.479462\n",
       "2926   -0.623440\n",
       "2927   -0.610920\n",
       "2928   -0.135165\n",
       "2929    0.090192\n",
       "Name: z_prices, Length: 2930, dtype: float64"
      ]
     },
     "execution_count": 44,
     "metadata": {},
     "output_type": "execute_result"
    }
   ],
   "source": [
    "# Convert each value to a z-score by using the Series.apply() method.\n",
    "df['z_prices'] = df['SalePrice'].apply(lambda x: (x-mean_price)/std_price)\n",
    "df['z_prices']"
   ]
  },
  {
   "cell_type": "code",
   "execution_count": 72,
   "metadata": {},
   "outputs": [
    {
     "data": {
      "text/plain": [
       "[Text(0, 0.5, 'Density'), (-2.1034258973406126, 7.188956446929806)]"
      ]
     },
     "execution_count": 72,
     "metadata": {},
     "output_type": "execute_result"
    },
    {
     "data": {
      "image/png": "[encoded data removed]",
      "text/plain": [
       "<Figure size 1080x576 with 2 Axes>"
      ]
     },
     "metadata": {},
     "output_type": "display_data"
    }
   ],
   "source": [
    "sns.set()\n",
    "plt.style.use('fivethirtyeight')\n",
    "fig,axs = plt.subplots(1,2,figsize=(15,8))\n",
    "plt.suptitle('Sales Price Density Plot')\n",
    "sns.kdeplot(df['SalePrice'],ax=axs[0])\n",
    "sns.kdeplot(df['z_prices'],ax=axs[1])\n",
    "# axs[0].set_xlim(df['SalePrice'].min(),df['SalePrice'].max())\n",
    "# axs[1].set_xlim(df['z_prices'].min(),df['z_prices'].max())\n",
    "\n",
    "axs[0].set(ylabel='Density',xlim=(df['SalePrice'].min(),df['SalePrice'].max()))\n",
    "axs[1].set(ylabel='Density',xlim=(df['z_prices'].min(),df['z_prices'].max()))\n",
    "# df['z_prices'].plot.kde(xlim=(df['z_prices'].min(),df['z_prices'].max()))"
   ]
  },
  {
   "cell_type": "code",
   "execution_count": 74,
   "metadata": {},
   "outputs": [
    {
     "data": {
      "text/plain": [
       "<AxesSubplot:>"
      ]
     },
     "execution_count": 74,
     "metadata": {},
     "output_type": "execute_result"
    },
    {
     "data": {
      "image/png": "[encoded data removed]",
      "text/plain": [
       "<Figure size 432x288 with 2 Axes>"
      ]
     },
     "metadata": {},
     "output_type": "display_data"
    }
   ],
   "source": [
    "# if doing subplots, we acan also use plt.subplot to added additional axs one by one...\n",
    "plt.subplot(1,2,1)\n",
    "plt.subplot(1,2,2)"
   ]
  },
  {
   "cell_type": "code",
   "execution_count": 76,
   "metadata": {},
   "outputs": [
    {
     "name": "stdout",
     "output_type": "stream",
     "text": [
      "the mean of z-prices column is -1.1429992333726227e-16\n",
      "the standard deviation of z-prices column is 1.0000000000000002\n"
     ]
    }
   ],
   "source": [
    "z_mean_price = df['z_prices'].mean()\n",
    "z_stdev_price = df['z_prices'].std(ddof=0)\n",
    "\n",
    "print(f'the mean of z-prices column is {z_mean_price}')\n",
    "print(f'the standard deviation of z-prices column is {z_stdev_price}')"
   ]
  },
  {
   "cell_type": "code",
   "execution_count": 80,
   "metadata": {},
   "outputs": [
    {
     "name": "stdout",
     "output_type": "stream",
     "text": [
      "the mean of z-Lot Area column is 8.771898641662927e-18\n",
      "the standard deviation of z-Lot Area column is 0.9999999999999997\n"
     ]
    }
   ],
   "source": [
    "df['z_LotArea'] = df['Lot Area'].apply(lambda x: (x-df['Lot Area'].mean()) / df['Lot Area'].std(ddof=0))\n",
    "\n",
    "z_mean_area = df['z_LotArea'].mean()\n",
    "z_stdev_area = df['z_LotArea'].std(ddof=0)\n",
    "\n",
    "print(f'the mean of z-Lot Area column is {z_mean_area}')\n",
    "print(f'the standard deviation of z-Lot Area column is {z_stdev_area}')"
   ]
  },
  {
   "cell_type": "markdown",
   "metadata": {},
   "source": [
    "### In fact, for every distribution of z-scores, the mean is always 0 and the standard deviation is always 1. \n",
    "\n",
    "- for a normal distribution with mean=180,000 and std = 10,000, z-score for a value = 180,000 is equal to (180,000 - 180,000)/10,000 = 0\n",
    "\n",
    "\n",
    "- and z-score for a value =190,000 is equal to (190,000-180,000)/10,000 = 1\n",
    "\n",
    "\n",
    "- Therefore, for a **z-score distribution**, **mean** is always **0** and **standard deviation** is **1**. We often called a **standard distribution**. When we convert a distribution to z-scores, we'd say in statistical jargon that we **standardized** the distribution.  \n",
    "\n"
   ]
  },
  {
   "cell_type": "code",
   "execution_count": null,
   "metadata": {},
   "outputs": [],
   "source": []
  }
 ],
 "metadata": {
  "kernelspec": {
   "display_name": "Python 3",
   "language": "python",
   "name": "python3"
  },
  "language_info": {
   "codemirror_mode": {
    "name": "ipython",
    "version": 3
   },
   "file_extension": ".py",
   "mimetype": "text/x-python",
   "name": "python",
   "nbconvert_exporter": "python",
   "pygments_lexer": "ipython3",
   "version": "3.7.3"
  }
 },
 "nbformat": 4,
 "nbformat_minor": 2
}
