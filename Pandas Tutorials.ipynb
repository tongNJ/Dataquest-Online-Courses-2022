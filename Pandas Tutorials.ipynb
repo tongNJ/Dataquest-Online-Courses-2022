{
 "cells": [
  {
   "cell_type": "markdown",
   "metadata": {},
   "source": [
    "# Pandas Tutorial\n",
    "In this lesson, we learned:\n",
    "\n",
    "- How to select data from pandas objects using boolean arrays.\n",
    "- How to assign data using labels and boolean arrays.\n",
    "- How to create new columns in pandas.\n",
    "- Many new methods to make data analysis easier in pandas.\n",
    "- New ways of creating dataframe and series objects.\n",
    "- Advanced selection techniques.\n",
    "- Performing more complex analysis.\n",
    " "
   ]
  },
  {
   "cell_type": "code",
   "execution_count": 1,
   "metadata": {},
   "outputs": [],
   "source": [
    "import pandas as pd\n",
    "import numpy as np"
   ]
  },
  {
   "cell_type": "code",
   "execution_count": 7,
   "metadata": {
    "scrolled": false
   },
   "outputs": [
    {
     "data": {
      "text/html": [
       "<div>\n",
       "<style scoped>\n",
       "    .dataframe tbody tr th:only-of-type {\n",
       "        vertical-align: middle;\n",
       "    }\n",
       "\n",
       "    .dataframe tbody tr th {\n",
       "        vertical-align: top;\n",
       "    }\n",
       "\n",
       "    .dataframe thead th {\n",
       "        text-align: right;\n",
       "    }\n",
       "</style>\n",
       "<table border=\"1\" class=\"dataframe\">\n",
       "  <thead>\n",
       "    <tr style=\"text-align: right;\">\n",
       "      <th></th>\n",
       "      <th>company</th>\n",
       "      <th>rank</th>\n",
       "      <th>revenues</th>\n",
       "      <th>revenue_change</th>\n",
       "      <th>profits</th>\n",
       "      <th>assets</th>\n",
       "      <th>profit_change</th>\n",
       "      <th>ceo</th>\n",
       "      <th>industry</th>\n",
       "      <th>sector</th>\n",
       "      <th>previous_rank</th>\n",
       "      <th>country</th>\n",
       "      <th>hq_location</th>\n",
       "      <th>website</th>\n",
       "      <th>years_on_global_500_list</th>\n",
       "      <th>employees</th>\n",
       "      <th>total_stockholder_equity</th>\n",
       "    </tr>\n",
       "  </thead>\n",
       "  <tbody>\n",
       "    <tr>\n",
       "      <td>0</td>\n",
       "      <td>Walmart</td>\n",
       "      <td>1</td>\n",
       "      <td>485873</td>\n",
       "      <td>0.8</td>\n",
       "      <td>13643.0</td>\n",
       "      <td>198825</td>\n",
       "      <td>-7.2</td>\n",
       "      <td>C. Douglas McMillon</td>\n",
       "      <td>General Merchandisers</td>\n",
       "      <td>Retailing</td>\n",
       "      <td>1</td>\n",
       "      <td>USA</td>\n",
       "      <td>Bentonville, AR</td>\n",
       "      <td>http://www.walmart.com</td>\n",
       "      <td>23</td>\n",
       "      <td>2300000</td>\n",
       "      <td>77798</td>\n",
       "    </tr>\n",
       "    <tr>\n",
       "      <td>1</td>\n",
       "      <td>State Grid</td>\n",
       "      <td>2</td>\n",
       "      <td>315199</td>\n",
       "      <td>-4.4</td>\n",
       "      <td>9571.3</td>\n",
       "      <td>489838</td>\n",
       "      <td>-6.2</td>\n",
       "      <td>Kou Wei</td>\n",
       "      <td>Utilities</td>\n",
       "      <td>Energy</td>\n",
       "      <td>2</td>\n",
       "      <td>China</td>\n",
       "      <td>Beijing, China</td>\n",
       "      <td>http://www.sgcc.com.cn</td>\n",
       "      <td>17</td>\n",
       "      <td>926067</td>\n",
       "      <td>209456</td>\n",
       "    </tr>\n",
       "    <tr>\n",
       "      <td>2</td>\n",
       "      <td>Sinopec Group</td>\n",
       "      <td>3</td>\n",
       "      <td>267518</td>\n",
       "      <td>-9.1</td>\n",
       "      <td>1257.9</td>\n",
       "      <td>310726</td>\n",
       "      <td>-65.0</td>\n",
       "      <td>Wang Yupu</td>\n",
       "      <td>Petroleum Refining</td>\n",
       "      <td>Energy</td>\n",
       "      <td>4</td>\n",
       "      <td>China</td>\n",
       "      <td>Beijing, China</td>\n",
       "      <td>http://www.sinopec.com</td>\n",
       "      <td>19</td>\n",
       "      <td>713288</td>\n",
       "      <td>106523</td>\n",
       "    </tr>\n",
       "    <tr>\n",
       "      <td>3</td>\n",
       "      <td>China National Petroleum</td>\n",
       "      <td>4</td>\n",
       "      <td>262573</td>\n",
       "      <td>-12.3</td>\n",
       "      <td>1867.5</td>\n",
       "      <td>585619</td>\n",
       "      <td>-73.7</td>\n",
       "      <td>Zhang Jianhua</td>\n",
       "      <td>Petroleum Refining</td>\n",
       "      <td>Energy</td>\n",
       "      <td>3</td>\n",
       "      <td>China</td>\n",
       "      <td>Beijing, China</td>\n",
       "      <td>http://www.cnpc.com.cn</td>\n",
       "      <td>17</td>\n",
       "      <td>1512048</td>\n",
       "      <td>301893</td>\n",
       "    </tr>\n",
       "    <tr>\n",
       "      <td>4</td>\n",
       "      <td>Toyota Motor</td>\n",
       "      <td>5</td>\n",
       "      <td>254694</td>\n",
       "      <td>7.7</td>\n",
       "      <td>16899.3</td>\n",
       "      <td>437575</td>\n",
       "      <td>-12.3</td>\n",
       "      <td>Akio Toyoda</td>\n",
       "      <td>Motor Vehicles and Parts</td>\n",
       "      <td>Motor Vehicles &amp; Parts</td>\n",
       "      <td>8</td>\n",
       "      <td>Japan</td>\n",
       "      <td>Toyota, Japan</td>\n",
       "      <td>http://www.toyota-global.com</td>\n",
       "      <td>23</td>\n",
       "      <td>364445</td>\n",
       "      <td>157210</td>\n",
       "    </tr>\n",
       "  </tbody>\n",
       "</table>\n",
       "</div>"
      ],
      "text/plain": [
       "                    company  rank  revenues  revenue_change  profits  assets  \\\n",
       "0                   Walmart     1    485873             0.8  13643.0  198825   \n",
       "1                State Grid     2    315199            -4.4   9571.3  489838   \n",
       "2             Sinopec Group     3    267518            -9.1   1257.9  310726   \n",
       "3  China National Petroleum     4    262573           -12.3   1867.5  585619   \n",
       "4              Toyota Motor     5    254694             7.7  16899.3  437575   \n",
       "\n",
       "   profit_change                  ceo                  industry  \\\n",
       "0           -7.2  C. Douglas McMillon     General Merchandisers   \n",
       "1           -6.2              Kou Wei                 Utilities   \n",
       "2          -65.0            Wang Yupu        Petroleum Refining   \n",
       "3          -73.7        Zhang Jianhua        Petroleum Refining   \n",
       "4          -12.3          Akio Toyoda  Motor Vehicles and Parts   \n",
       "\n",
       "                   sector  previous_rank country      hq_location  \\\n",
       "0               Retailing              1     USA  Bentonville, AR   \n",
       "1                  Energy              2   China   Beijing, China   \n",
       "2                  Energy              4   China   Beijing, China   \n",
       "3                  Energy              3   China   Beijing, China   \n",
       "4  Motor Vehicles & Parts              8   Japan    Toyota, Japan   \n",
       "\n",
       "                        website  years_on_global_500_list  employees  \\\n",
       "0        http://www.walmart.com                        23    2300000   \n",
       "1        http://www.sgcc.com.cn                        17     926067   \n",
       "2        http://www.sinopec.com                        19     713288   \n",
       "3        http://www.cnpc.com.cn                        17    1512048   \n",
       "4  http://www.toyota-global.com                        23     364445   \n",
       "\n",
       "   total_stockholder_equity  \n",
       "0                     77798  \n",
       "1                    209456  \n",
       "2                    106523  \n",
       "3                    301893  \n",
       "4                    157210  "
      ]
     },
     "execution_count": 7,
     "metadata": {},
     "output_type": "execute_result"
    }
   ],
   "source": [
    "dataset_loc = 'D:/Dataquest/Dataquest 2022 Learning/Datasets/'\n",
    "f500 = pd.read_csv(dataset_loc + 'f500.csv')\n",
    "f500.head()\n"
   ]
  },
  {
   "cell_type": "code",
   "execution_count": 8,
   "metadata": {},
   "outputs": [
    {
     "name": "stdout",
     "output_type": "stream",
     "text": [
      "<class 'pandas.core.frame.DataFrame'>\n",
      "RangeIndex: 500 entries, 0 to 499\n",
      "Data columns (total 17 columns):\n",
      "company                     500 non-null object\n",
      "rank                        500 non-null int64\n",
      "revenues                    500 non-null int64\n",
      "revenue_change              498 non-null float64\n",
      "profits                     499 non-null float64\n",
      "assets                      500 non-null int64\n",
      "profit_change               436 non-null float64\n",
      "ceo                         500 non-null object\n",
      "industry                    500 non-null object\n",
      "sector                      500 non-null object\n",
      "previous_rank               500 non-null int64\n",
      "country                     500 non-null object\n",
      "hq_location                 500 non-null object\n",
      "website                     500 non-null object\n",
      "years_on_global_500_list    500 non-null int64\n",
      "employees                   500 non-null int64\n",
      "total_stockholder_equity    500 non-null int64\n",
      "dtypes: float64(3), int64(7), object(7)\n",
      "memory usage: 66.5+ KB\n"
     ]
    }
   ],
   "source": [
    "f500.info()"
   ]
  },
  {
   "cell_type": "code",
   "execution_count": 12,
   "metadata": {
    "scrolled": true
   },
   "outputs": [
    {
     "data": {
      "text/plain": [
       "0    0\n",
       "1    0\n",
       "2   -1\n",
       "3    1\n",
       "4   -3\n",
       "dtype: int64"
      ]
     },
     "execution_count": 12,
     "metadata": {},
     "output_type": "execute_result"
    }
   ],
   "source": [
    "rank_change = f500['rank']-f500['previous_rank']\n",
    "rank_change.head()"
   ]
  },
  {
   "cell_type": "markdown",
   "metadata": {},
   "source": [
    "Like **NumPy**, **pandas** supports many descriptive stats methods that can help us answer these questions. Here are a few of the most useful ones (with links to documentation):\n",
    "- Series.max()    and  DataFrame.max()\n",
    "- Series.min()    and  DataFrame.min()\n",
    "- Series.mean()   and  DataFrame.mean()\n",
    "- Series.median()  and  DataFrame.median()\n",
    "- Series.mode()   and  DataFrame.mode()\n",
    "- Series.sum()    and  DataFrame.sum()\n",
    "\n",
    "**Series.describe()** method. This method tells us how many non-null values are contained in the series, along with the mean, minimum, maximum, and other statistics we'll learn about later in this path."
   ]
  },
  {
   "cell_type": "code",
   "execution_count": 13,
   "metadata": {},
   "outputs": [
    {
     "data": {
      "text/plain": [
       "count    500.000000\n",
       "mean      28.366000\n",
       "std      108.602823\n",
       "min     -226.000000\n",
       "25%       -8.250000\n",
       "50%        4.000000\n",
       "75%       28.250000\n",
       "max      500.000000\n",
       "dtype: float64"
      ]
     },
     "execution_count": 13,
     "metadata": {},
     "output_type": "execute_result"
    }
   ],
   "source": [
    "rank_change.describe()"
   ]
  },
  {
   "cell_type": "code",
   "execution_count": 14,
   "metadata": {},
   "outputs": [
    {
     "data": {
      "text/plain": [
       "count     500\n",
       "unique     34\n",
       "top       USA\n",
       "freq      132\n",
       "Name: country, dtype: object"
      ]
     },
     "execution_count": 14,
     "metadata": {},
     "output_type": "execute_result"
    }
   ],
   "source": [
    "# If we use describe() on a column that contains non-numeric values, we get some different statistics. Let's look at an example\n",
    "f500['country'].describe()"
   ]
  },
  {
   "cell_type": "code",
   "execution_count": 18,
   "metadata": {},
   "outputs": [
    {
     "data": {
      "text/plain": [
       "109"
      ]
     },
     "execution_count": 18,
     "metadata": {},
     "output_type": "execute_result"
    }
   ],
   "source": [
    "f500['country'].value_counts().loc['China']"
   ]
  },
  {
   "cell_type": "code",
   "execution_count": 22,
   "metadata": {},
   "outputs": [
    {
     "data": {
      "text/plain": [
       "33"
      ]
     },
     "execution_count": 22,
     "metadata": {},
     "output_type": "execute_result"
    }
   ],
   "source": [
    "# Use Series.value_counts() and Series.loc to return the number of companies with a value of 0 \n",
    "# in the previous_rank column in the f500 dataframe. Assign the results to zero_previous_rank.\n",
    "prev_rank = f500['previous_rank']\n",
    "prev_rank.value_counts().loc[0]"
   ]
  },
  {
   "cell_type": "markdown",
   "metadata": {},
   "source": [
    "Unlike their series counterparts, dataframe methods require an axis parameter so we know which axis to calculate across. While you can use integers to refer to the first and second axis, pandas dataframe methods also accept the strings **\"index\"** and **\"columns\"** for the axis parameter:\n",
    "![pandas-pic-1](https://raw.githubusercontent.com/tongNJ/Dataquest-Online-Courses-2022/main/Pictures/pandas-pic-1.PNG)"
   ]
  },
  {
   "cell_type": "code",
   "execution_count": 28,
   "metadata": {},
   "outputs": [
    {
     "data": {
      "text/plain": [
       "rank                            500.0\n",
       "revenues                     485873.0\n",
       "revenue_change                  442.3\n",
       "profits                       45687.0\n",
       "assets                      3473238.0\n",
       "profit_change                  8909.5\n",
       "previous_rank                   500.0\n",
       "years_on_global_500_list         23.0\n",
       "employees                   2300000.0\n",
       "total_stockholder_equity     301893.0\n",
       "dtype: float64"
      ]
     },
     "execution_count": 28,
     "metadata": {},
     "output_type": "execute_result"
    }
   ],
   "source": [
    "# max_f500 = f500.select_dtypes(include=['int64','float64']).max()\n",
    "max_f500 = f500.max(numeric_only=True)\n",
    "max_f500"
   ]
  },
  {
   "cell_type": "markdown",
   "metadata": {},
   "source": [
    "Next, let's use boolean indexing to identify companies belonging to the \"Motor Vehicles and Parts\" industry in our Fortune 500 dataset.\n",
    "1. Create a boolean series, **motor_bool**, that compares whether the values in the **industry** column from the **f500** dataframe are equal to **\"Motor Vehicles and Parts\"**.\n",
    "2. Use the **motor_bool** boolean series to index the **country** column. Assign the result to **motor_countries**."
   ]
  },
  {
   "cell_type": "code",
   "execution_count": 31,
   "metadata": {
    "scrolled": true
   },
   "outputs": [
    {
     "name": "stdout",
     "output_type": "stream",
     "text": [
      "4       Japan\n",
      "5     Germany\n",
      "16    Germany\n",
      "17        USA\n",
      "20        USA\n",
      "Name: country, dtype: object\n",
      "(34,)\n"
     ]
    }
   ],
   "source": [
    "motor_bool = f500['industry']=='Motor Vehicles and Parts'\n",
    "motor_countries = f500.loc[motor_bool,'country']\n",
    "print(motor_countries.head())\n",
    "print(motor_countries.shape)"
   ]
  },
  {
   "cell_type": "code",
   "execution_count": 36,
   "metadata": {},
   "outputs": [
    {
     "data": {
      "text/plain": [
       "0      33\n",
       "159     1\n",
       "147     1\n",
       "148     1\n",
       "149     1\n",
       "Name: previous_rank, dtype: int64"
      ]
     },
     "execution_count": 36,
     "metadata": {},
     "output_type": "execute_result"
    }
   ],
   "source": [
    "prev_rank_before = f500[\"previous_rank\"].value_counts(dropna=False).head()\n",
    "prev_rank_before"
   ]
  },
  {
   "cell_type": "code",
   "execution_count": 37,
   "metadata": {},
   "outputs": [
    {
     "data": {
      "text/plain": [
       "NaN      33\n",
       "471.0     1\n",
       "234.0     1\n",
       "125.0     1\n",
       "166.0     1\n",
       "Name: previous_rank, dtype: int64"
      ]
     },
     "execution_count": 37,
     "metadata": {},
     "output_type": "execute_result"
    }
   ],
   "source": [
    "f500.loc[f500['previous_rank']==0,'previous_rank'] = np.nan\n",
    "prev_rank_after = f500['previous_rank'].value_counts(dropna=False).head()\n",
    "prev_rank_after"
   ]
  },
  {
   "cell_type": "code",
   "execution_count": 38,
   "metadata": {},
   "outputs": [
    {
     "data": {
      "text/plain": [
       "count    467.000000\n",
       "mean      -3.533191\n",
       "std       44.293603\n",
       "min     -199.000000\n",
       "25%      -21.000000\n",
       "50%       -2.000000\n",
       "75%       10.000000\n",
       "max      226.000000\n",
       "Name: rank_change, dtype: float64"
      ]
     },
     "execution_count": 38,
     "metadata": {},
     "output_type": "execute_result"
    }
   ],
   "source": [
    "f500['rank_change'] = f500['previous_rank'] - f500['rank']\n",
    "rank_change_desc = f500['rank_change'].describe()\n",
    "rank_change_desc"
   ]
  },
  {
   "cell_type": "code",
   "execution_count": 45,
   "metadata": {},
   "outputs": [
    {
     "data": {
      "text/plain": [
       "Banks: Commercial and Savings               8\n",
       "Insurance: Property and Casualty (Stock)    7\n",
       "Name: industry, dtype: int64"
      ]
     },
     "execution_count": 45,
     "metadata": {},
     "output_type": "execute_result"
    }
   ],
   "source": [
    "# Create a series, industry_usa, containing counts of the two most common values in the industry \n",
    "# column for companies headquartered in the USA.\n",
    "industry_usa = f500.loc[f500['country']=='USA','industry'].value_counts().head(2)\n",
    "industry_usa"
   ]
  },
  {
   "cell_type": "code",
   "execution_count": 47,
   "metadata": {},
   "outputs": [
    {
     "data": {
      "text/plain": [
       "Financials     25\n",
       "Energy         22\n",
       "Wholesalers     9\n",
       "Name: sector, dtype: int64"
      ]
     },
     "execution_count": 47,
     "metadata": {},
     "output_type": "execute_result"
    }
   ],
   "source": [
    "# Create a series, sector_china, containing counts of the three most common values in the sector column f\n",
    "# or companies headquartered in the China.\n",
    "sector_china = f500.loc[f500['country']=='China','sector'].value_counts().head(3)\n",
    "sector_china"
   ]
  },
  {
   "cell_type": "markdown",
   "metadata": {},
   "source": [
    "The table below summarizes how we can use **DataFrame.iloc[]** and **Series.iloc[]** to select by integer position:\n",
    "![pandas-pic-2](https://raw.githubusercontent.com/tongNJ/Dataquest-Online-Courses-2022/main/Pictures/pandas-pic-2.PNG)"
   ]
  },
  {
   "cell_type": "markdown",
   "metadata": {},
   "source": [
    "There are also a number of pandas methods that return boolean masks useful for exploring data.\n",
    "Two examples are the **Series.isnull()** method and **Series.notnull()** method. These can be used to select either rows that contain null (or NaN) values or rows that do not contain null values for a certain column.\n",
    "\n"
   ]
  },
  {
   "cell_type": "code",
   "execution_count": 49,
   "metadata": {
    "scrolled": true
   },
   "outputs": [
    {
     "data": {
      "text/plain": [
       "0    False\n",
       "1    False\n",
       "2    False\n",
       "3    False\n",
       "4    False\n",
       "Name: revenue_change, dtype: bool"
      ]
     },
     "execution_count": 49,
     "metadata": {},
     "output_type": "execute_result"
    }
   ],
   "source": [
    "f500[\"revenue_change\"].isnull().head()"
   ]
  },
  {
   "cell_type": "code",
   "execution_count": 51,
   "metadata": {},
   "outputs": [
    {
     "data": {
      "text/plain": [
       "(467, 18)"
      ]
     },
     "execution_count": 51,
     "metadata": {},
     "output_type": "execute_result"
    }
   ],
   "source": [
    "f500[f500['previous_rank'].notnull()].shape"
   ]
  },
  {
   "cell_type": "markdown",
   "metadata": {},
   "source": [
    "## The pandas library will align on index at every opportunity, no matter if our index labels are strings or integers - this makes working with data from different sources or working with data when we have removed, added, or reordered rows much easier than it would be otherwise."
   ]
  },
  {
   "cell_type": "code",
   "execution_count": 53,
   "metadata": {},
   "outputs": [
    {
     "name": "stdout",
     "output_type": "stream",
     "text": [
      "(467,)\n"
     ]
    }
   ],
   "source": [
    "previously_ranked = f500[f500[\"previous_rank\"].notnull()]\n",
    "rank_change = previously_ranked[\"previous_rank\"] - previously_ranked[\"rank\"]\n",
    "print(rank_change.shape)"
   ]
  },
  {
   "cell_type": "code",
   "execution_count": 54,
   "metadata": {},
   "outputs": [
    {
     "data": {
      "text/plain": [
       "0       0.0\n",
       "1       0.0\n",
       "2       1.0\n",
       "3      -1.0\n",
       "4       3.0\n",
       "       ... \n",
       "490   -20.0\n",
       "492   -89.0\n",
       "496   -70.0\n",
       "497   -61.0\n",
       "498   -32.0\n",
       "Length: 467, dtype: float64"
      ]
     },
     "execution_count": 54,
     "metadata": {},
     "output_type": "execute_result"
    }
   ],
   "source": [
    "rank_change"
   ]
  },
  {
   "cell_type": "code",
   "execution_count": 55,
   "metadata": {},
   "outputs": [
    {
     "data": {
      "text/html": [
       "<div>\n",
       "<style scoped>\n",
       "    .dataframe tbody tr th:only-of-type {\n",
       "        vertical-align: middle;\n",
       "    }\n",
       "\n",
       "    .dataframe tbody tr th {\n",
       "        vertical-align: top;\n",
       "    }\n",
       "\n",
       "    .dataframe thead th {\n",
       "        text-align: right;\n",
       "    }\n",
       "</style>\n",
       "<table border=\"1\" class=\"dataframe\">\n",
       "  <thead>\n",
       "    <tr style=\"text-align: right;\">\n",
       "      <th></th>\n",
       "      <th>company</th>\n",
       "      <th>rank</th>\n",
       "      <th>revenues</th>\n",
       "      <th>revenue_change</th>\n",
       "      <th>profits</th>\n",
       "      <th>assets</th>\n",
       "      <th>profit_change</th>\n",
       "      <th>ceo</th>\n",
       "      <th>industry</th>\n",
       "      <th>sector</th>\n",
       "      <th>previous_rank</th>\n",
       "      <th>country</th>\n",
       "      <th>hq_location</th>\n",
       "      <th>website</th>\n",
       "      <th>years_on_global_500_list</th>\n",
       "      <th>employees</th>\n",
       "      <th>total_stockholder_equity</th>\n",
       "      <th>rank_change</th>\n",
       "    </tr>\n",
       "  </thead>\n",
       "  <tbody>\n",
       "    <tr>\n",
       "      <td>490</td>\n",
       "      <td>National Grid</td>\n",
       "      <td>491</td>\n",
       "      <td>22036</td>\n",
       "      <td>-3.2</td>\n",
       "      <td>10150.6</td>\n",
       "      <td>82310</td>\n",
       "      <td>160.2</td>\n",
       "      <td>John Pettigrew</td>\n",
       "      <td>Utilities</td>\n",
       "      <td>Energy</td>\n",
       "      <td>471.0</td>\n",
       "      <td>Britain</td>\n",
       "      <td>London, Britain</td>\n",
       "      <td>http://www.nationalgrid.com</td>\n",
       "      <td>12</td>\n",
       "      <td>22132</td>\n",
       "      <td>25463</td>\n",
       "      <td>-20.0</td>\n",
       "    </tr>\n",
       "    <tr>\n",
       "      <td>491</td>\n",
       "      <td>Dollar General</td>\n",
       "      <td>492</td>\n",
       "      <td>21987</td>\n",
       "      <td>7.9</td>\n",
       "      <td>1251.1</td>\n",
       "      <td>11672</td>\n",
       "      <td>7.4</td>\n",
       "      <td>Todd J. Vasos</td>\n",
       "      <td>Specialty Retailers</td>\n",
       "      <td>Retailing</td>\n",
       "      <td>NaN</td>\n",
       "      <td>USA</td>\n",
       "      <td>Goodlettsville, TN</td>\n",
       "      <td>http://www.dollargeneral.com</td>\n",
       "      <td>1</td>\n",
       "      <td>121000</td>\n",
       "      <td>5406</td>\n",
       "      <td>NaN</td>\n",
       "    </tr>\n",
       "    <tr>\n",
       "      <td>492</td>\n",
       "      <td>Telecom Italia</td>\n",
       "      <td>493</td>\n",
       "      <td>21941</td>\n",
       "      <td>-17.4</td>\n",
       "      <td>1999.4</td>\n",
       "      <td>74295</td>\n",
       "      <td>NaN</td>\n",
       "      <td>Flavio Cattaneo</td>\n",
       "      <td>Telecommunications</td>\n",
       "      <td>Telecommunications</td>\n",
       "      <td>404.0</td>\n",
       "      <td>Italy</td>\n",
       "      <td>Milan, Italy</td>\n",
       "      <td>http://www.telecomitalia.com</td>\n",
       "      <td>18</td>\n",
       "      <td>61227</td>\n",
       "      <td>22366</td>\n",
       "      <td>-89.0</td>\n",
       "    </tr>\n",
       "    <tr>\n",
       "      <td>493</td>\n",
       "      <td>Xiamen ITG Holding Group</td>\n",
       "      <td>494</td>\n",
       "      <td>21930</td>\n",
       "      <td>34.3</td>\n",
       "      <td>35.6</td>\n",
       "      <td>12161</td>\n",
       "      <td>-25.1</td>\n",
       "      <td>Xu Xiaoxi</td>\n",
       "      <td>Trading</td>\n",
       "      <td>Wholesalers</td>\n",
       "      <td>NaN</td>\n",
       "      <td>China</td>\n",
       "      <td>Xiamen, China</td>\n",
       "      <td>http://www.itgholding.com.cn</td>\n",
       "      <td>1</td>\n",
       "      <td>18454</td>\n",
       "      <td>1066</td>\n",
       "      <td>NaN</td>\n",
       "    </tr>\n",
       "    <tr>\n",
       "      <td>494</td>\n",
       "      <td>Xinjiang Guanghui Industry Investment</td>\n",
       "      <td>495</td>\n",
       "      <td>21919</td>\n",
       "      <td>31.1</td>\n",
       "      <td>251.8</td>\n",
       "      <td>31957</td>\n",
       "      <td>49.9</td>\n",
       "      <td>Shang Jiqiang</td>\n",
       "      <td>Trading</td>\n",
       "      <td>Wholesalers</td>\n",
       "      <td>NaN</td>\n",
       "      <td>China</td>\n",
       "      <td>Urumqi, China</td>\n",
       "      <td>http://www.guanghui.com</td>\n",
       "      <td>1</td>\n",
       "      <td>65616</td>\n",
       "      <td>4563</td>\n",
       "      <td>NaN</td>\n",
       "    </tr>\n",
       "    <tr>\n",
       "      <td>495</td>\n",
       "      <td>Teva Pharmaceutical Industries</td>\n",
       "      <td>496</td>\n",
       "      <td>21903</td>\n",
       "      <td>11.5</td>\n",
       "      <td>329.0</td>\n",
       "      <td>92890</td>\n",
       "      <td>-79.3</td>\n",
       "      <td>Yitzhak Peterburg</td>\n",
       "      <td>Pharmaceuticals</td>\n",
       "      <td>Health Care</td>\n",
       "      <td>NaN</td>\n",
       "      <td>Israel</td>\n",
       "      <td>Petach Tikva, Israel</td>\n",
       "      <td>http://www.tevapharm.com</td>\n",
       "      <td>1</td>\n",
       "      <td>56960</td>\n",
       "      <td>33337</td>\n",
       "      <td>NaN</td>\n",
       "    </tr>\n",
       "    <tr>\n",
       "      <td>496</td>\n",
       "      <td>New China Life Insurance</td>\n",
       "      <td>497</td>\n",
       "      <td>21796</td>\n",
       "      <td>-13.3</td>\n",
       "      <td>743.9</td>\n",
       "      <td>100609</td>\n",
       "      <td>-45.6</td>\n",
       "      <td>Wan Feng</td>\n",
       "      <td>Insurance: Life, Health (stock)</td>\n",
       "      <td>Financials</td>\n",
       "      <td>427.0</td>\n",
       "      <td>China</td>\n",
       "      <td>Beijing, China</td>\n",
       "      <td>http://www.newchinalife.com</td>\n",
       "      <td>2</td>\n",
       "      <td>54378</td>\n",
       "      <td>8507</td>\n",
       "      <td>-70.0</td>\n",
       "    </tr>\n",
       "    <tr>\n",
       "      <td>497</td>\n",
       "      <td>Wm. Morrison Supermarkets</td>\n",
       "      <td>498</td>\n",
       "      <td>21741</td>\n",
       "      <td>-11.3</td>\n",
       "      <td>406.4</td>\n",
       "      <td>11630</td>\n",
       "      <td>20.4</td>\n",
       "      <td>David T. Potts</td>\n",
       "      <td>Food and Drug Stores</td>\n",
       "      <td>Food &amp; Drug Stores</td>\n",
       "      <td>437.0</td>\n",
       "      <td>Britain</td>\n",
       "      <td>Bradford, Britain</td>\n",
       "      <td>http://www.morrisons.com</td>\n",
       "      <td>13</td>\n",
       "      <td>77210</td>\n",
       "      <td>5111</td>\n",
       "      <td>-61.0</td>\n",
       "    </tr>\n",
       "    <tr>\n",
       "      <td>498</td>\n",
       "      <td>TUI</td>\n",
       "      <td>499</td>\n",
       "      <td>21655</td>\n",
       "      <td>-5.5</td>\n",
       "      <td>1151.7</td>\n",
       "      <td>16247</td>\n",
       "      <td>195.5</td>\n",
       "      <td>Friedrich Joussen</td>\n",
       "      <td>Travel Services</td>\n",
       "      <td>Business Services</td>\n",
       "      <td>467.0</td>\n",
       "      <td>Germany</td>\n",
       "      <td>Hanover, Germany</td>\n",
       "      <td>http://www.tuigroup.com</td>\n",
       "      <td>23</td>\n",
       "      <td>66779</td>\n",
       "      <td>3006</td>\n",
       "      <td>-32.0</td>\n",
       "    </tr>\n",
       "    <tr>\n",
       "      <td>499</td>\n",
       "      <td>AutoNation</td>\n",
       "      <td>500</td>\n",
       "      <td>21609</td>\n",
       "      <td>3.6</td>\n",
       "      <td>430.5</td>\n",
       "      <td>10060</td>\n",
       "      <td>-2.7</td>\n",
       "      <td>Michael J. Jackson</td>\n",
       "      <td>Specialty Retailers</td>\n",
       "      <td>Retailing</td>\n",
       "      <td>NaN</td>\n",
       "      <td>USA</td>\n",
       "      <td>Fort Lauderdale, FL</td>\n",
       "      <td>http://www.autonation.com</td>\n",
       "      <td>12</td>\n",
       "      <td>26000</td>\n",
       "      <td>2310</td>\n",
       "      <td>NaN</td>\n",
       "    </tr>\n",
       "  </tbody>\n",
       "</table>\n",
       "</div>"
      ],
      "text/plain": [
       "                                   company  rank  revenues  revenue_change  \\\n",
       "490                          National Grid   491     22036            -3.2   \n",
       "491                         Dollar General   492     21987             7.9   \n",
       "492                         Telecom Italia   493     21941           -17.4   \n",
       "493               Xiamen ITG Holding Group   494     21930            34.3   \n",
       "494  Xinjiang Guanghui Industry Investment   495     21919            31.1   \n",
       "495         Teva Pharmaceutical Industries   496     21903            11.5   \n",
       "496               New China Life Insurance   497     21796           -13.3   \n",
       "497              Wm. Morrison Supermarkets   498     21741           -11.3   \n",
       "498                                    TUI   499     21655            -5.5   \n",
       "499                             AutoNation   500     21609             3.6   \n",
       "\n",
       "     profits  assets  profit_change                 ceo  \\\n",
       "490  10150.6   82310          160.2      John Pettigrew   \n",
       "491   1251.1   11672            7.4       Todd J. Vasos   \n",
       "492   1999.4   74295            NaN     Flavio Cattaneo   \n",
       "493     35.6   12161          -25.1           Xu Xiaoxi   \n",
       "494    251.8   31957           49.9       Shang Jiqiang   \n",
       "495    329.0   92890          -79.3   Yitzhak Peterburg   \n",
       "496    743.9  100609          -45.6            Wan Feng   \n",
       "497    406.4   11630           20.4      David T. Potts   \n",
       "498   1151.7   16247          195.5   Friedrich Joussen   \n",
       "499    430.5   10060           -2.7  Michael J. Jackson   \n",
       "\n",
       "                            industry              sector  previous_rank  \\\n",
       "490                        Utilities              Energy          471.0   \n",
       "491              Specialty Retailers           Retailing            NaN   \n",
       "492               Telecommunications  Telecommunications          404.0   \n",
       "493                          Trading         Wholesalers            NaN   \n",
       "494                          Trading         Wholesalers            NaN   \n",
       "495                  Pharmaceuticals         Health Care            NaN   \n",
       "496  Insurance: Life, Health (stock)          Financials          427.0   \n",
       "497             Food and Drug Stores  Food & Drug Stores          437.0   \n",
       "498                  Travel Services   Business Services          467.0   \n",
       "499              Specialty Retailers           Retailing            NaN   \n",
       "\n",
       "     country           hq_location                       website  \\\n",
       "490  Britain       London, Britain   http://www.nationalgrid.com   \n",
       "491      USA    Goodlettsville, TN  http://www.dollargeneral.com   \n",
       "492    Italy          Milan, Italy  http://www.telecomitalia.com   \n",
       "493    China         Xiamen, China  http://www.itgholding.com.cn   \n",
       "494    China         Urumqi, China       http://www.guanghui.com   \n",
       "495   Israel  Petach Tikva, Israel      http://www.tevapharm.com   \n",
       "496    China        Beijing, China   http://www.newchinalife.com   \n",
       "497  Britain     Bradford, Britain      http://www.morrisons.com   \n",
       "498  Germany      Hanover, Germany       http://www.tuigroup.com   \n",
       "499      USA   Fort Lauderdale, FL     http://www.autonation.com   \n",
       "\n",
       "     years_on_global_500_list  employees  total_stockholder_equity  \\\n",
       "490                        12      22132                     25463   \n",
       "491                         1     121000                      5406   \n",
       "492                        18      61227                     22366   \n",
       "493                         1      18454                      1066   \n",
       "494                         1      65616                      4563   \n",
       "495                         1      56960                     33337   \n",
       "496                         2      54378                      8507   \n",
       "497                        13      77210                      5111   \n",
       "498                        23      66779                      3006   \n",
       "499                        12      26000                      2310   \n",
       "\n",
       "     rank_change  \n",
       "490        -20.0  \n",
       "491          NaN  \n",
       "492        -89.0  \n",
       "493          NaN  \n",
       "494          NaN  \n",
       "495          NaN  \n",
       "496        -70.0  \n",
       "497        -61.0  \n",
       "498        -32.0  \n",
       "499          NaN  "
      ]
     },
     "execution_count": 55,
     "metadata": {},
     "output_type": "execute_result"
    }
   ],
   "source": [
    "f500[\"rank_change\"] = rank_change\n",
    "f500.tail(10)"
   ]
  },
  {
   "cell_type": "code",
   "execution_count": null,
   "metadata": {},
   "outputs": [],
   "source": []
  }
 ],
 "metadata": {
  "kernelspec": {
   "display_name": "Python 3",
   "language": "python",
   "name": "python3"
  },
  "language_info": {
   "codemirror_mode": {
    "name": "ipython",
    "version": 3
   },
   "file_extension": ".py",
   "mimetype": "text/x-python",
   "name": "python",
   "nbconvert_exporter": "python",
   "pygments_lexer": "ipython3",
   "version": "3.7.3"
  }
 },
 "nbformat": 4,
 "nbformat_minor": 2
}
