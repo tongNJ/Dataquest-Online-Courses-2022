{
 "cells": [
  {
   "cell_type": "markdown",
   "id": "b120e36f",
   "metadata": {},
   "source": [
    "\n",
    "In the last lesson, we continued learning about conditional probability and focused on subjects like the multiplication rule, the order of conditioning, and statistical independence. Next, we'll learn about Bayes' theorem, which is a central topic in probability.\n",
    "\n",
    "We begin with clarifying an important distinction between independence and exclusivity. We learned in the previous lesson that two events A and B are independent if the occurrence of one doesn't change the probability of the other. In mathematical terms, we've seen A and B are independent if any of the conditions below are true:\n",
    "\n",
    "\n",
    "P(A) = P(A|B)\n",
    "\n",
    "P(B) = P(B|A)\n",
    "\n",
    "P(A∩B) = P(A) ⋅ P(B)\n",
    "\n",
    "In the previous course, we learned that two events — A and B — are mutually exclusive if they cannot occur both at the same time. If one event happens, the other cannot possibly happen anymore, and vice-versa. Examples of mutually exclusive events include:\n",
    "\n",
    "- Getting a 5 (event A) and getting a 3 (event B) when we roll a regular six-sided die — it's impossible to get both a 5 and a 3.\n",
    "\n",
    "\n",
    "- A coin lands on heads (event A) and tails (event B) — it's impossible to flip a coin and see it landing on both heads and tails.\n",
    "\n",
    "If two events A and B are mutually exclusive, then it's impossible that they both occur, which means (A ∩ B) is an impossible event (and the probability of impossible events is always 0).\n",
    "\n",
    "\n",
    "![probability-pic-14](https://raw.githubusercontent.com/tongNJ/Dataquest-Online-Courses-2022/main/Pictures/probability-pic-14.png)\n",
    "\n",
    "\n",
    "![probability-pic-15](https://raw.githubusercontent.com/tongNJ/Dataquest-Online-Courses-2022/main/Pictures/probability-pic-15.png)\n",
    "\n",
    "![probability-pic-16](https://raw.githubusercontent.com/tongNJ/Dataquest-Online-Courses-2022/main/Pictures/probability-pic-16.png)\n",
    "\n",
    "![probability-pic-17](https://raw.githubusercontent.com/tongNJ/Dataquest-Online-Courses-2022/main/Pictures/probability-pic-15.png)\n",
    "\n",
    "\n",
    "![probability-pic-18](https://raw.githubusercontent.com/tongNJ/Dataquest-Online-Courses-2022/main/Pictures/probability-pic-18.png)"
   ]
  },
  {
   "cell_type": "code",
   "execution_count": null,
   "id": "f615611c",
   "metadata": {},
   "outputs": [],
   "source": []
  },
  {
   "cell_type": "code",
   "execution_count": 2,
   "id": "a7a26b1e",
   "metadata": {},
   "outputs": [],
   "source": [
    "import pandas as pd\n",
    "import numpy as np\n",
    "import matplotlib.pyplot as plt"
   ]
  },
  {
   "cell_type": "code",
   "execution_count": null,
   "id": "c8bbb58b",
   "metadata": {},
   "outputs": [],
   "source": []
  },
  {
   "cell_type": "code",
   "execution_count": null,
   "id": "ac95e9b7",
   "metadata": {},
   "outputs": [],
   "source": []
  }
 ],
 "metadata": {
  "kernelspec": {
   "display_name": "Python 3 (ipykernel)",
   "language": "python",
   "name": "python3"
  },
  "language_info": {
   "codemirror_mode": {
    "name": "ipython",
    "version": 3
   },
   "file_extension": ".py",
   "mimetype": "text/x-python",
   "name": "python",
   "nbconvert_exporter": "python",
   "pygments_lexer": "ipython3",
   "version": "3.8.12"
  }
 },
 "nbformat": 4,
 "nbformat_minor": 5
}
