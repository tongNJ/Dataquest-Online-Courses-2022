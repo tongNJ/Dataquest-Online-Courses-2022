{
 "cells": [
  {
   "cell_type": "markdown",
   "id": "b120e36f",
   "metadata": {},
   "source": [
    "\n",
    "In the last lesson, we continued learning about conditional probability and focused on subjects like the multiplication rule, the order of conditioning, and statistical independence. Next, we'll learn about Bayes' theorem, which is a central topic in probability.\n",
    "\n",
    "We begin with clarifying an important distinction between independence and exclusivity. We learned in the previous lesson that two events A and B are independent if the occurrence of one doesn't change the probability of the other. In mathematical terms, we've seen A and B are independent if any of the conditions below are true:\n",
    "\n",
    "\n",
    "P(A) = P(A|B)\n",
    "\n",
    "P(B) = P(B|A)\n",
    "\n",
    "P(A∩B) = P(A) ⋅ P(B)\n",
    "\n",
    "In the previous course, we learned that two events — A and B — are mutually exclusive if they cannot occur both at the same time. If one event happens, the other cannot possibly happen anymore, and vice-versa. Examples of mutually exclusive events include:\n",
    "\n",
    "- Getting a 5 (event A) and getting a 3 (event B) when we roll a regular six-sided die — it's impossible to get both a 5 and a 3.\n",
    "\n",
    "\n",
    "- A coin lands on heads (event A) and tails (event B) — it's impossible to flip a coin and see it landing on both heads and tails.\n",
    "\n",
    "If two events A and B are mutually exclusive, then it's impossible that they both occur, which means (A ∩ B) is an impossible event (and the probability of impossible events is always 0).\n",
    "\n",
    "\n",
    "![probability-pic-14](https://raw.githubusercontent.com/tongNJ/Dataquest-Online-Courses-2022/main/Pictures/probability-pic-14.png)\n",
    "\n",
    "\n",
    "![probability-pic-15](https://raw.githubusercontent.com/tongNJ/Dataquest-Online-Courses-2022/main/Pictures/probability-pic-15.png)\n",
    "\n",
    "![probability-pic-16](https://raw.githubusercontent.com/tongNJ/Dataquest-Online-Courses-2022/main/Pictures/probability-pic-16.png)\n",
    "\n",
    "![probability-pic-17](https://raw.githubusercontent.com/tongNJ/Dataquest-Online-Courses-2022/main/Pictures/probability-pic-15.png)\n",
    "\n",
    "\n",
    "![probability-pic-18](https://raw.githubusercontent.com/tongNJ/Dataquest-Online-Courses-2022/main/Pictures/probability-pic-18.png)\n",
    "\n",
    "\n",
    "![probability-pic-19](https://raw.githubusercontent.com/tongNJ/Dataquest-Online-Courses-2022/main/Pictures/probability-pic-19.png)"
   ]
  },
  {
   "cell_type": "code",
   "execution_count": null,
   "id": "f615611c",
   "metadata": {},
   "outputs": [],
   "source": []
  },
  {
   "cell_type": "code",
   "execution_count": 2,
   "id": "a7a26b1e",
   "metadata": {},
   "outputs": [],
   "source": [
    "import pandas as pd\n",
    "import numpy as np\n",
    "import matplotlib.pyplot as plt"
   ]
  },
  {
   "cell_type": "markdown",
   "id": "d85c95ef",
   "metadata": {},
   "source": [
    "### Test\n",
    "\n",
    "An airline transports passengers using two types of planes: a Boeing 737 and an Airbus A320.\n",
    "\n",
    "The Boeing operates 73% of the flights. Out of these flights, 3% arrive at the destination with a delay.\n",
    "The Airbus operates the remaining 27% of the flights. Out of these flights, 8% arrive with a delay.\n",
    "Convert the percentages above to probabilities:\n",
    "\n",
    "- Assign the probability of flying with a Boeing to p_boeing (to better understand what this probability means, imagine a passenger having bought a ticket with this airline — what's the probability that this passenger will be assigned to fly to her destination with a Boeing?).\n",
    "\n",
    "\n",
    "- Assign the probability of flying with an Airbus to p_airbus.\n",
    "\n",
    "\n",
    "- Assign the probability of arriving at the destination with a delay given that the passenger flies with a Boeing to p_delay_given_boeing.\n",
    "\n",
    "\n",
    "- Assign the probability of arriving at the destination with a delay given that the passenger flies with an Airbus to p_delay_given_airbus.\n",
    "\n",
    "\n",
    "Calculate:\n",
    "\n",
    "    The probability that a passenger will arrive at her destination with a delay. Assign your answer to p_delay. Check the hint if you get stuck."
   ]
  },
  {
   "cell_type": "code",
   "execution_count": 2,
   "id": "d04d1317",
   "metadata": {},
   "outputs": [
    {
     "name": "stdout",
     "output_type": "stream",
     "text": [
      "0.0435\n"
     ]
    }
   ],
   "source": [
    "p_boeing = 0.73\n",
    "p_airbus = 0.27\n",
    "p_delay_given_boeing = 0.03\n",
    "p_delay_given_airbus = 0.08\n",
    "\n",
    "#P(D) = P(boeing ∩ D) + P(airbus ∩ D)\n",
    "\n",
    "p_delay_and_boeing = p_boeing * p_delay_given_boeing\n",
    "p_delay_and_airbus = p_airbus * p_delay_given_airbus\n",
    "\n",
    "p_delay = p_delay_and_boeing + p_delay_and_airbus\n",
    "\n",
    "print(p_delay)"
   ]
  },
  {
   "cell_type": "markdown",
   "id": "52b5978c",
   "metadata": {},
   "source": [
    "## Using the same approach, we can also calculate the probability of an event given more than two or more mutually exclusive and exhaustive event.\n",
    "\n",
    "![probability-pic-20](https://raw.githubusercontent.com/tongNJ/Dataquest-Online-Courses-2022/main/Pictures/probability-pic-20.png)\n",
    "\n",
    "\n",
    "![probability-pic-21](https://raw.githubusercontent.com/tongNJ/Dataquest-Online-Courses-2022/main/Pictures/probability-pic-21.png)\n",
    "\n",
    "\n",
    "![probability-pic-22](https://raw.githubusercontent.com/tongNJ/Dataquest-Online-Courses-2022/main/Pictures/probability-pic-22.png)\n",
    "\n",
    "\n",
    "![probability-pic-23](https://raw.githubusercontent.com/tongNJ/Dataquest-Online-Courses-2022/main/Pictures/probability-pic-23.png)\n",
    "\n",
    "\n"
   ]
  },
  {
   "cell_type": "markdown",
   "id": "fccf44cb",
   "metadata": {},
   "source": [
    "## Test\n",
    "\n",
    "Many spam emails contain the word \"secret\". However, some emails are not spam even though they contain the word \"secret\". Let's say we know the following probabilities:\n",
    "\n",
    "- The probability of getting a spam email is 23.88%. That is (Spam)=0.2388.\n",
    "\n",
    "\n",
    "- The probability of an email containing the word \"secret\" given that the email is spam is 48.02%. That is P(\"secret\"|Spam)=0.4802.\n",
    "\n",
    "\n",
    "- The probability of an email containing the word \"secret\" given that the email is not spam is 12.84%. That is P(\"secret\"|SpamC)=0.1284.\n",
    "\n",
    "\n",
    "Use Bayes' theorem to find P(Spam|\"secret\"). Assign your answer to p_spam_given_secret.\n",
    "\n",
    "\n",
    "Assign the prior probability of getting a spam email to prior.\n",
    "\n",
    "\n",
    "Assign the posterior probability of getting a spam email (after we see the email contains the word \"secret\") to posterior.\n",
    "\n",
    "\n",
    "Calculate the ratio between the posterior and the prior probability — you'll need to divide the posterior probability by the prior probability. Assign your answer to ratio.\n",
    "\n"
   ]
  },
  {
   "cell_type": "code",
   "execution_count": 3,
   "id": "2ec823e5",
   "metadata": {},
   "outputs": [
    {
     "name": "stdout",
     "output_type": "stream",
     "text": [
      "P(Spam|secret) = 0.539860865202855\n",
      "the prior probability of getting a spam email is 0.2388\n",
      "the posterior probability of getting a spam email is 0.539860865202855\n"
     ]
    }
   ],
   "source": [
    "p_spam = 0.2388\n",
    "p_non_spam = 1-p_spam\n",
    "p_secret_given_spam = 0.4802\n",
    "p_secret_given_non_spam = 0.1284\n",
    "\n",
    "p_spam_given_secret = (p_spam*p_secret_given_spam)/(p_spam*p_secret_given_spam + p_non_spam*p_secret_given_non_spam)\n",
    "print(f'P(Spam|secret) = {p_spam_given_secret}')\n",
    "\n",
    "prior = 0.2388\n",
    "print(f'the prior probability of getting a spam email is {prior}')\n",
    "\n",
    "posterior = p_spam_given_secret\n",
    "print(f'the posterior probability of getting a spam email is {posterior}')\n"
   ]
  },
  {
   "cell_type": "code",
   "execution_count": null,
   "id": "5368a7a4",
   "metadata": {},
   "outputs": [],
   "source": []
  },
  {
   "cell_type": "code",
   "execution_count": null,
   "id": "ac95e9b7",
   "metadata": {},
   "outputs": [],
   "source": []
  }
 ],
 "metadata": {
  "kernelspec": {
   "display_name": "Python 3 (ipykernel)",
   "language": "python",
   "name": "python3"
  },
  "language_info": {
   "codemirror_mode": {
    "name": "ipython",
    "version": 3
   },
   "file_extension": ".py",
   "mimetype": "text/x-python",
   "name": "python",
   "nbconvert_exporter": "python",
   "pygments_lexer": "ipython3",
   "version": "3.8.12"
  }
 },
 "nbformat": 4,
 "nbformat_minor": 5
}
