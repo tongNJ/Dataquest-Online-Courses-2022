{
 "cells": [
  {
   "cell_type": "markdown",
   "metadata": {},
   "source": [
    "# Solving Complex Probability Problems\n",
    "\n",
    "With the concepts and techniques we've learned so far, we're now able to calculate empirical and theoretical probabilities for many kinds of events associated with any random experiment. There are, however, a few probability problems we cannot yet properly tackle using what we've learned:\n",
    "\n",
    "1. What is the probability that it takes three flips or more for a coin to land heads up?\n",
    "\n",
    "2. What is the probability of a coin landing heads up 18 times in a row?\n",
    "\n",
    "3. What is the probability of getting at least one 6 in four throws of a single six-sided die?\n",
    "\n",
    "4. What is the probability of getting at least one double-six in 24 throws of two six-sided dice?\n",
    "\n",
    "5. What is the probability of getting four aces in a row when drawing cards from a standard 52-card deck?\n",
    "\n",
    "We will develop new techniques to answer all five questions. "
   ]
  },
  {
   "cell_type": "markdown",
   "metadata": {},
   "source": [
    "**1. What is the probability that it takes three flips or more for a coin to land heads up?**\n",
    "\n",
    "We'll now build on what we learned in the previous screen and find the probability that it takes three flips or more for a coin to land heads up — we're going to call this event \"A.\"\n",
    "\n",
    "Event A (it takes three flips or more for a coin to land heads up) corresponds to the following outcomes, where each number represents the number of flips it takes until we first get heads up (number three, for example, says \"the coin first landed heads up on the third flip\"):\n",
    "\n",
    "A = {3,4,5,6,...,100,...}\n",
    "\n",
    "Notice event A contains an infinite number of outcomes. When we flip the coin, we could get heads up on the first flip, or the second, or the third, the fourth, the fifth and so forth — in principle, we could never get heads up.\n",
    "\n",
    "The opposite of event A (it takes less than three flips for the coin to land heads up), which we'll call \"non-A,\" has only two outcomes:\n",
    "\n",
    "non-A = {1,2}\n",
    "\n",
    "In this random experiment, either A or non-A will happen, so:\n",
    "\n",
    "P(A ∪ non-A) = P(A) + P(non-A) = 1\n",
    "\n",
    "so, P(A) = P(A ∪ non-A) - P(non-A)\n",
    "\n",
    "We can find P(A) indirectly by first finding P(non-A), and then substituting in the equation above.\n",
    "\n",
    "Recall event A happens if it takes three flips or more for a coin to land heads up. If we flip a coin twice and it lands heads up at least once, it means event non-A happens.\n",
    "\n",
    "This means finding P(non-A) is equivalent to finding the probability that a coin flipped twice lands heads up at least once. If we flip a coin twice, these are all the outcomes we can get: **{HH, HT, TH, TT}**\n",
    "\n",
    "**P(non-A) = {HH,HT,TH} / {HH, HT, TH, TT} = 3/4 = 0.75**\n",
    "\n",
    "**P(A) = 1 - P(non-A) = 1 - 0.75 = 0.25**\n",
    "\n"
   ]
  },
  {
   "cell_type": "code",
   "execution_count": null,
   "metadata": {},
   "outputs": [],
   "source": []
  }
 ],
 "metadata": {
  "kernelspec": {
   "display_name": "Python 3",
   "language": "python",
   "name": "python3"
  },
  "language_info": {
   "codemirror_mode": {
    "name": "ipython",
    "version": 3
   },
   "file_extension": ".py",
   "mimetype": "text/x-python",
   "name": "python",
   "nbconvert_exporter": "python",
   "pygments_lexer": "ipython3",
   "version": "3.7.3"
  }
 },
 "nbformat": 4,
 "nbformat_minor": 2
}
