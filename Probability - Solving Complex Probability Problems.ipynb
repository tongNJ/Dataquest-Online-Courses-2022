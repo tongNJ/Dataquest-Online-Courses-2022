{
 "cells": [
  {
   "cell_type": "markdown",
   "metadata": {},
   "source": [
    "# Solving Complex Probability Problems\n",
    "\n",
    "With the concepts and techniques we've learned so far, we're now able to calculate empirical and theoretical probabilities for many kinds of events associated with any random experiment. There are, however, a few probability problems we cannot yet properly tackle using what we've learned:\n",
    "\n",
    "1. What is the probability that it takes three flips or more for a coin to land heads up?\n",
    "\n",
    "2. What is the probability of a coin landing heads up 18 times in a row?\n",
    "\n",
    "3. What is the probability of getting at least one 6 in four throws of a single six-sided die?\n",
    "\n",
    "4. What is the probability of getting at least one double-six in 24 throws of two six-sided dice?\n",
    "\n",
    "5. What is the probability of getting four aces in a row when drawing cards from a standard 52-card deck?\n",
    "\n",
    "We will develop new techniques to answer all five questions. "
   ]
  },
  {
   "cell_type": "markdown",
   "metadata": {},
   "source": [
    "**1. What is the probability that it takes three flips or more for a coin to land heads up?**\n",
    "\n",
    "We'll now build on what we learned in the previous screen and find the probability that it takes three flips or more for a coin to land heads up — we're going to call this event \"A.\"\n",
    "\n",
    "Event A (it takes three flips or more for a coin to land heads up) corresponds to the following outcomes, where each number represents the number of flips it takes until we first get heads up (number three, for example, says \"the coin first landed heads up on the third flip\"):\n",
    "\n",
    "A = {3,4,5,6,...,100,...}\n",
    "\n",
    "Notice event A contains an infinite number of outcomes. When we flip the coin, we could get heads up on the first flip, or the second, or the third, the fourth, the fifth and so forth — in principle, we could never get heads up.\n",
    "\n",
    "The opposite of event A (it takes less than three flips for the coin to land heads up), which we'll call \"non-A,\" has only two outcomes:\n",
    "\n",
    "non-A = {1,2}\n",
    "\n",
    "In this random experiment, either A or non-A will happen, so:\n",
    "\n",
    "P(A ∪ non-A) = P(A) + P(non-A) = 1\n",
    "\n",
    "so, P(A) = P(A ∪ non-A) - P(non-A)\n",
    "\n",
    "We can find P(A) indirectly by first finding P(non-A), and then substituting in the equation above.\n",
    "\n",
    "Recall event A happens if it takes three flips or more for a coin to land heads up. If we flip a coin twice and it lands heads up at least once, it means event non-A happens.\n",
    "\n",
    "This means finding P(non-A) is equivalent to finding the probability that a coin flipped twice lands heads up at least once. If we flip a coin twice, these are all the outcomes we can get: **{HH, HT, TH, TT}**\n",
    "\n",
    "**P(non-A) = {HH,HT,TH} / {HH, HT, TH, TT} = 3/4 = 0.75**\n",
    "\n",
    "**P(A) = 1 - P(non-A) = 1 - 0.75 = 0.25**\n",
    "\n"
   ]
  },
  {
   "cell_type": "markdown",
   "metadata": {},
   "source": [
    "----------------------------------------------------------------------------------\n",
    "\n",
    "Consider the event \"getting a 2 when rolling a fair six-sided die,\" which we'll call \"B.\" Event B corresponds to the set B = {2}, and it can be represented on a Venn diagram like this:\n",
    "![probability-pic-3](https://raw.githubusercontent.com/tongNJ/Dataquest-Online-Courses-2022/main/Pictures/probability-pic-3.PNG)\n",
    "\n",
    "The event non-B is the opposite of B, and it corresponds to non-B = {1, 3, 4, 5, 6}. In set theory, the opposite of a set is called its **complement**. For instance, the opposite of set B is $B^{C}$, where the \"C\" in the superscript stands for \"complement.\"\n",
    "\n",
    "![probability-pic-4](https://raw.githubusercontent.com/tongNJ/Dataquest-Online-Courses-2022/main/Pictures/probability-pic-4.PNG)\n",
    "\n",
    "----------------------------------------------------------------------------------------\n",
    "\n"
   ]
  },
  {
   "cell_type": "markdown",
   "metadata": {},
   "source": [
    "**2. What is the probability of a coin landing heads up 18 times in a row?**\n",
    "\n",
    "Finding P(HH) means finding the probability that the coin lands heads up on the first flip (we'll call this event H1), and the coin lands heads up on the second flip (we'll call this event H2). So we want to find P(H1 and H2), or, using set notation, P(H1 ∩ H2).\n",
    "\n",
    "To find P(H1 ∩ H2), we can use a new rule called the **multiplication rule** of probability and multiply P(H1) by P(H2):\n",
    "\n",
    "P(H1∩H2)=P(H1)×P(H2)\n",
    "\n",
    "Assuming the coin is fair, P(H1) = 0.5 and P(H2) = 0.5, so:\n",
    "\n",
    "P(H1∩H2) = 0.5×0.5 = 0.25\n",
    "\n",
    "This is the same result we got from our previous approach. In more general terms, the multiplication rule says that for two events E1 and E2, the probability that both event E1 **and** E2 happen can be found by multiplying the probability of E1 by the probability of E2:\n",
    "\n",
    "P(E1∩E2) = P(E1) × P(E2)\n",
    "\n",
    "**The multiplication rule we learnt so far only works for independent event!!!**\n",
    "\n",
    "--------------------------------------------------------------------------------------------------\n",
    "\n"
   ]
  },
  {
   "cell_type": "markdown",
   "metadata": {},
   "source": [
    "**3. What is the probability of getting at least one 6 in four throws of a single six-sided die?**\n",
    "\n",
    "Let's say:\n",
    "\n",
    "Event A: the probablility of getting at least one 6 in four throws\n",
    "\n",
    "Event $A^{C}$: is the complement of Event A, which represents the probability of NOT getting any 6 in four throws\n",
    "\n",
    "P(A) = 1 - P($A^{C}$)\n",
    "\n",
    "P($A^{C}$) = $(5/6)^{4}$ = 0.482\n",
    "\n",
    "so, **P(A) = 1 - 0.482 = 0.518**\n",
    "\n",
    "------------------------------------------------------------------------------------------"
   ]
  },
  {
   "cell_type": "markdown",
   "metadata": {},
   "source": [
    "**4. What is the probability of getting at least one double-six in 24 throws of two six-sided dice?**\n",
    "\n",
    "Let's say:\n",
    "\n",
    "Event A: getting at least one double-six in 24 throws of two six-sided dices\n",
    "\n",
    "Event $A^{C}$: not getting any double-size in 24 throws of two six-sided dices\n",
    "\n",
    "P(A) = 1 - P($A^{C}$)\n",
    "\n",
    "We know each flip of two six-sided dices will have 36 different outcomes, a set of 36 outcomes,\n",
    "and double-six is one of the 36 outcomes in the set.\n",
    "\n",
    "P($A^{C}$) = $(5/6)^{24}$ = 0.509\n",
    "\n",
    "so, **P(A) = 1 - 0.509 = 0.491**\n",
    "\n",
    "-------------------------------------------------------------------------------------------------------\n"
   ]
  },
  {
   "cell_type": "markdown",
   "metadata": {},
   "source": [
    "**5. What is the probability of getting four aces in a row when drawing cards from a standard 52-card deck?**\n",
    "\n",
    "Let's assume we are sampling without replacement, which means we don't put the card back...\n",
    "\n",
    "- Probability of getting 1 ace when drawing cards = 4/52\n",
    "- Probability of getting 2nd ace when drawing cards = 3/51\n",
    "- Probability of getting 3rd ace when drawing cards = 2/50\n",
    "- Probability of getting 4th ace when drawing cards = 1/49\n",
    "\n",
    "Event A: getting four aces in a row \n",
    "\n",
    "**P(A) =  (4/52) * (3/51) * (2/50) * (1/49) = 0.0000369**\n"
   ]
  },
  {
   "cell_type": "code",
   "execution_count": 6,
   "metadata": {},
   "outputs": [
    {
     "data": {
      "text/plain": [
       "0.00036937852063902485"
      ]
     },
     "execution_count": 6,
     "metadata": {},
     "output_type": "execute_result"
    }
   ],
   "source": [
    "(4/52)*(3/51)*(2/50)*(1/49)*100"
   ]
  },
  {
   "cell_type": "code",
   "execution_count": 9,
   "metadata": {},
   "outputs": [
    {
     "data": {
      "text/plain": [
       "1.4901161193847656e-08"
      ]
     },
     "execution_count": 9,
     "metadata": {},
     "output_type": "execute_result"
    }
   ],
   "source": [
    "1/(4**13)"
   ]
  },
  {
   "cell_type": "code",
   "execution_count": 8,
   "metadata": {},
   "outputs": [
    {
     "data": {
      "text/plain": [
       "13.0"
      ]
     },
     "execution_count": 8,
     "metadata": {},
     "output_type": "execute_result"
    }
   ],
   "source": [
    "52/4"
   ]
  },
  {
   "cell_type": "code",
   "execution_count": null,
   "metadata": {},
   "outputs": [],
   "source": []
  }
 ],
 "metadata": {
  "kernelspec": {
   "display_name": "Python 3",
   "language": "python",
   "name": "python3"
  },
  "language_info": {
   "codemirror_mode": {
    "name": "ipython",
    "version": 3
   },
   "file_extension": ".py",
   "mimetype": "text/x-python",
   "name": "python",
   "nbconvert_exporter": "python",
   "pygments_lexer": "ipython3",
   "version": "3.7.3"
  }
 },
 "nbformat": 4,
 "nbformat_minor": 2
}
