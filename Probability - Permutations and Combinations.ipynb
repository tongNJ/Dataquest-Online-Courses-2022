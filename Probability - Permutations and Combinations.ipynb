{
 "cells": [
  {
   "cell_type": "markdown",
   "metadata": {},
   "source": [
    "# Permutations and Combinations\n",
    "\n",
    "In this lesson, we'll direct our focus not so much toward calculating probabilities, but toward calculating the number of outcomes associated with various random experiments. We'll learn some powerful counting techniques that will allow us to answer questions like:\n",
    "\n",
    "- What is the probability of cracking a 4-digit PIN code using the code 8362?\n",
    "\n",
    "- What is the probability of cracking a 6-digit PIN code using the code 348821?\n",
    "\n",
    "- What is the probability of winning the big prize in a state lottery if we use the numbers (3, 20, 37, 44, 45, 49)?\n",
    "\n",
    "\n",
    "We begin with considering a composite experiment A1A2 made of two different experiments, which we denote by \"A1\" and \"A2\":\n",
    "\n",
    "- A1: flipping a coin\n",
    "\n",
    "- A2: throwing a six-sided die\n",
    "\n",
    "There are 12 possible outcomes associated with A1A2:\n",
    "\n",
    "\n"
   ]
  },
  {
   "cell_type": "code",
   "execution_count": null,
   "metadata": {},
   "outputs": [],
   "source": []
  }
 ],
 "metadata": {
  "kernelspec": {
   "display_name": "Python 3",
   "language": "python",
   "name": "python3"
  },
  "language_info": {
   "codemirror_mode": {
    "name": "ipython",
    "version": 3
   },
   "file_extension": ".py",
   "mimetype": "text/x-python",
   "name": "python",
   "nbconvert_exporter": "python",
   "pygments_lexer": "ipython3",
   "version": "3.7.3"
  }
 },
 "nbformat": 4,
 "nbformat_minor": 2
}
