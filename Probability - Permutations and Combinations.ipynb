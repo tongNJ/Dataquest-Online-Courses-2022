{
 "cells": [
  {
   "cell_type": "markdown",
   "metadata": {},
   "source": [
    "# Permutations and Combinations\n",
    "\n",
    "In this lesson, we'll direct our focus not so much toward calculating probabilities, but toward calculating the number of outcomes associated with various random experiments. We'll learn some powerful counting techniques that will allow us to answer questions like:\n",
    "\n",
    "- What is the probability of cracking a 4-digit PIN code using the code 8362?\n",
    "\n",
    "- What is the probability of cracking a 6-digit PIN code using the code 348821?\n",
    "\n",
    "- What is the probability of winning the big prize in a state lottery if we use the numbers (3, 20, 37, 44, 45, 49)?\n",
    "\n",
    "\n",
    "We begin with considering a composite experiment A1A2 made of two different experiments, which we denote by \"A1\" and \"A2\":\n",
    "\n",
    "- A1: flipping a coin\n",
    "\n",
    "- A2: throwing a six-sided die\n",
    "\n",
    "There are 12 possible outcomes associated with A1A2:\n",
    "\n",
    "![probability-pic-5](https://raw.githubusercontent.com/tongNJ/Dataquest-Online-Courses-2022/main/Pictures/probability-pic-5.PNG)\n",
    "\n",
    "**Number of outcomes  = a ⋅ b = 2 ⋅ 6 = 12**\n",
    "\n"
   ]
  },
  {
   "cell_type": "markdown",
   "metadata": {},
   "source": [
    "### Test - Let's say we're interested in finding the probability of cracking a 4-digit PIN code using the code 8362 (we chose 8362 randomly).\n",
    "\n",
    "#### This is the example of sample WITH REPLACEMENT!\n",
    "\n",
    "- Total number of outcomes of 4-digit PIN Code = 10 * 10 * 10 * 10 = 10000\n",
    "\n",
    "- The probability of cracking 4-digit Pin with 8362 = 1/10000 = 0.0001\n",
    "\n",
    "In this case, each PIN code represents a certain arrangement where the order of the individual digits matters. Because order matters, the code 1289 is different than the code 9821, even though both are composed of the same four digits: 1, 2, 8 and 9. If the order of digits didn't matter, 1289 would be the same as 9821.\n",
    "\n",
    "\n",
    "More generally, a certain arrangement where the order of the individual elements matters is called a **permutation**. For instance, there are 10,000 possible permutations for a 4-digit PIN code (in other words, there are 10,000 digit arrangements where the order of the digits matters).\n",
    "\n",
    "\n",
    "\n",
    "---------------------------------------------------------------------------------------------------------------------"
   ]
  },
  {
   "cell_type": "markdown",
   "metadata": {},
   "source": [
    "Let's now turn our attention to another example, where we're interested in finding the total number of possible permutations for the numbers {5, 6, 7} — one possible permutation would be 567, another 657, and so on.\n",
    "\n",
    "However, this time we want to form the permutations by sampling ***without replacement***. For instance, if we sample once without replacement from the set {5, 6, 7} and get a 5, we don't put the 5 back in the set, and only {6, 7} remains for the second round of sampling.\n",
    "\n",
    "To form a permutation like 567 or 657, we need to sample three times from the set {5, 6, 7}. Since we sample three times, we can break down the entire process into three experiments:\n",
    "\n",
    "- E1, which has three possible outcomes: {5, 6, 7}\n",
    "\n",
    "- E2, which has two possible outcomes left (because we sample without replacement we leave out the element we got at E1; if we get a 6 at E1, only {5, 7} is left for E2)\n",
    "\n",
    "- E3, which has one possible outcome left\n",
    "\n",
    "Using the extended rule of product, we see we have a total of six outcomes for the composite experiment E1E2E3:\n",
    "\n",
    "**Number of outcomes  = n! = 3! = 3 ⋅ 2 ⋅ 1 = 6**\n",
    "\n",
    "### REMEMBER!  SAMPLE WITHOUT REPLACEMENT!!\n",
    "\n",
    "\n",
    "![probability-pic-6](https://raw.githubusercontent.com/tongNJ/Dataquest-Online-Courses-2022/main/Pictures/probability-pic-6.PNG)\n",
    "\n",
    "\n",
    "To summarize, when we sample without replacement, the number of permutations is given by the formula:\n",
    "\n",
    "**Permutation = n!**"
   ]
  },
  {
   "cell_type": "code",
   "execution_count": 14,
   "metadata": {},
   "outputs": [],
   "source": [
    "# the function I wrote\n",
    "def factorial(x):\n",
    "    y = 1\n",
    "    while x > 1:\n",
    "        y = y * x * (x-1)\n",
    "        x = x-2\n",
    "    return y\n",
    "\n",
    "#########################################################\n",
    "\n",
    "# the function from answer sheet\n",
    "def factorial(n):\n",
    "    final_product = 1\n",
    "    for i in range(n,0,-1):\n",
    "        final_product *= i\n",
    "    return final_product"
   ]
  },
  {
   "cell_type": "code",
   "execution_count": 15,
   "metadata": {},
   "outputs": [
    {
     "data": {
      "text/plain": [
       "120"
      ]
     },
     "execution_count": 15,
     "metadata": {},
     "output_type": "execute_result"
    }
   ],
   "source": [
    "factorial(5)"
   ]
  },
  {
   "cell_type": "markdown",
   "metadata": {},
   "source": [
    "### Texas hold'em\n",
    "\n",
    "Taxas hold'em, which is a variation of poker, players are interested in having a winning 5-card poker hand. To find the total number of possible permutations for a 5-card poker hand, we can start by considering we're sampling without replacement five times from a standard 52-card deck:\n",
    "\n",
    "\n",
    "E1 = 52 outcomes\n",
    "E2 = 51 outcomes\n",
    "E3 = 50 outcomes\n",
    "E4 = 49 outcomes\n",
    "E5 = 48 outcomes\n",
    "\n",
    "So total possible permutatins = 52 * 51 * 50 * 49 * 48 = 311,875,200 outcomes!!\n",
    "\n",
    "More generally, when we have a group of n objects, but we're taking only k objects, the number of permutations (which we abbreviate as \"P\") is:\n",
    "\n",
    "**$_{n}P_{k}$ = n ⋅ (n−1) ⋅ (n−2) ⋅ … ⋅ (n−k+1)**\n",
    "\n",
    "### $_{n}P_{k}$ = n!  /  (n - k)!"
   ]
  },
  {
   "cell_type": "code",
   "execution_count": 20,
   "metadata": {},
   "outputs": [],
   "source": [
    "def permutation(n,k):\n",
    "    n_P_k = factorial(n) / factorial(n-k)\n",
    "    return n_P_k"
   ]
  },
  {
   "cell_type": "code",
   "execution_count": 21,
   "metadata": {},
   "outputs": [
    {
     "data": {
      "text/plain": [
       "311875200.0"
      ]
     },
     "execution_count": 21,
     "metadata": {},
     "output_type": "execute_result"
    }
   ],
   "source": [
    "permutation(52,5)"
   ]
  },
  {
   "cell_type": "markdown",
   "metadata": {},
   "source": [
    "#### Test\n",
    "A password manager software generates 16-character passwords from a list of 127 characters (the list contains numbers, letters, or other symbols). Assume the sampling from the list is done randomly and without replacement, and find the probability of cracking a password generated by this software if we're using the password \"@*AmgJ(UL3Yl726x\", which has 16 characters. Assign your answer to p_crack_pass."
   ]
  },
  {
   "cell_type": "code",
   "execution_count": 22,
   "metadata": {},
   "outputs": [
    {
     "name": "stdout",
     "output_type": "stream",
     "text": [
      "5.851813813338265e-34\n"
     ]
    }
   ],
   "source": [
    "p_crack_pass = 1/permutation(n=127,k=16)\n",
    "print(p_crack_pass)"
   ]
  },
  {
   "cell_type": "markdown",
   "metadata": {},
   "source": [
    "### Cont. Texas hold'em\n",
    "\n",
    "Previously, we mentioned players in Texas hold 'em are interested in having a winning 5-card poker hand. To find the number of permutations for a 5-card poker hand, we learned to use this formula:\n",
    "\n",
    "However, remember that a permutation is an arrangement of elements where order matters. The three 5-card hands we see below, for instance, have the same cards and yet are considered different permutations (arrangements) because order matters.\n",
    "\n",
    "![probability-pic-7](https://raw.githubusercontent.com/tongNJ/Dataquest-Online-Courses-2022/main/Pictures/probability-pic-7.PNG)\n",
    "\n",
    "In a poker game, however, the order of cards is not important, so the three hands above would be considered identical. Consequently, we might be interested instead in ignoring the order and finding the number of unique card arrangements.\n",
    "\n",
    "More generally, if the order of the elements in an arrangement doesn't matter, the arrangement is called a **combination**. Combinations are the opposite of permutations; the order of the elements does not matter for combinations, whereas the order does matter for permutations.\n",
    "\n",
    "To find the number of unique card arrangements, we begin with the observation that each unique 5-card arrangement has 5! = 120 permutations. In other words, the five cards of a unique hand can be ordered in 120 different ways. In the diagram above, we see just three out the 120 permutations of that unique hand.\n",
    "\n",
    "If each unique hand can be arranged in 5! = 120 ways and there are C total unique hands, then C ⋅ 5! gives us the total number of permutations of a 5-card hand:\n",
    "\n",
    "**C ⋅ 5! = $_{52}P_{5}$**\n",
    "\n",
    "**C = $_{52}P_{5}$  /  5!**"
   ]
  },
  {
   "cell_type": "code",
   "execution_count": 23,
   "metadata": {},
   "outputs": [
    {
     "data": {
      "text/plain": [
       "2598960.0"
      ]
     },
     "execution_count": 23,
     "metadata": {},
     "output_type": "execute_result"
    }
   ],
   "source": [
    "unique_combination = permutation(52,5)/factorial(5)"
   ]
  },
  {
   "cell_type": "markdown",
   "metadata": {},
   "source": [
    "For a state lottery, six numbers are drawn randomly and without replacement from a set containing numbers from 1 to 49. Using the factorial() and the permutation() functions, find the total number of unique 6-number arrangements that could result. Assign your answer to c_lottery."
   ]
  },
  {
   "cell_type": "code",
   "execution_count": 26,
   "metadata": {},
   "outputs": [
    {
     "name": "stdout",
     "output_type": "stream",
     "text": [
      "the state lottery has 13983816.0 number of unique combinations, and the prability of winner with one set of number is 7.1511e-06%\n"
     ]
    }
   ],
   "source": [
    "c = permutation(49,6) / factorial(6)\n",
    "print(f'the state lottery has {c} number of unique combinations, and the prability of winner with one set of number is {round(100/c,10)}%')"
   ]
  },
  {
   "cell_type": "code",
   "execution_count": null,
   "metadata": {},
   "outputs": [],
   "source": []
  }
 ],
 "metadata": {
  "kernelspec": {
   "display_name": "Python 3",
   "language": "python",
   "name": "python3"
  },
  "language_info": {
   "codemirror_mode": {
    "name": "ipython",
    "version": 3
   },
   "file_extension": ".py",
   "mimetype": "text/x-python",
   "name": "python",
   "nbconvert_exporter": "python",
   "pygments_lexer": "ipython3",
   "version": "3.7.3"
  }
 },
 "nbformat": 4,
 "nbformat_minor": 2
}
