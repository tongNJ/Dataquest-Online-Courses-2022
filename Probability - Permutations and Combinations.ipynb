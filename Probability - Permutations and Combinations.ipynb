{
 "cells": [
  {
   "cell_type": "markdown",
   "metadata": {},
   "source": [
    "# Permutations and Combinations\n",
    "\n",
    "In this lesson, we'll direct our focus not so much toward calculating probabilities, but toward calculating the number of outcomes associated with various random experiments. We'll learn some powerful counting techniques that will allow us to answer questions like:\n",
    "\n",
    "- What is the probability of cracking a 4-digit PIN code using the code 8362?\n",
    "\n",
    "- What is the probability of cracking a 6-digit PIN code using the code 348821?\n",
    "\n",
    "- What is the probability of winning the big prize in a state lottery if we use the numbers (3, 20, 37, 44, 45, 49)?\n",
    "\n",
    "\n",
    "We begin with considering a composite experiment A1A2 made of two different experiments, which we denote by \"A1\" and \"A2\":\n",
    "\n",
    "- A1: flipping a coin\n",
    "\n",
    "- A2: throwing a six-sided die\n",
    "\n",
    "There are 12 possible outcomes associated with A1A2:\n",
    "\n",
    "![probability-pic-5](https://raw.githubusercontent.com/tongNJ/Dataquest-Online-Courses-2022/main/Pictures/probability-pic-5.PNG)\n",
    "\n",
    "**Number of outcomes  = a . b = 2 x 6 = 12**\n",
    "\n"
   ]
  },
  {
   "cell_type": "markdown",
   "metadata": {},
   "source": [
    "### Test - Let's say we're interested in finding the probability of cracking a 4-digit PIN code using the code 8362 (we chose 8362 randomly).\n",
    "\n",
    "- Total number of outcomes of 4-digit PIN Code = 10 * 10 * 10 * 10 = 10000\n",
    "\n",
    "- The probability of cracking 4-digit Pin with 8362 = 1/10000 = 0.0001\n",
    "\n",
    "In this case, each PIN code represents a certain arrangement where the order of the individual digits matters. Because order matters, the code 1289 is different than the code 9821, even though both are composed of the same four digits: 1, 2, 8 and 9. If the order of digits didn't matter, 1289 would be the same as 9821.\n",
    "\n",
    "\n",
    "More generally, a certain arrangement where the order of the individual elements matters is called a **permutation**. For instance, there are 10,000 possible permutations for a 4-digit PIN code (in other words, there are 10,000 digit arrangements where the order of the digits matters).\n",
    "\n",
    "\n",
    "\n",
    "---------------------------------------------------------------------------------------------------------------------"
   ]
  },
  {
   "cell_type": "markdown",
   "metadata": {},
   "source": [
    "Let's now turn our attention to another example, where we're interested in finding the total number of possible permutations for the numbers {5, 6, 7} — one possible permutation would be 567, another 657, and so on.\n",
    "\n",
    "However, this time we want to form the permutations by sampling ***without replacement***. For instance, if we sample once without replacement from the set {5, 6, 7} and get a 5, we don't put the 5 back in the set, and only {6, 7} remains for the second round of sampling.\n",
    "\n",
    "To form a permutation like 567 or 657, we need to sample three times from the set {5, 6, 7}. Since we sample three times, we can break down the entire process into three experiments:\n",
    "\n",
    "- E1, which has three possible outcomes: {5, 6, 7}\n",
    "\n",
    "- E2, which has two possible outcomes left (because we sample without replacement we leave out the element we got at E1; if we get a 6 at E1, only {5, 7} is left for E2)\n",
    "\n",
    "- E3, which has one possible outcome left\n",
    "\n",
    "Using the extended rule of product, we see we have a total of six outcomes for the composite experiment E1E2E3:\n",
    "\n",
    "**Number of outcomes = 3 ⋅ 2 ⋅ 1 = 6**"
   ]
  },
  {
   "cell_type": "code",
   "execution_count": null,
   "metadata": {},
   "outputs": [],
   "source": []
  },
  {
   "cell_type": "code",
   "execution_count": 1,
   "metadata": {},
   "outputs": [
    {
     "data": {
      "text/plain": [
       "0.0001"
      ]
     },
     "execution_count": 1,
     "metadata": {},
     "output_type": "execute_result"
    }
   ],
   "source": [
    "1/10000"
   ]
  },
  {
   "cell_type": "code",
   "execution_count": null,
   "metadata": {},
   "outputs": [],
   "source": []
  }
 ],
 "metadata": {
  "kernelspec": {
   "display_name": "Python 3",
   "language": "python",
   "name": "python3"
  },
  "language_info": {
   "codemirror_mode": {
    "name": "ipython",
    "version": 3
   },
   "file_extension": ".py",
   "mimetype": "text/x-python",
   "name": "python",
   "nbconvert_exporter": "python",
   "pygments_lexer": "ipython3",
   "version": "3.7.3"
  }
 },
 "nbformat": 4,
 "nbformat_minor": 2
}
