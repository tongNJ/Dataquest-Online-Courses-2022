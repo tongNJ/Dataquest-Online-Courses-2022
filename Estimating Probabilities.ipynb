{
 "cells": [
  {
   "cell_type": "markdown",
   "metadata": {},
   "source": [
    "# Estimating Probabilities\n",
    "\n",
    "Science and engineering have seen amazing progress over the last few centuries. We are now able to launch a spacecraft from Earth and predict it will arrive on Mars at a certain time and location. However, it looks like not everything is as easy to predict as the trajectory of a spacecraft.\n",
    "\n",
    "Take **tossing a coin**, for instance — as ridiculous as it may sound, we're not able to predict with certainty whether the coin is going to land on heads or tails. And that's because a coin toss is a very complex phenomenon. The outcome depends on mutiple factors — the strength and the angle of the toss, the friction of the coin with air, the landing angle, the surface the coin lands on, etc.\n",
    "\n",
    "\n",
    "Although we can't tell beforehand the outcome of a coin toss, we'll learn in this course that we're able to at least estimate the probability (the chances) of a coin landing on heads or tails. This may sound like a limitation, and in a way it is, but estimating **probabilities** is an extremely powerful technique that can enable us to build non-trivial applications, including:\n",
    "\n",
    "- Image recognition systems (used for self-driving cars, medical diagnosis, etc.)\n",
    "\n",
    "- Spam filters for inboxes\n",
    "\n",
    "- Statistical hypothesis tests\n",
    "\n",
    "Throughout this course, we'll learn:\n",
    "\n",
    "- How to estimate probabilities theoretically and empirically.\n",
    "\n",
    "- What are the fundamental rules of probability.\n",
    "\n",
    "- Counting techniques — tree diagrams, the rule of product, permutations, and combinations."
   ]
  },
  {
   "cell_type": "markdown",
   "metadata": {},
   "source": [
    "Generally, for any event **E** (like a coin landing heads up), we can find its probability by using the following formula:\n",
    "\n",
    "    P(E) = number of times event E happened / number of times we repeated the experiment\n",
    "    \n",
    "When we calculate the probability of an event by performing an experiment one or more times, we calculate the **experimental** — or **empirical probability** — of the event. \n",
    "\n",
    "Let's say we tossed a coin 300 times, and found that P(H) = 46%. Then, we tossed a coin 5,000 times and found that P(H) = 51%. But if different number of tosses give different probability values, then what's the true value of P(H)?\n",
    "\n",
    "To answer this question, we're going to do a thought experiment where *we assume we already know that the true probability of P(H) is 50%*. We'll also assume the chances are the same for getting tails, so P(T) = 50% (P(T) is an abbreviation for P(Tails)).\n",
    "\n",
    "Using these assumptions, we're going to use Python to simulate a coin toss 10,000 times and watch how P(H) evolves as the number of tosses increases. We begin by writing a function named coin_toss() that can simulate a single coin toss:"
   ]
  },
  {
   "cell_type": "code",
   "execution_count": 88,
   "metadata": {},
   "outputs": [],
   "source": [
    "import numpy as np\n",
    "import matplotlib.pyplot as plt\n",
    "%matplotlib inline"
   ]
  },
  {
   "cell_type": "code",
   "execution_count": 84,
   "metadata": {},
   "outputs": [],
   "source": [
    "# the function I wrote which works fine\n",
    "def coin_toss(loops,seed):\n",
    "    import numpy as np\n",
    "    np.random.seed(seed)\n",
    "    p_head_list = []\n",
    "    head_odd_sum = 0\n",
    "    for each_loop in range(1,loops):\n",
    "        head_odd = np.random.randint(0,2) # 1 = head and 0 = tail\n",
    "        head_odd_sum +=head_odd\n",
    "        p_head = head_odd_sum/each_loop\n",
    "        p_head_list.append(p_head)\n",
    "    return p_head_list\n",
    "        \n",
    "    \n",
    "        "
   ]
  },
  {
   "cell_type": "code",
   "execution_count": 86,
   "metadata": {
    "scrolled": true
   },
   "outputs": [
    {
     "data": {
      "text/plain": [
       "0.49504157625238343"
      ]
     },
     "execution_count": 86,
     "metadata": {},
     "output_type": "execute_result"
    }
   ],
   "source": [
    "a = coin_toss(10000,seed=1)\n",
    "np.mean(a)"
   ]
  },
  {
   "cell_type": "code",
   "execution_count": 81,
   "metadata": {},
   "outputs": [],
   "source": [
    "# the function provided by the class\n",
    "def coin_toss():\n",
    "    if np.random.randint(0,2) ==1:\n",
    "        return 'HEAD'\n",
    "    else:\n",
    "        return 'TAIL'"
   ]
  },
  {
   "cell_type": "code",
   "execution_count": 83,
   "metadata": {},
   "outputs": [
    {
     "data": {
      "text/plain": [
       "0.4950420120947581"
      ]
     },
     "execution_count": 83,
     "metadata": {},
     "output_type": "execute_result"
    }
   ],
   "source": [
    "np.random.seed(1)\n",
    "probabilities = []\n",
    "heads = 0\n",
    "\n",
    "for n in range(1, 10001):\n",
    "    outcome = coin_toss()\n",
    "    if outcome == 'HEAD':\n",
    "        heads +=1\n",
    "    current_probability = heads / n\n",
    "    probabilities.append(current_probability)\n",
    "\n",
    "np.mean(probabilities)\n"
   ]
  },
  {
   "cell_type": "code",
   "execution_count": 117,
   "metadata": {},
   "outputs": [
    {
     "data": {
      "text/plain": [
       "array([ 0,  1,  2,  3,  4,  5,  6,  7,  8,  9, 10, 11, 12, 13, 14, 15, 16,\n",
       "       17, 18, 19, 20, 21, 22, 23, 24, 25, 26, 27, 28, 29, 30, 31, 32, 33,\n",
       "       34, 35, 36, 37, 38, 39, 40, 41, 42, 43, 44, 45, 46, 47, 48, 49, 50,\n",
       "       51, 52, 53, 54, 55, 56, 57, 58, 59, 60, 61, 62, 63, 64, 65, 66, 67,\n",
       "       68, 69, 70, 71, 72, 73, 74, 75, 76, 77, 78, 79, 80, 81, 82, 83, 84,\n",
       "       85, 86, 87, 88, 89, 90, 91, 92, 93, 94, 95, 96, 97, 98, 99])"
      ]
     },
     "execution_count": 117,
     "metadata": {},
     "output_type": "execute_result"
    }
   ],
   "source": [
    "np.arange(0,100)"
   ]
  },
  {
   "cell_type": "code",
   "execution_count": 128,
   "metadata": {},
   "outputs": [
    {
     "data": {
      "text/plain": [
       "(0.0, 10000.0)"
      ]
     },
     "execution_count": 128,
     "metadata": {},
     "output_type": "execute_result"
    },
    {
     "data": {
      "image/png": "[encoded data removed]",
      "text/plain": [
       "<Figure size 1080x576 with 1 Axes>"
      ]
     },
     "metadata": {
      "needs_background": "light"
     },
     "output_type": "display_data"
    }
   ],
   "source": [
    "x = np.arange(0,10000)\n",
    "fig,ax = plt.subplots(figsize=(15,8))\n",
    "ax.plot( x,probabilities,label = 'P(H)')\n",
    "plt.axhline(0.5,color='red',label='True P(H)',linestyle='--')\n",
    "plt.legend()\n",
    "plt.grid()\n",
    "# ax.set(xlim=(0,10000),ylabel='P(H)',xlabel='Number of Coin Tosses',fontsize=15)\n",
    "ax.set_xlabel('Number of Coin Tosses',fontsize=15)\n",
    "ax.set_ylabel('P(H)',fontsize=15)\n",
    "ax.set_xlim(0,10000)"
   ]
  },
  {
   "cell_type": "markdown",
   "metadata": {},
   "source": [
    "Above, we see that for the first 1,000 tosses or so, the value of P(H) varies a lot, with a maximum of 1.0 and a minimum of approximately 0.45. However, as the number of tosses increases, the value of P(H) tends to stabilize."
   ]
  },
  {
   "cell_type": "markdown",
   "metadata": {},
   "source": [
    "An easier way to estimate probabilities is to start with the assumption that the outcomes of a random experiment have **equal chances of occurring**. This allows us to use the following formula to calculate the probability of an event E:\n",
    "\n",
    "~~**P(E) = 1 / (total number of possible outcome)**~~\n",
    "\n",
    "When we calculate the probability of an event under the assumption that the outcomes have equal chances of occurring, we say that we're calculating the **theoretical probability** of an event.\n",
    "\n",
    "- So far, we've repeatedly used the terms **\"event\"** and **\"outcome,\"** and we need to add a few clarifications. An **outcome** is any result that a random experiment may terminate in. For instance, all the possible outcomes of rolling a six-sided die are 1, 2, 3, 4, 5, and 6. An **event**, however, has a richer meaning and can include more than one outcome (or even zero outcomes):\n",
    "  \n",
    "  - The event that we'll get an odd number when we roll a six-sided die — this event includes the outcomes 1, 3, and 5.\n",
    "  \n",
    "  - The event that we'll get a number less than 5 but greater than 1 when we roll a six-sided die — this event includes the outcomes 2, 3, and 4.\n",
    "  \n",
    "  - The event that we'll get a number greater than 20 when we roll a six-sided die — this event doesn't include any of the possible outcomes corresponding to rolling a six-sided die.\n",
    "\n",
    "To fix this problem, we need to update the formula above to:\n",
    "\n",
    "**P(E) = number of successful outcomes / total number of possible outcomes**"
   ]
  },
  {
   "cell_type": "markdown",
   "metadata": {},
   "source": []
  }
 ],
 "metadata": {
  "kernelspec": {
   "display_name": "Python 3",
   "language": "python",
   "name": "python3"
  },
  "language_info": {
   "codemirror_mode": {
    "name": "ipython",
    "version": 3
   },
   "file_extension": ".py",
   "mimetype": "text/x-python",
   "name": "python",
   "nbconvert_exporter": "python",
   "pygments_lexer": "ipython3",
   "version": "3.7.3"
  }
 },
 "nbformat": 4,
 "nbformat_minor": 2
}
